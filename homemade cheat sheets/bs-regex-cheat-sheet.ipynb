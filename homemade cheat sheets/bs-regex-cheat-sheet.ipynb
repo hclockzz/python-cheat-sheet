{
 "cells": [
  {
   "cell_type": "markdown",
   "id": "olympic-retention",
   "metadata": {},
   "source": [
    "# BeautifulSoap Cheat Sheet"
   ]
  },
  {
   "cell_type": "markdown",
   "id": "available-classroom",
   "metadata": {},
   "source": [
    "## Convert between html"
   ]
  },
  {
   "cell_type": "code",
   "execution_count": 18,
   "id": "abroad-spank",
   "metadata": {},
   "outputs": [
    {
     "data": {
      "text/plain": [
       "<i></i>"
      ]
     },
     "execution_count": 18,
     "metadata": {},
     "output_type": "execute_result"
    }
   ],
   "source": [
    "from bs4 import BeautifulSoup\n",
    "\n",
    "markup = '<a href=\"http://example.com/\">I linked to <i>example.com</i></a>'\n",
    "soup = BeautifulSoup(markup, 'html.parser')\n",
    "a_tag = soup.a\n",
    "a_tag.i.unwrap()"
   ]
  },
  {
   "cell_type": "code",
   "execution_count": 19,
   "id": "ethical-column",
   "metadata": {},
   "outputs": [
    {
     "data": {
      "text/plain": [
       "'<a href=\"http://example.com/\">I linked to example.com</a>'"
      ]
     },
     "execution_count": 19,
     "metadata": {},
     "output_type": "execute_result"
    }
   ],
   "source": [
    "soup.decode(formatter=None)"
   ]
  },
  {
   "cell_type": "markdown",
   "id": "biblical-thursday",
   "metadata": {},
   "source": [
    "## To delete html tags\n",
    "- clear()\n",
    "- extract()\n",
    "- unwrap()"
   ]
  },
  {
   "cell_type": "code",
   "execution_count": 18,
   "id": "bridal-rachel",
   "metadata": {},
   "outputs": [
    {
     "data": {
      "text/plain": [
       "<a href=\"http://example.com/\">I linked to <i>example.com</i></a>"
      ]
     },
     "execution_count": 18,
     "metadata": {},
     "output_type": "execute_result"
    }
   ],
   "source": [
    "from bs4 import BeautifulSoup\n",
    "\n",
    "markup = '<a href=\"http://example.com/\">I linked to <i>example.com</i></a>'\n",
    "soup = BeautifulSoup(markup, 'html.parser')\n",
    "a_tag = soup.a\n",
    "a_tag"
   ]
  },
  {
   "cell_type": "code",
   "execution_count": 4,
   "id": "apart-barbados",
   "metadata": {},
   "outputs": [
    {
     "data": {
      "text/plain": [
       "<i>example.com</i>"
      ]
     },
     "execution_count": 4,
     "metadata": {},
     "output_type": "execute_result"
    }
   ],
   "source": [
    "i_tag = soup.i\n",
    "i_tag"
   ]
  },
  {
   "cell_type": "code",
   "execution_count": 5,
   "id": "average-weekly",
   "metadata": {},
   "outputs": [
    {
     "data": {
      "text/plain": [
       "<i></i>"
      ]
     },
     "execution_count": 5,
     "metadata": {},
     "output_type": "execute_result"
    }
   ],
   "source": [
    "i_tag.clear()\n",
    "i_tag"
   ]
  },
  {
   "cell_type": "code",
   "execution_count": 6,
   "id": "hungarian-marathon",
   "metadata": {},
   "outputs": [
    {
     "data": {
      "text/plain": [
       "<a href=\"http://example.com/\">I linked to <i></i></a>"
      ]
     },
     "execution_count": 6,
     "metadata": {},
     "output_type": "execute_result"
    }
   ],
   "source": [
    "a_tag"
   ]
  },
  {
   "cell_type": "code",
   "execution_count": 7,
   "id": "integrated-nickel",
   "metadata": {},
   "outputs": [
    {
     "data": {
      "text/plain": [
       "<i></i>"
      ]
     },
     "execution_count": 7,
     "metadata": {},
     "output_type": "execute_result"
    }
   ],
   "source": [
    "i_tag.extract()\n",
    "i_tag"
   ]
  },
  {
   "cell_type": "code",
   "execution_count": 8,
   "id": "hourly-basin",
   "metadata": {},
   "outputs": [
    {
     "data": {
      "text/plain": [
       "<a href=\"http://example.com/\">I linked to </a>"
      ]
     },
     "execution_count": 8,
     "metadata": {},
     "output_type": "execute_result"
    }
   ],
   "source": [
    "a_tag"
   ]
  },
  {
   "cell_type": "code",
   "execution_count": 9,
   "id": "greatest-importance",
   "metadata": {},
   "outputs": [
    {
     "data": {
      "text/plain": [
       "<a href=\"http://example.com/\">I linked to <i>example.com</i></a>"
      ]
     },
     "execution_count": 9,
     "metadata": {},
     "output_type": "execute_result"
    }
   ],
   "source": [
    "markup = '<a href=\"http://example.com/\">I linked to <i>example.com</i></a>'\n",
    "soup = BeautifulSoup(markup, 'html.parser')\n",
    "a_tag = soup.a\n",
    "a_tag"
   ]
  },
  {
   "cell_type": "code",
   "execution_count": 10,
   "id": "aboriginal-paste",
   "metadata": {},
   "outputs": [
    {
     "data": {
      "text/plain": [
       "<i>example.com</i>"
      ]
     },
     "execution_count": 10,
     "metadata": {},
     "output_type": "execute_result"
    }
   ],
   "source": [
    "i_tag = soup.i\n",
    "i_tag"
   ]
  },
  {
   "cell_type": "code",
   "execution_count": 11,
   "id": "settled-council",
   "metadata": {},
   "outputs": [
    {
     "data": {
      "text/plain": [
       "<i></i>"
      ]
     },
     "execution_count": 11,
     "metadata": {},
     "output_type": "execute_result"
    }
   ],
   "source": [
    "i_tag.unwrap()\n",
    "i_tag"
   ]
  },
  {
   "cell_type": "code",
   "execution_count": 12,
   "id": "comparable-impact",
   "metadata": {},
   "outputs": [
    {
     "data": {
      "text/plain": [
       "<a href=\"http://example.com/\">I linked to example.com</a>"
      ]
     },
     "execution_count": 12,
     "metadata": {},
     "output_type": "execute_result"
    }
   ],
   "source": [
    "a_tag"
   ]
  },
  {
   "cell_type": "code",
   "execution_count": null,
   "id": "alone-uniform",
   "metadata": {},
   "outputs": [],
   "source": []
  },
  {
   "cell_type": "markdown",
   "id": "invalid-physics",
   "metadata": {},
   "source": [
    "## Check html tags\n",
    "- get the name: Tag.name\n",
    "- get all content about the element: Tag.contents\n",
    "- check if the elements are html tag: isinstance(elem, Tag)"
   ]
  },
  {
   "cell_type": "code",
   "execution_count": 15,
   "id": "weighted-settle",
   "metadata": {},
   "outputs": [
    {
     "name": "stdout",
     "output_type": "stream",
     "text": [
      "div\n"
     ]
    }
   ],
   "source": [
    "from bs4 import BeautifulSoup\n",
    "\n",
    "soup = BeautifulSoup('<div><span></span></div>')\n",
    "print(soup.find('div').name)"
   ]
  },
  {
   "cell_type": "code",
   "execution_count": 17,
   "id": "marked-saturday",
   "metadata": {},
   "outputs": [
    {
     "ename": "SyntaxError",
     "evalue": "invalid syntax (<ipython-input-17-1efd615b9b70>, line 3)",
     "output_type": "error",
     "traceback": [
      "\u001b[0;36m  File \u001b[0;32m\"<ipython-input-17-1efd615b9b70>\"\u001b[0;36m, line \u001b[0;32m3\u001b[0m\n\u001b[0;31m    if isinstance(elem, Tag) and elem.name == \"img\"\u001b[0m\n\u001b[0m                                                   ^\u001b[0m\n\u001b[0;31mSyntaxError\u001b[0m\u001b[0;31m:\u001b[0m invalid syntax\n"
     ]
    }
   ],
   "source": [
    "# sample code\n",
    "\n",
    "if isinstance(elem, Tag) and elem.name == \"img\":\n",
    "    pass"
   ]
  },
  {
   "cell_type": "code",
   "execution_count": null,
   "id": "aerial-bangkok",
   "metadata": {},
   "outputs": [],
   "source": [
    "p_tag = bs.find(\"p\")\n",
    "elem = p_tag.contents[0]"
   ]
  },
  {
   "cell_type": "markdown",
   "id": "opened-immune",
   "metadata": {},
   "source": [
    "About bs.Tag, see [here](https://www.crummy.com/software/BeautifulSoup/bs4/doc/#name)\n",
    "```Python\n",
    "tag.name = \"blockquote\"\n",
    "tag\n",
    "# <blockquote class=\"boldest\">Extremely bold</blockquote>\n",
    "\n",
    "tag = BeautifulSoup('<b id=\"boldest\">bold</b>', 'html.parser').b\n",
    "tag['id']\n",
    "# 'boldest'\n",
    "```\n",
    "                         "
   ]
  },
  {
   "cell_type": "markdown",
   "id": "affecting-constant",
   "metadata": {},
   "source": [
    "## Search on BS object\n",
    "- find specific tag\n",
    "- find all tag in same level (disable recursive)\n",
    "- find tag with attribute, or with specific value in targeted attr\n",
    "- fetch attr value"
   ]
  },
  {
   "cell_type": "code",
   "execution_count": null,
   "id": "large-witch",
   "metadata": {},
   "outputs": [],
   "source": [
    "# get one element and the first element\n",
    "# https://stackoverflow.com/questions/47818858/python-getting-the-first-child-of-the-parent-element-with-beautifulsoup4\n",
    "\n",
    ".find('img')"
   ]
  },
  {
   "cell_type": "code",
   "execution_count": null,
   "id": "balanced-roller",
   "metadata": {},
   "outputs": [],
   "source": [
    "# How to check if tag <a> or/and <img> is the children of div on Beautiful Soup\n",
    "# https://stackoverflow.com/questions/48699335/how-to-check-if-tag-a-or-and-img-is-the-children-of-div-on-beautiful-soup\n",
    "\n",
    "tag.find_all(recursive=False)"
   ]
  },
  {
   "cell_type": "code",
   "execution_count": 22,
   "id": "mathematical-advance",
   "metadata": {},
   "outputs": [
    {
     "data": {
      "text/plain": [
       "<p><img alt=\"Garifuna dish of hudutu\" src=\"https://www.seriouseats.com/2020/06/20200610-garifuna-cuisine-hudutu-dish-wes-milton-guity.jpg\"/></p>"
      ]
     },
     "execution_count": 22,
     "metadata": {},
     "output_type": "execute_result"
    }
   ],
   "source": [
    "\"\"\"\n",
    "Q: find tag with attr?\n",
    "\n",
    "A: Sure, you can\n",
    "https://stackoverflow.com/a/31417182/1911726\n",
    "\"\"\"\n",
    "\n",
    "html = '<p><img alt=\"Garifuna dish of hudutu\" src=\"https://www.seriouseats.com/2020/06/20200610-garifuna-cuisine-hudutu-dish-wes-milton-guity.jpg\"/></p><p><p class=\"caption\">Hudutu baruru with falmo, a coconut-based seafood stew. [Photograph: Wes Güity and Milton Güity]</p><p>Many dishes comprise the world of Garifuna cuisine.</p><p><img alt=\"\" src=\"https://www.seriouseats.com/2020/06/peeling-plantain-for-hudutu-edit.jpg\"/></p><p><p class=\"caption\">[Photograph: Wes Güity and Milton Güity]</p><p>The Garifuna origin story is a complex one that involves attempts to enslave.</p>'\n",
    "from bs4 import BeautifulSoup\n",
    "\n",
    "soup = BeautifulSoup(html, 'html.parser')\n",
    "p_tag = soup.find(\"p\")\n",
    "p_tag"
   ]
  },
  {
   "cell_type": "code",
   "execution_count": 23,
   "id": "controlled-spring",
   "metadata": {},
   "outputs": [
    {
     "data": {
      "text/plain": [
       "[<p class=\"caption\">Hudutu baruru with falmo, a coconut-based seafood stew. [Photograph: Wes Güity and Milton Güity]</p>,\n",
       " <p class=\"caption\">[Photograph: Wes Güity and Milton Güity]</p>]"
      ]
     },
     "execution_count": 23,
     "metadata": {},
     "output_type": "execute_result"
    }
   ],
   "source": [
    "p_tag = soup.find_all(\"p\", attrs={\"class\":\"caption\"})\n",
    "p_tag"
   ]
  },
  {
   "cell_type": "code",
   "execution_count": 25,
   "id": "strong-investor",
   "metadata": {},
   "outputs": [
    {
     "data": {
      "text/plain": [
       "<p class=\"caption\">Hudutu baruru with falmo, a coconut-based seafood stew. [Photograph: Wes Güity and Milton Güity]</p>"
      ]
     },
     "execution_count": 25,
     "metadata": {},
     "output_type": "execute_result"
    }
   ],
   "source": [
    "p_tag = soup.find(\"p\", attrs={\"class\":\"caption\"})\n",
    "p_tag"
   ]
  },
  {
   "cell_type": "code",
   "execution_count": 26,
   "id": "after-theorem",
   "metadata": {},
   "outputs": [
    {
     "data": {
      "text/plain": [
       "True"
      ]
     },
     "execution_count": 26,
     "metadata": {},
     "output_type": "execute_result"
    }
   ],
   "source": [
    "p_tag.has_attr(\"class\")"
   ]
  },
  {
   "cell_type": "code",
   "execution_count": 29,
   "id": "portuguese-qatar",
   "metadata": {},
   "outputs": [
    {
     "data": {
      "text/plain": [
       "['caption']"
      ]
     },
     "execution_count": 29,
     "metadata": {},
     "output_type": "execute_result"
    }
   ],
   "source": [
    "p_tag.get(\"class\")"
   ]
  },
  {
   "cell_type": "code",
   "execution_count": 30,
   "id": "medieval-elder",
   "metadata": {},
   "outputs": [
    {
     "data": {
      "text/plain": [
       "<p><img alt=\"Garifuna dish of hudutu\" src=\"https://www.seriouseats.com/2020/06/20200610-garifuna-cuisine-hudutu-dish-wes-milton-guity.jpg\"/></p>"
      ]
     },
     "execution_count": 30,
     "metadata": {},
     "output_type": "execute_result"
    }
   ],
   "source": [
    "\"\"\"\n",
    "More complicated case\n",
    "\"\"\"\n",
    "\n",
    "html = '<p><img alt=\"Garifuna dish of hudutu\" src=\"https://www.seriouseats.com/2020/06/20200610-garifuna-cuisine-hudutu-dish-wes-milton-guity.jpg\"/></p><p><p class=\"caption\">Hudutu baruru with falmo, a coconut-based seafood stew. [Photograph: Wes Güity and Milton Güity]</p><p>Many dishes comprise the world of Garifuna cuisine.</p><p><img alt=\"\" src=\"https://www.seriouseats.com/2020/06/peeling-plantain-for-hudutu-edit.jpg\"/></p><p><p class=\"caption\">[Photograph: Wes Güity and Milton Güity]</p><p>The Garifuna origin story is a complex one that involves attempts to enslave.</p>'\n",
    "from bs4 import BeautifulSoup\n",
    "\n",
    "soup = BeautifulSoup(html, 'html.parser')\n",
    "p_tag = soup.find(\"p\")\n",
    "p_tag"
   ]
  },
  {
   "cell_type": "code",
   "execution_count": 31,
   "id": "satisfactory-wiring",
   "metadata": {},
   "outputs": [
    {
     "data": {
      "text/plain": [
       "<p><p class=\"caption\">Hudutu baruru with falmo, a coconut-based seafood stew. [Photograph: Wes Güity and Milton Güity]</p><p>Many dishes comprise the world of Garifuna cuisine.</p><p><img alt=\"\" src=\"https://www.seriouseats.com/2020/06/peeling-plantain-for-hudutu-edit.jpg\"/></p><p><p class=\"caption\">[Photograph: Wes Güity and Milton Güity]</p><p>The Garifuna origin story is a complex one that involves attempts to enslave.</p></p></p>"
      ]
     },
     "execution_count": 31,
     "metadata": {},
     "output_type": "execute_result"
    }
   ],
   "source": [
    "p_next_sibling = p_tag.find_next_sibling(\"p\")\n",
    "p_next_sibling"
   ]
  },
  {
   "cell_type": "code",
   "execution_count": 34,
   "id": "northern-wayne",
   "metadata": {},
   "outputs": [
    {
     "data": {
      "text/plain": [
       "<p class=\"caption\">Hudutu baruru with falmo, a coconut-based seafood stew. [Photograph: Wes Güity and Milton Güity]</p>"
      ]
     },
     "execution_count": 34,
     "metadata": {},
     "output_type": "execute_result"
    }
   ],
   "source": [
    "p_next_next = p_next_sibling.find(\"p\", attrs={\"class\":\"caption\"})\n",
    "p_next_next"
   ]
  },
  {
   "cell_type": "code",
   "execution_count": 35,
   "id": "conservative-modem",
   "metadata": {},
   "outputs": [],
   "source": [
    "p_next_next.find(\"p\", attrs={\"class\":\"caption\"})"
   ]
  },
  {
   "cell_type": "code",
   "execution_count": null,
   "id": "russian-windsor",
   "metadata": {},
   "outputs": [],
   "source": []
  },
  {
   "cell_type": "markdown",
   "id": "daily-pointer",
   "metadata": {},
   "source": [
    "## Fetch content of html tags"
   ]
  },
  {
   "cell_type": "code",
   "execution_count": null,
   "id": "fresh-edward",
   "metadata": {},
   "outputs": [],
   "source": [
    "# Another common task is extracting all the text from a page:\n",
    "html_doc = \"\"\"<html><head><title>The Dormouse's story</title></head>\n",
    "<body>\n",
    "<p class=\"title\"><b>The Dormouse's story</b></p>\n",
    "\n",
    "<p class=\"story\">Once upon a time there were three little sisters; and their names were\n",
    "<a href=\"http://example.com/elsie\" class=\"sister\" id=\"link1\">Elsie</a>,\n",
    "<a href=\"http://example.com/lacie\" class=\"sister\" id=\"link2\">Lacie</a> and\n",
    "<a href=\"http://example.com/tillie\" class=\"sister\" id=\"link3\">Tillie</a>;\n",
    "and they lived at the bottom of a well.</p>\n",
    "\n",
    "<p class=\"story\">...</p>\n",
    "\"\"\"\n",
    "\n",
    "\n",
    "print(soup.get_text())\n",
    "# The Dormouse's story\n",
    "#\n",
    "# The Dormouse's story\n",
    "#\n",
    "# Once upon a time there were three little sisters; and their names were\n",
    "# Elsie,\n",
    "# Lacie and\n",
    "# Tillie;\n",
    "# and they lived at the bottom of a well.\n",
    "#\n",
    "# ..."
   ]
  },
  {
   "cell_type": "code",
   "execution_count": null,
   "id": "acceptable-button",
   "metadata": {},
   "outputs": [],
   "source": []
  },
  {
   "cell_type": "markdown",
   "id": "expanded-salon",
   "metadata": {},
   "source": [
    "## Level-manipuation\n",
    "- sibling operation: find_next_sibling\n",
    "    - From official guide, .next_element and .previous_element; .next_elements and .previous_elements"
   ]
  },
  {
   "cell_type": "code",
   "execution_count": 16,
   "id": "encouraging-morgan",
   "metadata": {},
   "outputs": [
    {
     "data": {
      "text/plain": [
       "<p class=\"title\"><b>The Dormouse's story</b></p>"
      ]
     },
     "execution_count": 16,
     "metadata": {},
     "output_type": "execute_result"
    }
   ],
   "source": [
    "html_doc = \"\"\"<html><head><title>The Dormouse's story</title></head>\n",
    "<body>\n",
    "<p class=\"title\"><b>The Dormouse's story</b></p>\n",
    "\n",
    "<p class=\"story\">Once upon a time there were three little sisters; and their names were\n",
    "<a href=\"http://example.com/elsie\" class=\"sister\" id=\"link1\">Elsie</a>,\n",
    "<a href=\"http://example.com/lacie\" class=\"sister\" id=\"link2\">Lacie</a> and\n",
    "<a href=\"http://example.com/tillie\" class=\"sister\" id=\"link3\">Tillie</a>;\n",
    "and they lived at the bottom of a well.</p>\n",
    "\"\"\"\n",
    "\n",
    "from bs4 import BeautifulSoup\n",
    "\n",
    "soup = BeautifulSoup(html_doc, 'html.parser')\n",
    "p_first = soup.find(\"p\")\n",
    "p_first"
   ]
  },
  {
   "cell_type": "code",
   "execution_count": 17,
   "id": "lined-township",
   "metadata": {},
   "outputs": [
    {
     "data": {
      "text/plain": [
       "bs4.element.Tag"
      ]
     },
     "execution_count": 17,
     "metadata": {},
     "output_type": "execute_result"
    }
   ],
   "source": [
    "type(p_first)"
   ]
  },
  {
   "cell_type": "code",
   "execution_count": 3,
   "id": "killing-checkout",
   "metadata": {},
   "outputs": [
    {
     "data": {
      "text/plain": [
       "[<p class=\"story\">Once upon a time there were three little sisters; and their names were\n",
       " <a class=\"sister\" href=\"http://example.com/elsie\" id=\"link1\">Elsie</a>,\n",
       " <a class=\"sister\" href=\"http://example.com/lacie\" id=\"link2\">Lacie</a> and\n",
       " <a class=\"sister\" href=\"http://example.com/tillie\" id=\"link3\">Tillie</a>;\n",
       " and they lived at the bottom of a well.</p>]"
      ]
     },
     "execution_count": 3,
     "metadata": {},
     "output_type": "execute_result"
    }
   ],
   "source": [
    "p_next_siblings = p_first.find_next_siblings(\"p\")\n",
    "p_next_siblings"
   ]
  },
  {
   "cell_type": "code",
   "execution_count": 4,
   "id": "comparable-belly",
   "metadata": {},
   "outputs": [
    {
     "data": {
      "text/plain": [
       "<p class=\"story\">Once upon a time there were three little sisters; and their names were\n",
       "<a class=\"sister\" href=\"http://example.com/elsie\" id=\"link1\">Elsie</a>,\n",
       "<a class=\"sister\" href=\"http://example.com/lacie\" id=\"link2\">Lacie</a> and\n",
       "<a class=\"sister\" href=\"http://example.com/tillie\" id=\"link3\">Tillie</a>;\n",
       "and they lived at the bottom of a well.</p>"
      ]
     },
     "execution_count": 4,
     "metadata": {},
     "output_type": "execute_result"
    }
   ],
   "source": [
    "p_next_sibling = p_first.find_next_sibling(\"p\")\n",
    "p_next_sibling"
   ]
  },
  {
   "cell_type": "code",
   "execution_count": 5,
   "id": "japanese-neighborhood",
   "metadata": {},
   "outputs": [
    {
     "data": {
      "text/plain": [
       "'p'"
      ]
     },
     "execution_count": 5,
     "metadata": {},
     "output_type": "execute_result"
    }
   ],
   "source": [
    "p_next_sibling.name"
   ]
  },
  {
   "cell_type": "code",
   "execution_count": 6,
   "id": "impaired-cursor",
   "metadata": {},
   "outputs": [
    {
     "data": {
      "text/plain": [
       "'Once upon a time there were three little sisters; and their names were\\nElsie,\\nLacie and\\nTillie;\\nand they lived at the bottom of a well.'"
      ]
     },
     "execution_count": 6,
     "metadata": {},
     "output_type": "execute_result"
    }
   ],
   "source": [
    "p_next_sibling.text"
   ]
  },
  {
   "cell_type": "code",
   "execution_count": 9,
   "id": "electoral-newfoundland",
   "metadata": {},
   "outputs": [],
   "source": [
    "p_next_next_ = p_next_sibling.find_next_sibling(\"p\")\n",
    "# p_next_next"
   ]
  },
  {
   "cell_type": "code",
   "execution_count": 13,
   "id": "inappropriate-protection",
   "metadata": {},
   "outputs": [
    {
     "data": {
      "text/plain": [
       "True"
      ]
     },
     "execution_count": 13,
     "metadata": {},
     "output_type": "execute_result"
    }
   ],
   "source": [
    "p_next_sibling.find_next_sibling(\"p\") == None"
   ]
  },
  {
   "cell_type": "code",
   "execution_count": null,
   "id": "numeric-mining",
   "metadata": {},
   "outputs": [],
   "source": []
  },
  {
   "cell_type": "code",
   "execution_count": null,
   "id": "furnished-arizona",
   "metadata": {},
   "outputs": [],
   "source": []
  },
  {
   "cell_type": "markdown",
   "id": "recent-perception",
   "metadata": {},
   "source": [
    "# Regex"
   ]
  },
  {
   "cell_type": "markdown",
   "id": "departmental-papua",
   "metadata": {},
   "source": [
    "## About major functions\n",
    "- re.search\n",
    "- re.match\n",
    "- re.finditer"
   ]
  },
  {
   "cell_type": "markdown",
   "id": "correct-liberia",
   "metadata": {},
   "source": [
    "re.search(pattern, string, flags=0)\n",
    "\n",
    "Ref: https://docs.python.org/3/library/re.html\n",
    "\n",
    "(Dot.) In the default mode, this matches any character except a newline. If the DOTALL flag has been specified, this matches any character including a newline."
   ]
  },
  {
   "cell_type": "markdown",
   "id": "empirical-award",
   "metadata": {},
   "source": [
    "## Character Class"
   ]
  },
  {
   "cell_type": "markdown",
   "id": "designed-jackson",
   "metadata": {},
   "source": [
    "```Python\n",
    "import re\n",
    "\n",
    ">>> re.search(r\"[\\[]\", \"acd\")\n",
    ">>> re.search(r\"[\\[]\", \"[dafs]\")\n",
    "<_sre.SRE_Match object; span=(0, 1), match='['>\n",
    ">>> re.search(r\"[abc]\", \"[dafs]\")\n",
    "<_sre.SRE_Match object; span=(2, 3), match='a'>\n",
    ">>> re.search(r\"[abc]\", \"[xxxx]\")\n",
    ">>> re.search(r\"[abc]\", \"xxxx\")\n",
    ">>> \n",
    ">>> \n",
    ">>> re.search(r\"[abc]\", \"xxax\")\n",
    "<_sre.SRE_Match object; span=(2, 3), match='a'>\n",
    ">>> \n",
    ">>> re.search(r\"[\\a]\", \"xxax\")\n",
    ">>> \n",
    ">>> \n",
    ">>> re.search(r\"[^a]\", \"xxax\")\n",
    "<_sre.SRE_Match object; span=(0, 1), match='x'>\n",
    ">>> \n",
    ">>> \n",
    ">>> \n",
    ">>> re.search(r\"[^a]\", \"xxbx\")\n",
    "<_sre.SRE_Match object; span=(0, 1), match='x'>\n",
    ">>> re.search(r\"[^abx]\", \"xxbx\")\n",
    ">>> \n",
    ">>> \n",
    ">>> re.search(r\"[^adx]\", \"xxbx\")\n",
    "<_sre.SRE_Match object; span=(2, 3), match='b'>\n",
    ">>> \n",
    ">>> \n",
    ">>> re.search(r\"[^adx]\", \"xxbx\")\n",
    "\n",
    "\n",
    "About special characters\n",
    ">>> re.search(r\"[\\[]\", \"[\")\n",
    "<_sre.SRE_Match object; span=(0, 1), match='['>\n",
    "```"
   ]
  },
  {
   "cell_type": "markdown",
   "id": "ordered-export",
   "metadata": {},
   "source": [
    "## Capture"
   ]
  },
  {
   "cell_type": "code",
   "execution_count": 9,
   "id": "desirable-nashville",
   "metadata": {},
   "outputs": [
    {
     "data": {
      "text/plain": [
       "<re.Match object; span=(50, 76), match='[Photographs: Vicky Wasik]'>"
      ]
     },
     "execution_count": 9,
     "metadata": {},
     "output_type": "execute_result"
    }
   ],
   "source": [
    "import re\n",
    "\n",
    "match_grp = re.search(r\"\\[(.*?)\\]\", \"The fastest, freshest ice cream you'll ever make. [Photographs: Vicky Wasik]\")\n",
    "match_grp"
   ]
  },
  {
   "cell_type": "code",
   "execution_count": 11,
   "id": "worse-cooking",
   "metadata": {},
   "outputs": [
    {
     "data": {
      "text/plain": [
       "'Photographs: Vicky Wasik'"
      ]
     },
     "execution_count": 11,
     "metadata": {},
     "output_type": "execute_result"
    }
   ],
   "source": [
    "match_grp.groups()[0]"
   ]
  },
  {
   "cell_type": "code",
   "execution_count": null,
   "id": "israeli-branch",
   "metadata": {},
   "outputs": [],
   "source": []
  },
  {
   "cell_type": "markdown",
   "id": "sexual-radiation",
   "metadata": {},
   "source": [
    "## Non-greedy search, or find the first matched one\n",
    "- adding ? after (+,*)"
   ]
  },
  {
   "cell_type": "code",
   "execution_count": 1,
   "id": "automatic-injection",
   "metadata": {},
   "outputs": [
    {
     "ename": "TypeError",
     "evalue": "search() missing 1 required positional argument: 'string'",
     "output_type": "error",
     "traceback": [
      "\u001b[0;31m---------------------------------------------------------------------------\u001b[0m",
      "\u001b[0;31mTypeError\u001b[0m                                 Traceback (most recent call last)",
      "\u001b[0;32m<ipython-input-1-1cf272b0f03e>\u001b[0m in \u001b[0;36m<module>\u001b[0;34m\u001b[0m\n\u001b[1;32m      1\u001b[0m \u001b[0;32mimport\u001b[0m \u001b[0mre\u001b[0m\u001b[0;34m\u001b[0m\u001b[0;34m\u001b[0m\u001b[0m\n\u001b[1;32m      2\u001b[0m \u001b[0;34m\u001b[0m\u001b[0m\n\u001b[0;32m----> 3\u001b[0;31m \u001b[0mre\u001b[0m\u001b[0;34m.\u001b[0m\u001b[0msearch\u001b[0m\u001b[0;34m(\u001b[0m\u001b[0;34m'<p><img.*?/></p>'\u001b[0m\u001b[0;34m)\u001b[0m\u001b[0;34m\u001b[0m\u001b[0;34m\u001b[0m\u001b[0m\n\u001b[0m",
      "\u001b[0;31mTypeError\u001b[0m: search() missing 1 required positional argument: 'string'"
     ]
    }
   ],
   "source": [
    "import re\n",
    "\n",
    "re.search('<p><img.*?/></p>')"
   ]
  },
  {
   "cell_type": "code",
   "execution_count": null,
   "id": "trained-picking",
   "metadata": {},
   "outputs": [],
   "source": []
  },
  {
   "cell_type": "markdown",
   "id": "indirect-obligation",
   "metadata": {},
   "source": [
    "## escape character cases"
   ]
  },
  {
   "cell_type": "code",
   "execution_count": null,
   "id": "imperial-martial",
   "metadata": {},
   "outputs": [],
   "source": []
  },
  {
   "cell_type": "code",
   "execution_count": null,
   "id": "contemporary-solomon",
   "metadata": {},
   "outputs": [],
   "source": []
  },
  {
   "cell_type": "markdown",
   "id": "heavy-concern",
   "metadata": {},
   "source": [
    "## Comparison between functions\n",
    "- match()\n",
    "- group()\n",
    "- search()\n",
    "- finditer"
   ]
  },
  {
   "cell_type": "code",
   "execution_count": null,
   "id": "distinguished-farming",
   "metadata": {},
   "outputs": [],
   "source": []
  }
 ],
 "metadata": {
  "kernelspec": {
   "display_name": "Python 3",
   "language": "python",
   "name": "python3"
  },
  "language_info": {
   "codemirror_mode": {
    "name": "ipython",
    "version": 3
   },
   "file_extension": ".py",
   "mimetype": "text/x-python",
   "name": "python",
   "nbconvert_exporter": "python",
   "pygments_lexer": "ipython3",
   "version": "3.8.6"
  }
 },
 "nbformat": 4,
 "nbformat_minor": 5
}
