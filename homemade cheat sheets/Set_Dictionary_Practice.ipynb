{
 "cells": [
  {
   "cell_type": "markdown",
   "metadata": {},
   "source": [
    "# Topics:\n",
    "- Set\n",
    "- Dictionary\n",
    "    - Sorting\n",
    "    - Convert list to dictionary\n",
    "- defaultdict\n",
    "- Counter\n",
    "- OrderedDict\n"
   ]
  },
  {
   "cell_type": "code",
   "execution_count": null,
   "metadata": {},
   "outputs": [],
   "source": []
  },
  {
   "cell_type": "markdown",
   "metadata": {},
   "source": [
    "# Set"
   ]
  },
  {
   "cell_type": "markdown",
   "metadata": {},
   "source": [
    "## Basic operations\n",
    "\n",
    "Define a set\n",
    "```Python\n",
    "x = set(<iter>)\n",
    "x = {<obj>, <obj>, ..., <obj>}\n",
    "\n",
    "# set cannot have duplicates\n",
    "# Output: {1, 2, 3, 4}\n",
    "my_set = {1, 2, 3, 4, 3, 2}\n",
    "print(my_set)\n",
    "\n",
    "# we can make set from a list\n",
    "# Output: {1, 2, 3}\n",
    "my_set = set([1, 2, 3, 2])\n",
    "print(my_set)\n",
    "\n",
    "# set cannot have mutable items\n",
    "# here [3, 4] is a mutable list\n",
    "# this will cause an error.\n",
    "\n",
    "my_set = {1, 2, [3, 4]}\n",
    "```\n",
    "\n",
    "Creating an empty set is a bit tricky.\n",
    "\n",
    "Empty curly braces {} will make an empty dictionary in Python. To make a set without any elements, we use the set() function without any argument.\n",
    "\n",
    "### Modifying a set in Python\n",
    "\n",
    "We can add a single element using the add() method, and multiple elements using the update() method. The update() method can take tuples, lists, strings or other sets as its argument. In all cases, duplicates are avoided.\n",
    "\n",
    "\n",
    "x.add\n",
    "```Python\n",
    ">>> x = {'foo', 'bar', 'baz'}\n",
    "\n",
    ">>> x.add('qux')\n",
    ">>> x\n",
    "{'bar', 'baz', 'foo', 'qux'}\n",
    "```\n",
    "\n",
    "x.remove(<elem>)\n",
    "```Python\n",
    ">>> x = {'foo', 'bar', 'baz'}\n",
    "\n",
    ">>> x.remove('baz')\n",
    ">>> x\n",
    "{'bar', 'foo'}\n",
    "\n",
    ">>> x.remove('qux')\n",
    "Traceback (most recent call last):\n",
    "  File \"<pyshell#58>\", line 1, in <module>\n",
    "    x.remove('qux')\n",
    "KeyError: 'qux'\n",
    "```\n",
    "\n",
    "x.update()\n",
    "```Python\n",
    "# add multiple elements\n",
    "# Output: {1, 2, 3, 4}\n",
    "my_set.update([2, 3, 4])\n",
    "print(my_set)\n",
    "\n",
    "# add list and set\n",
    "# Output: {1, 2, 3, 4, 5, 6, 8}\n",
    "my_set.update([4, 5], {1, 6, 8})\n",
    "print(my_set)\n",
    "```\n",
    "\n",
    "x.discard(<elem>)\n",
    "```Python\n",
    ">>> x = {'foo', 'bar', 'baz'}\n",
    ">>> x.discard('baz')\n",
    ">>> x\n",
    "{'bar', 'foo'}\n",
    ">>> x.discard('qux')\n",
    ">>> x\n",
    "{'bar', 'foo'}\n",
    "```\n",
    "\n",
    "x.pop() Removes a random element from a set.\n",
    "```Python\n",
    ">>> x = {'foo', 'bar', 'baz'}\n",
    "\n",
    ">>> x.pop()\n",
    "'bar'\n",
    ">>> x\n",
    "{'baz', 'foo'}\n",
    "\n",
    ">>> x.pop()\n",
    "'baz'\n",
    ">>> x\n",
    "{'foo'}\n",
    "\n",
    ">>> x.pop()\n",
    "'foo'\n",
    ">>> x\n",
    "set()\n",
    "\n",
    ">>> x.pop()\n",
    "Traceback (most recent call last):\n",
    "  File \"<pyshell#82>\", line 1, in <module>\n",
    "    x.pop()\n",
    "KeyError: 'pop from an empty set'\n",
    "```\n",
    "\n"
   ]
  },
  {
   "cell_type": "markdown",
   "metadata": {},
   "source": [
    "## Advanced operation\n",
    "\n",
    "union of two sets\n",
    "```Python\n",
    "\n",
    ">>> x1 = {'foo', 'bar', 'baz'}\n",
    ">>> x2 = {'baz', 'qux', 'quux'}\n",
    "\n",
    ">>> x1.union(x2)\n",
    "{'foo', 'qux', 'quux', 'baz', 'bar'}\n",
    "\n",
    ">>> x1 | x2\n",
    "{'foo', 'qux', 'quux', 'baz', 'bar'}\n",
    "\n",
    ">>> a = {1, 2, 3, 4}\n",
    ">>> b = {2, 3, 4, 5}\n",
    ">>> c = {3, 4, 5, 6}\n",
    ">>> d = {4, 5, 6, 7}\n",
    "\n",
    ">>> a.union(b, c, d)\n",
    "{1, 2, 3, 4, 5, 6, 7}\n",
    "\n",
    ">>> a | b | c | d\n",
    "{1, 2, 3, 4, 5, 6, 7}\n",
    "```\n",
    "\n",
    "intersection of two sets\n",
    "```Python\n",
    ">>> x2 = {'baz', 'qux', 'quux'}\n",
    "\n",
    ">>> x1.intersection(x2)\n",
    "{'baz'}\n",
    "\n",
    ">>> x1 & x2\n",
    "{'baz'}\n",
    "\n",
    ">>> a = {1, 2, 3, 4}\n",
    ">>> b = {2, 3, 4, 5}\n",
    ">>> c = {3, 4, 5, 6}\n",
    ">>> d = {4, 5, 6, 7}\n",
    "\n",
    ">>> a.intersection(b, c, d)\n",
    "{4}\n",
    "\n",
    ">>> a & b & c & d\n",
    "{4}\n",
    "```\n",
    "\n",
    "Difference between two sets\n",
    "```Python\n",
    ">>> x1 = {'foo', 'bar', 'baz'}\n",
    ">>> x2 = {'baz', 'qux', 'quux'}\n",
    "\n",
    ">>> x1.difference(x2)\n",
    "{'foo', 'bar'}\n",
    "\n",
    ">>> x1 - x2\n",
    "{'foo', 'bar'}\n",
    "\n",
    ">>> a = {1, 2, 3, 30, 300}\n",
    ">>> b = {10, 20, 30, 40}\n",
    ">>> c = {100, 200, 300, 400}\n",
    "\n",
    ">>> a.difference(b, c)\n",
    "{1, 2, 3}\n",
    "\n",
    ">>> a - b - c\n",
    "{1, 2, 3}\n",
    "```\n",
    "\n",
    "Symmetric difference between two sets\n",
    "```Python\n",
    ">>> x1 = {'foo', 'bar', 'baz'}\n",
    ">>> x2 = {'baz', 'qux', 'quux'}\n",
    "\n",
    ">>> x1.symmetric_difference(x2)\n",
    "{'foo', 'qux', 'quux', 'bar'}\n",
    "\n",
    ">>> x1 ^ x2\n",
    "{'foo', 'qux', 'quux', 'bar'}\n",
    "\n",
    ">>> a = {1, 2, 3, 4, 5}\n",
    ">>> b = {10, 2, 3, 4, 50}\n",
    ">>> c = {1, 50, 100}\n",
    "\n",
    ">>> a ^ b ^ c\n",
    "{100, 5, 10}\n",
    "\n",
    "```\n",
    "\n",
    "Other operations:\n",
    "- `x1.isdisjoint(x2)` Determines whether or not two sets have any elements in common.\n",
    "- `x1.issubset(x2)` or `x1 <= x2` Determine whether one set is a subset of the other.\n",
    "- `x1 < x2` Determines whether one set is a proper subset of the other.\n",
    "- `x1.issuperset(x2)` or `x1 >= x2` Determine whether one set is a superset of the other."
   ]
  },
  {
   "cell_type": "code",
   "execution_count": 11,
   "metadata": {},
   "outputs": [
    {
     "name": "stdout",
     "output_type": "stream",
     "text": [
      "{'foo', 'qux', 'baz', 'bar'}\n",
      "{'foo', 'qux', 'baz', 'bar'}\n"
     ]
    }
   ],
   "source": [
    "x = set(['foo', 'bar', 'baz', 'foo', 'qux'])\n",
    "print(x)\n",
    "\n",
    "y = {'foo', 'bar', 'baz', 'foo', 'qux'}\n",
    "print(y)"
   ]
  },
  {
   "cell_type": "code",
   "execution_count": 13,
   "metadata": {},
   "outputs": [
    {
     "name": "stdout",
     "output_type": "stream",
     "text": [
      "{'foo', 'qux', 'baz', 'bar'}\n",
      "{'baz', 'bar', 'foo', 'qux', 'pin'}\n"
     ]
    }
   ],
   "source": [
    "y.add('foo')\n",
    "print(y)\n",
    "\n",
    "y.add('pin')\n",
    "print(y)"
   ]
  },
  {
   "cell_type": "markdown",
   "metadata": {},
   "source": [
    "# Set Exercise\n",
    "\n",
    "Reference:\n",
    "https://www.programiz.com/python-programming/set\n",
    "https://pynative.com/python-set-exercise-with-solutions/"
   ]
  },
  {
   "cell_type": "markdown",
   "metadata": {},
   "source": [
    " Add a list of elements to a given set"
   ]
  },
  {
   "cell_type": "code",
   "execution_count": 9,
   "metadata": {},
   "outputs": [
    {
     "name": "stdout",
     "output_type": "stream",
     "text": [
      "{'Red', 'Orange', 'Blue', 'Yellow', 'Black', 'Green'}\n"
     ]
    },
    {
     "data": {
      "text/plain": [
       "0.00035309791564941406"
      ]
     },
     "execution_count": 9,
     "metadata": {},
     "output_type": "execute_result"
    }
   ],
   "source": [
    "import time\n",
    "sampleSet = {\"Yellow\", \"Orange\", \"Black\"}\n",
    "sampleList = [\"Blue\", \"Green\", \"Red\"]\n",
    "\n",
    "start_time = time.time()\n",
    "# your code\n",
    "\n",
    "for elem in sampleList:\n",
    "    sampleSet.add(elem)\n",
    "print(sampleSet)\n",
    "elapsed_time = time.time() - start_time\n",
    "elapsed_time"
   ]
  },
  {
   "cell_type": "code",
   "execution_count": 7,
   "metadata": {},
   "outputs": [
    {
     "name": "stdout",
     "output_type": "stream",
     "text": [
      "{'Red', 'Blue', 'Orange', 'Yellow', 'Black', 'Green'}\n"
     ]
    },
    {
     "data": {
      "text/plain": [
       "0.00038695335388183594"
      ]
     },
     "execution_count": 7,
     "metadata": {},
     "output_type": "execute_result"
    }
   ],
   "source": [
    "start_time = time.time()\n",
    "# your code\n",
    "\n",
    "sampleSet = sampleSet | set(sampleList)\n",
    "print(sampleSet)\n",
    "elapsed_time = time.time() - start_time\n",
    "elapsed_time"
   ]
  },
  {
   "cell_type": "code",
   "execution_count": 8,
   "metadata": {},
   "outputs": [
    {
     "data": {
      "text/plain": [
       "7.200241088867188e-05"
      ]
     },
     "execution_count": 8,
     "metadata": {},
     "output_type": "execute_result"
    }
   ],
   "source": [
    "start_time = time.time()\n",
    "# your code\n",
    "\n",
    "sampleSet.update(sampleList)\n",
    "elapsed_time = time.time() - start_time\n",
    "elapsed_time"
   ]
  },
  {
   "cell_type": "markdown",
   "metadata": {},
   "source": [
    "Return a set of identical items from a given two Python set"
   ]
  },
  {
   "cell_type": "code",
   "execution_count": 3,
   "metadata": {},
   "outputs": [
    {
     "name": "stdout",
     "output_type": "stream",
     "text": [
      "{40, 50, 30}\n"
     ]
    },
    {
     "data": {
      "text/plain": [
       "0.00031304359436035156"
      ]
     },
     "execution_count": 3,
     "metadata": {},
     "output_type": "execute_result"
    }
   ],
   "source": [
    "import time\n",
    "set1 = {10, 20, 30, 40, 50}\n",
    "set2 = {30, 40, 50, 60, 70}\n",
    "\n",
    "start_time = time.time()\n",
    "set3 = set1.intersection(set2)\n",
    "print(set3)\n",
    "elapsed_time = time.time() - start_time\n",
    "elapsed_time"
   ]
  },
  {
   "cell_type": "code",
   "execution_count": 13,
   "metadata": {},
   "outputs": [
    {
     "name": "stdout",
     "output_type": "stream",
     "text": [
      "{40, 50, 30}\n"
     ]
    }
   ],
   "source": [
    "set1 = [10, 20, 30, 40, 50]\n",
    "set2 = [30, 40, 50, 60, 70]\n",
    "\n",
    "set3 = set(set1) & set(set2)\n",
    "print(set3)\n",
    "\n",
    "set3 = set(set1) & set(set2)\n",
    "print(set3)"
   ]
  },
  {
   "cell_type": "markdown",
   "metadata": {},
   "source": [
    "Returns a new set with all items from both sets by removing duplicates"
   ]
  },
  {
   "cell_type": "code",
   "execution_count": 15,
   "metadata": {},
   "outputs": [
    {
     "name": "stdout",
     "output_type": "stream",
     "text": [
      "{70, 40, 10, 50, 20, 60, 30}\n"
     ]
    }
   ],
   "source": [
    "set1 = {10, 20, 30, 40, 50}\n",
    "set2 = {30, 40, 50, 60, 70}\n",
    "\n",
    "set3 = set1.union(set2)\n",
    "print(set3)"
   ]
  },
  {
   "cell_type": "markdown",
   "metadata": {},
   "source": [
    "Given two Python sets, update first set with items that exist only in the first set and not in the second set."
   ]
  },
  {
   "cell_type": "code",
   "execution_count": 17,
   "metadata": {},
   "outputs": [
    {
     "name": "stdout",
     "output_type": "stream",
     "text": [
      "{10, 30}\n"
     ]
    }
   ],
   "source": [
    "set1 = {10, 20, 30}\n",
    "set2 = {20, 40, 50}\n",
    "\n",
    "set3 = set1.difference(set2)\n",
    "print(set3)"
   ]
  },
  {
   "cell_type": "markdown",
   "metadata": {},
   "source": [
    "Remove 10, 20, 30 elements from a following set at once"
   ]
  },
  {
   "cell_type": "code",
   "execution_count": 18,
   "metadata": {},
   "outputs": [
    {
     "name": "stdout",
     "output_type": "stream",
     "text": [
      "{40, 50, 20, 30}\n"
     ]
    }
   ],
   "source": [
    "set1 = {10, 20, 30, 40, 50}\n",
    "\n",
    "set1.remove(10)\n",
    "print(set1)"
   ]
  },
  {
   "cell_type": "code",
   "execution_count": 21,
   "metadata": {},
   "outputs": [
    {
     "name": "stdout",
     "output_type": "stream",
     "text": [
      "{40, 50}\n"
     ]
    }
   ],
   "source": [
    "set1 = {10, 20, 30, 40, 50}\n",
    "\n",
    "set1.difference_update({10, 20, 30})\n",
    "print(set1)"
   ]
  },
  {
   "cell_type": "markdown",
   "metadata": {},
   "source": [
    "Return a set of all elements in either A or B, but not both"
   ]
  },
  {
   "cell_type": "code",
   "execution_count": 22,
   "metadata": {},
   "outputs": [
    {
     "name": "stdout",
     "output_type": "stream",
     "text": [
      "{20, 70, 10, 60}\n"
     ]
    }
   ],
   "source": [
    "set1 = {10, 20, 30, 40, 50}\n",
    "set2 = {30, 40, 50, 60, 70}\n",
    "\n",
    "print(set1.symmetric_difference(set2))"
   ]
  },
  {
   "cell_type": "markdown",
   "metadata": {},
   "source": [
    "Determines whether or not the following two sets have any elements in common. If yes display the common elements"
   ]
  },
  {
   "cell_type": "code",
   "execution_count": 23,
   "metadata": {},
   "outputs": [
    {
     "name": "stdout",
     "output_type": "stream",
     "text": [
      "Yes\n"
     ]
    }
   ],
   "source": [
    "set1 = {10, 20, 30, 40, 50}\n",
    "set2 = {60, 70, 80, 90, 10}\n",
    "\n",
    "if set1.intersection(set2):\n",
    "    print('Yes')\n",
    "else:\n",
    "    print('No')"
   ]
  },
  {
   "cell_type": "code",
   "execution_count": 24,
   "metadata": {},
   "outputs": [
    {
     "name": "stdout",
     "output_type": "stream",
     "text": [
      "No\n"
     ]
    }
   ],
   "source": [
    "set1 = {10, 20, 30, 40, 50}\n",
    "set2 = {60, 70, 80, 90}\n",
    "\n",
    "if set1.intersection(set2):\n",
    "    print('Yes')\n",
    "else:\n",
    "    print('No')"
   ]
  },
  {
   "cell_type": "markdown",
   "metadata": {},
   "source": [
    "Update set1 by adding items from set2, except common items"
   ]
  },
  {
   "cell_type": "code",
   "execution_count": 27,
   "metadata": {},
   "outputs": [
    {
     "name": "stdout",
     "output_type": "stream",
     "text": [
      "{70, 40, 10, 50, 20, 60, 30}\n"
     ]
    }
   ],
   "source": [
    "set1 = {10, 20, 30, 40, 50}\n",
    "set2 = {30, 40, 50, 60, 70}\n",
    "\n",
    "print(set1.union(set2))"
   ]
  },
  {
   "cell_type": "code",
   "execution_count": 28,
   "metadata": {},
   "outputs": [
    {
     "name": "stdout",
     "output_type": "stream",
     "text": [
      "{70, 10, 20, 60}\n"
     ]
    }
   ],
   "source": [
    "set1.symmetric_difference_update(set2)\n",
    "print(set1)"
   ]
  },
  {
   "cell_type": "markdown",
   "metadata": {},
   "source": [
    "Remove items from set1 that are not common to both set1 and set2"
   ]
  },
  {
   "cell_type": "code",
   "execution_count": 30,
   "metadata": {},
   "outputs": [
    {
     "name": "stdout",
     "output_type": "stream",
     "text": [
      "{10, 20}\n"
     ]
    }
   ],
   "source": [
    "set1 = {10, 20, 30, 40, 50}\n",
    "set2 = {30, 40, 50, 60, 70}\n",
    "set1.difference_update(set2)\n",
    "print(set1)"
   ]
  },
  {
   "cell_type": "code",
   "execution_count": 31,
   "metadata": {},
   "outputs": [
    {
     "name": "stdout",
     "output_type": "stream",
     "text": [
      "{40, 50, 30}\n"
     ]
    }
   ],
   "source": [
    "set1 = {10, 20, 30, 40, 50}\n",
    "set2 = {30, 40, 50, 60, 70}\n",
    "set1.intersection_update(set2)\n",
    "print(set1)"
   ]
  },
  {
   "cell_type": "markdown",
   "metadata": {},
   "source": [
    "### Equality relationship between two sets"
   ]
  },
  {
   "cell_type": "code",
   "execution_count": 6,
   "metadata": {},
   "outputs": [
    {
     "name": "stdout",
     "output_type": "stream",
     "text": [
      "Yes\n"
     ]
    },
    {
     "data": {
      "text/plain": [
       "0.002977132797241211"
      ]
     },
     "execution_count": 6,
     "metadata": {},
     "output_type": "execute_result"
    }
   ],
   "source": [
    "import time\n",
    "set1 = {10, 20, 30, 40, 50}\n",
    "set2 = {10, 20, 30, 40, 50}\n",
    "\n",
    "start_time = time.time()\n",
    "if set1 == set2:\n",
    "    print('Yes')\n",
    "else:\n",
    "    print('No')\n",
    "elapsed_time = time.time() - start_time\n",
    "elapsed_time "
   ]
  },
  {
   "cell_type": "markdown",
   "metadata": {},
   "source": [
    "# Dictionary"
   ]
  },
  {
   "cell_type": "markdown",
   "metadata": {},
   "source": [
    "## the behavior of having a key in dictionary"
   ]
  },
  {
   "cell_type": "code",
   "execution_count": 11,
   "metadata": {},
   "outputs": [
    {
     "name": "stdout",
     "output_type": "stream",
     "text": [
      "a in dic\n",
      "c not in dic\n"
     ]
    }
   ],
   "source": [
    "dic = {'a':1,'b':1}\n",
    "if dic['a']:\n",
    "    print('a in dic')\n",
    "try:\n",
    "    if dic['c']:\n",
    "        print('c in dic')\n",
    "except:\n",
    "    print('c not in dic')"
   ]
  },
  {
   "cell_type": "code",
   "execution_count": 2,
   "metadata": {},
   "outputs": [
    {
     "name": "stdout",
     "output_type": "stream",
     "text": [
      "dict_values([[], [], [], []])\n"
     ]
    }
   ],
   "source": [
    "color_mapping = {1:[], 2:[], 3:[], 4:[]}\n",
    "color_mapping\n",
    "\n",
    "print(color_mapping.values())"
   ]
  },
  {
   "cell_type": "markdown",
   "metadata": {},
   "source": [
    "### Check if Key Exists\n",
    "\n",
    "```Python\n",
    "thisdict = {\n",
    "  \"brand\": \"Ford\",\n",
    "  \"model\": \"Mustang\",\n",
    "  \"year\": 1964\n",
    "}\n",
    "if \"model\" in thisdict:\n",
    "  print(\"Yes, 'model' is one of the keys in the thisdict dictionary\")\n",
    "```\n",
    "\n",
    "### Dictionary Length\n",
    "```Python\n",
    "print(len(thisdict))\n",
    "```\n",
    "\n",
    "### key, value, items()\n",
    "```Python\n",
    "for x in thisdict.values():\n",
    "    print(x)\n",
    "\n",
    "for x, y in thisdict.items():\n",
    "    print(x, y)\n",
    "    \n",
    "```\n",
    "\n",
    "### iterate over a dictionary\n",
    "By default iterate on keys\n",
    "```Python\n",
    "dct = {\"a\":12, \"k\":9, \"p\":23}\n",
    "for k in dct:\n",
    "    print(dct[k])\n",
    "\n",
    ">> 12, 9, 23\n",
    "```\n",
    "\n",
    "### keys()\n",
    "```Python\n",
    "car = {\n",
    "  \"brand\": \"Ford\",\n",
    "  \"model\": \"Mustang\",\n",
    "  \"year\": 1964\n",
    "}\n",
    "\n",
    "x = car.keys()\n",
    "\n",
    "print(x)\n",
    "```\n",
    "\n",
    "### fromkeys\n",
    "Create a dictionary with 3 keys, all with the value 0:\n",
    "\n",
    "```Python\n",
    "x = ('key1', 'key2', 'key3')\n",
    "y = 0\n",
    "\n",
    "thisdict = dict.fromkeys(x, y)\n",
    "\n",
    "print(thisdict)\n",
    "```\n",
    "\n",
    "### update key and keep the value\n",
    "```Python\n",
    "# two steps\n",
    "dictionary[new_key] = dictionary[old_key]\n",
    "del dictionary[old_key]\n",
    "\n",
    "# one step\n",
    "dictionary[new_key] = dictionary.pop(old_key)\n",
    "\n",
    "```\n",
    "\n",
    "### Add items\n",
    "```Python\n",
    "thisdict = {\n",
    "  \"brand\": \"Ford\",\n",
    "  \"model\": \"Mustang\",\n",
    "  \"year\": 1964\n",
    "}\n",
    "thisdict[\"color\"] = \"red\"\n",
    "print(thisdict)\n",
    "```\n",
    "\n",
    "### Removing Items\n",
    "```Python\n",
    "thisdict = {\n",
    "  \"brand\": \"Ford\",\n",
    "  \"model\": \"Mustang\",\n",
    "  \"year\": 1964\n",
    "}\n",
    "thisdict.pop(\"model\")\n",
    "print(thisdict)\n",
    "\n",
    "\n",
    "thisdict = {\n",
    "  \"brand\": \"Ford\",\n",
    "  \"model\": \"Mustang\",\n",
    "  \"year\": 1964\n",
    "}\n",
    "thisdict.popitem()\n",
    "print(thisdict)\n",
    "\n",
    "\n",
    "thisdict = {\n",
    "  \"brand\": \"Ford\",\n",
    "  \"model\": \"Mustang\",\n",
    "  \"year\": 1964\n",
    "}\n",
    "del thisdict[\"model\"]\n",
    "print(thisdict)\n",
    "\n",
    "\n",
    "# delete the whole dict\n",
    "thisdict = {\n",
    "  \"brand\": \"Ford\",\n",
    "  \"model\": \"Mustang\",\n",
    "  \"year\": 1964\n",
    "}\n",
    "del thisdict\n",
    "print(thisdict) #this will cause an error because \"thisdict\" no longer exists.\n",
    "\n",
    "\n",
    "# empty the dict\n",
    "thisdict = {\n",
    "  \"brand\": \"Ford\",\n",
    "  \"model\": \"Mustang\",\n",
    "  \"year\": 1964\n",
    "}\n",
    "thisdict.clear()\n",
    "print(thisdict)\n",
    "```\n",
    "\n",
    "d.update(<obj>)\n",
    "> Merges a dictionary with another dictionary or with an iterable of key-value pairs.\n",
    "    \n",
    "If <obj> is a dictionary, d.update(<obj>) merges the entries from <obj> into d. For each key in <obj>:\n",
    "\n",
    "If the key is not present in d, the key-value pair from <obj> is added to d.\n",
    "If the key is already present in d, the corresponding value in d for that key is updated to the value from <obj>.\n",
    "\n",
    "```Python\n",
    ">>> d1 = {'a': 10, 'b': 20, 'c': 30}\n",
    ">>> d2 = {'b': 200, 'd': 400}\n",
    "\n",
    ">>> d1.update(d2)\n",
    ">>> d1\n",
    "{'a': 10, 'b': 200, 'c': 30, 'd': 400}\n",
    "```\n",
    "In this example, key 'b' already exists in d1, so its value is updated to 200, the value for that key from d2. However, there is no key 'd' in d1, so that key-value pair is added from d2.\n",
    "\n",
    "<obj> may also be a sequence of key-value pairs, similar to when the dict() function is used to define a dictionary.\n",
    "    \n",
    "```Python\n",
    ">>> d1 = {'a': 10, 'b': 20, 'c': 30}\n",
    ">>> d1.update([('b', 200), ('d', 400)])\n",
    ">>> d1\n",
    "{'a': 10, 'b': 200, 'c': 30, 'd': 400}\n",
    "```"
   ]
  },
  {
   "cell_type": "markdown",
   "metadata": {},
   "source": [
    "### Copy a Dictionary\n",
    "You cannot copy a dictionary simply by typing dict2 = dict1, because: dict2 will only be a reference to dict1, and changes made in dict1 will automatically also be made in dict2.\n",
    "\n",
    "There are ways to make a copy, one way is to use the built-in Dictionary method copy().\n",
    "```Python\n",
    "thisdict = {\n",
    "  \"brand\": \"Ford\",\n",
    "  \"model\": \"Mustang\",\n",
    "  \"year\": 1964\n",
    "}\n",
    "mydict = thisdict.copy()\n",
    "print(mydict)\n",
    "```\n",
    "Another way to make a copy is to use the built-in function dict().\n",
    "\n",
    "\n",
    "```Python\n",
    "thisdict = {\n",
    "  \"brand\": \"Ford\",\n",
    "  \"model\": \"Mustang\",\n",
    "  \"year\": 1964\n",
    "}\n",
    "mydict = dict(thisdict)\n",
    "print(mydict)\n",
    "```"
   ]
  },
  {
   "cell_type": "markdown",
   "metadata": {},
   "source": [
    "## Advanced operations on dictionary\n"
   ]
  },
  {
   "cell_type": "code",
   "execution_count": 16,
   "metadata": {},
   "outputs": [
    {
     "ename": "TypeError",
     "evalue": "unsupported operand type(s) for -: 'dict' and 'dict'",
     "output_type": "error",
     "traceback": [
      "\u001b[0;31m---------------------------------------------------------------------------\u001b[0m",
      "\u001b[0;31mTypeError\u001b[0m                                 Traceback (most recent call last)",
      "\u001b[0;32m<ipython-input-16-b46fe39c68db>\u001b[0m in \u001b[0;36m<module>\u001b[0;34m\u001b[0m\n\u001b[1;32m      9\u001b[0m \u001b[0mdict2\u001b[0m\u001b[0;34m[\u001b[0m\u001b[0;34m'b'\u001b[0m\u001b[0;34m]\u001b[0m \u001b[0;34m=\u001b[0m \u001b[0;36m24\u001b[0m\u001b[0;34m\u001b[0m\u001b[0;34m\u001b[0m\u001b[0m\n\u001b[1;32m     10\u001b[0m \u001b[0;34m\u001b[0m\u001b[0m\n\u001b[0;32m---> 11\u001b[0;31m \u001b[0mprint\u001b[0m\u001b[0;34m(\u001b[0m\u001b[0mdict1\u001b[0m\u001b[0;34m-\u001b[0m\u001b[0mdict2\u001b[0m\u001b[0;34m)\u001b[0m\u001b[0;34m\u001b[0m\u001b[0;34m\u001b[0m\u001b[0m\n\u001b[0m\u001b[1;32m     12\u001b[0m \u001b[0;34m\u001b[0m\u001b[0m\n\u001b[1;32m     13\u001b[0m \u001b[0mdict2\u001b[0m\u001b[0;34m[\u001b[0m\u001b[0;34m'b'\u001b[0m\u001b[0;34m]\u001b[0m \u001b[0;34m=\u001b[0m \u001b[0;36m30\u001b[0m\u001b[0;34m\u001b[0m\u001b[0;34m\u001b[0m\u001b[0m\n",
      "\u001b[0;31mTypeError\u001b[0m: unsupported operand type(s) for -: 'dict' and 'dict'"
     ]
    }
   ],
   "source": [
    "# difference between two dictionary\n",
    "\n",
    "dict1 = {}\n",
    "dict1['i'] = 56       \n",
    "dict1['a'] = 18 \n",
    "dict1['b'] = 24\n",
    "\n",
    "dict2 = {}\n",
    "dict2['i'] = 56       \n",
    "dict2['a'] = 18 \n",
    "dict2['b'] = 24\n",
    "\n",
    "print(dict1-dict2)\n",
    "\n",
    "dict2['b'] = 30\n",
    "print(dict1-dict2)\n",
    "\n",
    "dict2['c'] = 24\n",
    "print(dict1-dict2)"
   ]
  },
  {
   "cell_type": "code",
   "execution_count": 20,
   "metadata": {},
   "outputs": [
    {
     "name": "stdout",
     "output_type": "stream",
     "text": [
      "Counter({'a': 2, 'b': 2, 'd': 1})\n",
      "Counter({'a': 2, 'b': 2, 'd': 1})\n",
      "Counter()\n",
      "Counter({'b': 1})\n",
      "Counter({'b': 1})\n",
      "Counter({'c': 1})\n"
     ]
    }
   ],
   "source": [
    "from collections import Counter\n",
    "\n",
    "dict1 = Counter(list('abbad'))\n",
    "\n",
    "dict2 = Counter(list('abbad'))\n",
    "\n",
    "print(dict1)\n",
    "print(dict2)\n",
    "print(dict1-dict2)\n",
    "\n",
    "dict2['b'] = 1\n",
    "print(dict1-dict2)\n",
    "\n",
    "dict2['c'] = 1\n",
    "print(dict1-dict2)\n",
    "print(dict2-dict1)"
   ]
  },
  {
   "cell_type": "markdown",
   "metadata": {},
   "source": [
    "# Sort dictionary\n",
    "key Parameter in Python sorted() function\n",
    "Based on the returned value of the key function, you can sort the given iterable.\n",
    "`sorted(iterable, key=len)`\n"
   ]
  },
  {
   "cell_type": "code",
   "execution_count": 24,
   "metadata": {},
   "outputs": [
    {
     "name": "stdout",
     "output_type": "stream",
     "text": [
      "Sorted list: [(4, 1), (2, 2), (1, 3), (3, 4)]\n"
     ]
    }
   ],
   "source": [
    "# take the second element for sort\n",
    "def take_second(elem):\n",
    "    return elem[1]\n",
    "\n",
    "# random list\n",
    "random = [(2, 2), (3, 4), (4, 1), (1, 3)]\n",
    "\n",
    "# sort list with key\n",
    "sorted_list = sorted(random, key=take_second)\n",
    "\n",
    "# print list\n",
    "print('Sorted list:', sorted_list)"
   ]
  },
  {
   "cell_type": "markdown",
   "metadata": {},
   "source": [
    "### [Sorting with multiple keys](https://www.programiz.com/python-programming/methods/built-in/sorted)\n",
    "\n",
    "```Python\n",
    "# Nested list of student's info in a Science Olympiad\n",
    "# List elements: (Student's Name, Marks out of 100, Age)\n",
    "\n",
    "participant_list = [\n",
    "    ('Alison', 50, 18),\n",
    "    ('Terence', 75, 12),\n",
    "    ('David', 75, 20),\n",
    "    ('Jimmy', 90, 22),\n",
    "    ('John', 45, 12)\n",
    "]\n",
    "```\n",
    "We want to sort the list in such a way that the student with the highest marks is in the beginning. In case the students have equal marks, they must be sorted so that the younger participant comes first.\n",
    "\n",
    "We can achieve this type of sorting with multiple keys by returning **tuple** instead of a number.\n",
    "\n",
    "*Two tuples can be compared* by comparing their elements starting from first. If there is a tie (elements are equal), the second element is compared, and so on.\n",
    "把tuple用在比较上\n",
    "```Python\n",
    ">>> (1,3) > (1, 4)\n",
    "False\n",
    ">>> (1, 4) < (2,2)\n",
    "True\n",
    ">>> (1, 4, 1) < (2, 1)\n",
    "True\n",
    "```\n",
    "Let's use this logic to build our sorting logic.\n",
    "\n",
    "```Python\n",
    "participant_list = [\n",
    "    ('Alison', 50, 18),\n",
    "    ('Terence', 75, 12),\n",
    "    ('David', 75, 20),\n",
    "    ('Jimmy', 90, 22),\n",
    "    ('John', 45, 12)\n",
    "]\n",
    "\n",
    "\n",
    "def sorter(item):\n",
    "    # Since highest marks first, least error = most marks\n",
    "    error = 100 - item[1]\n",
    "    age = item[2]\n",
    "    return (error, age)\n",
    "\n",
    "\n",
    "sorted_list = sorted(participant_list, key=sorter)\n",
    "print(sorted_list)\n",
    "```\n",
    "\n",
    "Using Lambda\n",
    "```Python\n",
    "participant_list = [\n",
    "    ('Alison', 50, 18),\n",
    "    ('Terence', 75, 12),\n",
    "    ('David', 75, 20),\n",
    "    ('Jimmy', 90, 22),\n",
    "    ('John', 45, 12)\n",
    "]\n",
    "\n",
    "sorted_list = sorted(participant_list, key=lambda item: (100-item[1], item[2]))\n",
    "print(sorted_list)\n",
    "```"
   ]
  },
  {
   "cell_type": "code",
   "execution_count": 1,
   "metadata": {},
   "outputs": [
    {
     "name": "stdout",
     "output_type": "stream",
     "text": [
      "[('a', 18), ('ab', 18), ('af', 18), ('b', 24), ('i', 56), ('io', 56)]\n",
      "['i', 'io', 'b', 'a', 'ab', 'af']\n"
     ]
    }
   ],
   "source": [
    "\"\"\"\n",
    "Sorting the Keys and Values in alphabetical using the value\n",
    "\"\"\"\n",
    "\n",
    "# Declaring hash function       \n",
    "key_value ={}     \n",
    "\n",
    "# Initializing the value  \n",
    "key_value['i'] = 56       \n",
    "key_value['io'] = 56 \n",
    "key_value['a'] = 18 \n",
    "key_value['b'] = 24\n",
    "key_value['ab'] = 18      \n",
    "key_value['af'] = 18 \n",
    "\n",
    "print(sorted(key_value.items(), key=lambda kv: (kv[1], kv[0])))\n",
    "# print(sorted(key_value.items(), key = lambda kv:(kv[1], kv[0]), reverse=True)) \n",
    "print([v[0] for v in sorted(key_value.items(), key=lambda kv: (-kv[1], kv[0]))])\n",
    "\n"
   ]
  },
  {
   "cell_type": "code",
   "execution_count": 9,
   "metadata": {},
   "outputs": [
    {
     "name": "stdout",
     "output_type": "stream",
     "text": [
      "[('e', 56), ('i', 56), ('io', 56), ('b', 24), ('a', 18), ('ab', 18), ('af', 18)]\n"
     ]
    }
   ],
   "source": [
    "# COMPARISON\n",
    "# reference:\n",
    "# https://stackoverflow.com/questions/9919342/sorting-a-dictionary-by-value-then-key\n",
    "\n",
    "key_value['i'] = 56 \n",
    "key_value['e'] = 56  \n",
    "key_value['io'] = 56 \n",
    "key_value['a'] = 18 \n",
    "key_value['b'] = 24\n",
    "key_value['ab'] = 18      \n",
    "key_value['af'] = 18 \n",
    "\n",
    "print(sorted(key_value.items(), key=lambda kv: (-kv[1], kv[0])))"
   ]
  },
  {
   "cell_type": "code",
   "execution_count": 8,
   "metadata": {},
   "outputs": [
    {
     "name": "stdout",
     "output_type": "stream",
     "text": [
      "[('a', 18), ('ab', 18), ('af', 18), ('b', 24), ('e', 56), ('i', 56), ('io', 56)]\n"
     ]
    }
   ],
   "source": [
    "key_value['i'] = 56 \n",
    "key_value['e'] = 56  \n",
    "key_value['io'] = 56 \n",
    "key_value['a'] = 18 \n",
    "key_value['b'] = 24\n",
    "key_value['ab'] = 18      \n",
    "key_value['af'] = 18 \n",
    "\n",
    "print(sorted(key_value.items(), key=lambda kv: (kv[0], kv[1])))"
   ]
  },
  {
   "cell_type": "code",
   "execution_count": 4,
   "metadata": {},
   "outputs": [
    {
     "name": "stdout",
     "output_type": "stream",
     "text": [
      "OrderedDict([('rajnish', '9'), ('ravi', '10'), ('sanjeev', '15'), ('suraj', '32'), ('yash', '2')])\n"
     ]
    }
   ],
   "source": [
    "\"\"\"\n",
    "Sort the dictionary by key\n",
    "Note:it will sort in lexicogrphical order\n",
    "\"\"\"\n",
    "\n",
    "from collections import OrderedDict \n",
    "  \n",
    "dict = {'ravi':'10','rajnish':'9','sanjeev':'15','yash':'2','suraj':'32'} \n",
    "dict1 = OrderedDict(sorted(dict.items())) \n",
    "print(dict1) "
   ]
  },
  {
   "cell_type": "code",
   "execution_count": 5,
   "metadata": {},
   "outputs": [
    {
     "ename": "TypeError",
     "evalue": "unhashable type: 'slice'",
     "output_type": "error",
     "traceback": [
      "\u001b[0;31m---------------------------------------------------------------------------\u001b[0m",
      "\u001b[0;31mTypeError\u001b[0m                                 Traceback (most recent call last)",
      "\u001b[0;32m<ipython-input-5-8a970a79ebca>\u001b[0m in \u001b[0;36m<module>\u001b[0;34m\u001b[0m\n\u001b[1;32m      3\u001b[0m \"\"\"\n\u001b[1;32m      4\u001b[0m \u001b[0;34m\u001b[0m\u001b[0m\n\u001b[0;32m----> 5\u001b[0;31m \u001b[0mkey_value\u001b[0m\u001b[0;34m[\u001b[0m\u001b[0;34m:\u001b[0m\u001b[0;36m3\u001b[0m\u001b[0;34m]\u001b[0m\u001b[0;34m\u001b[0m\u001b[0;34m\u001b[0m\u001b[0m\n\u001b[0m",
      "\u001b[0;31mTypeError\u001b[0m: unhashable type: 'slice'"
     ]
    }
   ],
   "source": [
    "\"\"\"\n",
    "dictionary may not be able to be sliced\n",
    "\"\"\"\n",
    "\n",
    "key_value[:3]"
   ]
  },
  {
   "cell_type": "markdown",
   "metadata": {},
   "source": [
    "# [Conversion from list to dic](https://appdividend.com/2019/11/12/how-to-convert-python-list-to-dictionary-example/)\n",
    "\n",
    "- Convert the given list to dictionary such that all the odd elements have the key, and even number elements have the value. \n",
    "- Convert a List to Dictionary with the same values.\n",
    "- Convert two lists to dictionary.\n",
    "- Convert a list of tuples to the dictionary."
   ]
  },
  {
   "cell_type": "code",
   "execution_count": 12,
   "metadata": {},
   "outputs": [
    {
     "name": "stdout",
     "output_type": "stream",
     "text": [
      "{'m': 1, 'b': 2, 'k': 3}\n"
     ]
    }
   ],
   "source": [
    "# We can convert a list to dict using list comprehension and make a key: value pair of consecutive elements. \n",
    "# Finally, typecast the list to dict type.\n",
    "\n",
    "def listToDict(lst):\n",
    "    op = {lst[i]: lst[i + 1] for i in range(0, len(lst), 2)}\n",
    "    return op\n",
    "\n",
    "\n",
    "lst = ['m', 1, 'b', 2, 'k', 3]\n",
    "print(listToDict(lst))"
   ]
  },
  {
   "cell_type": "code",
   "execution_count": 13,
   "metadata": {},
   "outputs": [
    {
     "name": "stdout",
     "output_type": "stream",
     "text": [
      "{'millie': 0, 'caleb': 0, 'finn': 0, 'sadie': 0, 'noah': 0}\n"
     ]
    }
   ],
   "source": [
    "# create a dictionary with all elements in this list as keys\n",
    "# Each key’s value will be the same, for example. 0\n",
    "\n",
    "def listToDict(lst):\n",
    "    op = { i : 0 for i in lst }\n",
    "    return op\n",
    "\n",
    "\n",
    "lst = ['millie', 'caleb', 'finn', 'sadie', 'noah']\n",
    "print(listToDict(lst))"
   ]
  },
  {
   "cell_type": "markdown",
   "metadata": {},
   "source": [
    "Python Dictionary **fromKeys()** method creates a new dictionary from a given sequence of elements with a value provided by a user.\n",
    "\n",
    "creating the dictionary from the list, so Python Dict *fromKeys()* can get the key values from the Python *List* and then convert it to the dictionary keys. We pass the second parameter as 5, which is value, so we get the same output as the above program."
   ]
  },
  {
   "cell_type": "code",
   "execution_count": 14,
   "metadata": {},
   "outputs": [
    {
     "name": "stdout",
     "output_type": "stream",
     "text": [
      "{'millie': 5, 'caleb': 5, 'finn': 5, 'sadie': 5, 'noah': 5}\n"
     ]
    }
   ],
   "source": [
    "def listToDict(lst):\n",
    "    op = dict.fromkeys(lst , 5)\n",
    "    return op\n",
    "\n",
    "\n",
    "lst = ['millie', 'caleb', 'finn', 'sadie', 'noah']\n",
    "print(listToDict(lst))"
   ]
  },
  {
   "cell_type": "code",
   "execution_count": 16,
   "metadata": {},
   "outputs": [
    {
     "name": "stdout",
     "output_type": "stream",
     "text": [
      "{'millie': 1, 'caleb': 1, 'finn': 1, 'sadie': 1, 'noah': 1}\n"
     ]
    }
   ],
   "source": [
    "# What if lst has duplicates\n",
    "\n",
    "def listToDict(lst):\n",
    "    op = dict.fromkeys(lst , 1)\n",
    "    return op\n",
    "\n",
    " \n",
    "lst = ['millie', 'caleb', 'finn', 'sadie', 'noah', 'finn'] # ignore duplicated 'finn'\n",
    "print(listToDict(lst))"
   ]
  },
  {
   "cell_type": "code",
   "execution_count": 17,
   "metadata": {},
   "outputs": [
    {
     "name": "stdout",
     "output_type": "stream",
     "text": [
      "{0: 'millie', 1: 'caleb', 2: 'finn', 3: 'sadie', 4: 'noah'}\n"
     ]
    }
   ],
   "source": [
    "# creating a dictionary with indexed keys, and values are python list items using dictionary comprehension.\n",
    "\n",
    "def listToDict(lst):\n",
    "    op = { i : lst[i] for i in range(0, len(lst) ) }\n",
    "    return op\n",
    "\n",
    "\n",
    "lst = ['millie', 'caleb', 'finn', 'sadie', 'noah']\n",
    "print(listToDict(lst))"
   ]
  },
  {
   "cell_type": "markdown",
   "metadata": {},
   "source": [
    "### How to convert two lists to dictionary"
   ]
  },
  {
   "cell_type": "code",
   "execution_count": 1,
   "metadata": {},
   "outputs": [
    {
     "name": "stdout",
     "output_type": "stream",
     "text": [
      "{'millie': 11, 'caleb': 21, 'finn': 19, 'sadie': 29, 'noah': 46}\n"
     ]
    }
   ],
   "source": [
    "def listToDict(lstA, lstB):\n",
    "    zippedLst = zip(lstA, lstB)\n",
    "    op = dict(zippedLst)\n",
    "    return op\n",
    "\n",
    "\n",
    "lstStr = ['millie', 'caleb', 'finn', 'sadie', 'noah']\n",
    "lstInt = [11, 21, 19, 29, 46]\n",
    "print(listToDict(lstStr, lstInt))"
   ]
  },
  {
   "cell_type": "markdown",
   "metadata": {},
   "source": [
    "### Convert the list of tuples to dictionary in Python"
   ]
  },
  {
   "cell_type": "code",
   "execution_count": 2,
   "metadata": {},
   "outputs": [
    {
     "name": "stdout",
     "output_type": "stream",
     "text": [
      "{'millie': 11, 'caleb': 21, 'finn': 19, 'sadie': 29, 'noah': 46}\n"
     ]
    }
   ],
   "source": [
    "def listToDict(lstTup):\n",
    "    op = dict(lstTup)\n",
    "    return op\n",
    "\n",
    "\n",
    "lstTuple = [('millie', 11), ('caleb', 21),\n",
    "            ('finn', 19), ('sadie', 29), ('noah', 46)]\n",
    "print(listToDict(lstTuple))"
   ]
  },
  {
   "cell_type": "markdown",
   "metadata": {},
   "source": [
    "# Collection: The defaultdict\n",
    "\n",
    "The defaultdict works exactly like a python dictionary, except for it does not throw KeyError when you \n",
    "try to access a non-existent key.\n",
    "\n",
    "Instead, it initializes the key with the element of the data type that you pass as an argument at the creation of defaultdict. The data type is called default_factory.\n",
    "\n"
   ]
  },
  {
   "cell_type": "code",
   "execution_count": 7,
   "metadata": {},
   "outputs": [
    {
     "name": "stdout",
     "output_type": "stream",
     "text": [
      "0\n"
     ]
    }
   ],
   "source": [
    "from collections import defaultdict\n",
    "\n",
    "nums = defaultdict(int)\n",
    "nums['one'] = 1\n",
    "nums['two'] = 2\n",
    "print(nums['three'])"
   ]
  },
  {
   "cell_type": "code",
   "execution_count": 5,
   "metadata": {},
   "outputs": [
    {
     "name": "stdout",
     "output_type": "stream",
     "text": [
      "defaultdict(<class 'int'>, {'Mike': 5, 'John': 3, 'Anna': 2, 'Britney': 1, 'Smith': 2})\n"
     ]
    }
   ],
   "source": [
    "count = defaultdict(int)\n",
    "names_list = \"Mike John Mike Anna Mike John John Mike Mike Britney Smith Anna Smith\".split()\n",
    "for names in names_list:\n",
    "    count[names] +=1\n",
    "print(count)"
   ]
  },
  {
   "cell_type": "code",
   "execution_count": 6,
   "metadata": {},
   "outputs": [
    {
     "ename": "TypeError",
     "evalue": "cannot convert dictionary update sequence element #0 to a sequence",
     "output_type": "error",
     "traceback": [
      "\u001b[0;31m---------------------------------------------------------------------------\u001b[0m",
      "\u001b[0;31mTypeError\u001b[0m                                 Traceback (most recent call last)",
      "\u001b[0;32m<ipython-input-6-25083d190eb8>\u001b[0m in \u001b[0;36m<module>\u001b[0;34m\u001b[0m\n\u001b[1;32m      1\u001b[0m \u001b[0mli\u001b[0m \u001b[0;34m=\u001b[0m \u001b[0;34m[\u001b[0m\u001b[0;36m2\u001b[0m\u001b[0;34m,\u001b[0m\u001b[0;36m5\u001b[0m\u001b[0;34m,\u001b[0m\u001b[0;36m5\u001b[0m\u001b[0;34m,\u001b[0m\u001b[0;36m7\u001b[0m\u001b[0;34m]\u001b[0m\u001b[0;34m\u001b[0m\u001b[0;34m\u001b[0m\u001b[0m\n\u001b[0;32m----> 2\u001b[0;31m \u001b[0mdic\u001b[0m \u001b[0;34m=\u001b[0m \u001b[0mdict\u001b[0m\u001b[0;34m(\u001b[0m\u001b[0mli\u001b[0m\u001b[0;34m)\u001b[0m\u001b[0;34m\u001b[0m\u001b[0;34m\u001b[0m\u001b[0m\n\u001b[0m\u001b[1;32m      3\u001b[0m \u001b[0mli_dict\u001b[0m \u001b[0;34m=\u001b[0m \u001b[0mdefaultdict\u001b[0m\u001b[0;34m(\u001b[0m\u001b[0mint\u001b[0m\u001b[0;34m,\u001b[0m \u001b[0mli\u001b[0m\u001b[0;34m)\u001b[0m\u001b[0;34m\u001b[0m\u001b[0;34m\u001b[0m\u001b[0m\n\u001b[1;32m      4\u001b[0m \u001b[0mli_dict\u001b[0m\u001b[0;34m\u001b[0m\u001b[0;34m\u001b[0m\u001b[0m\n",
      "\u001b[0;31mTypeError\u001b[0m: cannot convert dictionary update sequence element #0 to a sequence"
     ]
    }
   ],
   "source": [
    "li = [2,5,5,7]\n",
    "dic = dict(li)\n",
    "li_dict = defaultdict(int, li)\n",
    "li_dict"
   ]
  },
  {
   "cell_type": "code",
   "execution_count": 10,
   "metadata": {},
   "outputs": [
    {
     "name": "stdout",
     "output_type": "stream",
     "text": [
      "defaultdict(<class 'list'>, {'one': [1], 'two': [2, 3]})\n",
      "[]\n"
     ]
    }
   ],
   "source": [
    "nums = defaultdict(list)\n",
    "nums['one'] = [1]\n",
    "nums['two'] = [2,3]\n",
    "print(nums)\n",
    "print(nums['three'])"
   ]
  },
  {
   "cell_type": "markdown",
   "metadata": {},
   "source": [
    "# Collection: Counter \n",
    "\n",
    "The Counter() function in collections module takes an iterable or a mapping as the argument and returns a Dictionary. \n",
    "\n",
    "In this dictionary, a key is an element in the iterable or the mapping and value is the number of times that element exists in the iterable or the mapping.\n",
    "\n",
    "https://stackabuse.com/introduction-to-pythons-collections-module/#thecounter"
   ]
  },
  {
   "cell_type": "code",
   "execution_count": 1,
   "metadata": {},
   "outputs": [
    {
     "data": {
      "text/plain": [
       "Counter({1: 3, 2: 2, 3: 2, 4: 1, 6: 1, 7: 1, 8: 1})"
      ]
     },
     "execution_count": 1,
     "metadata": {},
     "output_type": "execute_result"
    }
   ],
   "source": [
    "from collections import Counter\n",
    "\n",
    "li = [1,2,3,4,1,2,6,7,3,8,1]\n",
    "cnt = Counter(li)\n",
    "cnt"
   ]
  },
  {
   "cell_type": "code",
   "execution_count": 2,
   "metadata": {},
   "outputs": [
    {
     "data": {
      "text/plain": [
       "3"
      ]
     },
     "execution_count": 2,
     "metadata": {},
     "output_type": "execute_result"
    }
   ],
   "source": [
    "cnt[1]"
   ]
  },
  {
   "cell_type": "code",
   "execution_count": 3,
   "metadata": {},
   "outputs": [
    {
     "name": "stdout",
     "output_type": "stream",
     "text": [
      "[1, 1, 1, 2, 2, 3, 3, 4, 6, 7, 8]\n"
     ]
    }
   ],
   "source": [
    "print(list(cnt.elements()))"
   ]
  },
  {
   "cell_type": "code",
   "execution_count": 4,
   "metadata": {},
   "outputs": [
    {
     "name": "stdout",
     "output_type": "stream",
     "text": [
      "[(1, 3), (2, 2)]\n"
     ]
    }
   ],
   "source": [
    "print(cnt.most_common(2))"
   ]
  },
  {
   "cell_type": "code",
   "execution_count": 5,
   "metadata": {},
   "outputs": [
    {
     "name": "stdout",
     "output_type": "stream",
     "text": [
      "Counter({1: 2, 2: 2})\n"
     ]
    }
   ],
   "source": [
    "cnt = Counter({1:3,2:4})\n",
    "deduct = {1:1, 2:2}\n",
    "cnt.subtract(deduct)\n",
    "print(cnt)"
   ]
  },
  {
   "cell_type": "code",
   "execution_count": 6,
   "metadata": {},
   "outputs": [
    {
     "data": {
      "text/plain": [
       "[('ta', 4), ('the', 4), ('is', 3), ('sunny', 2), ('day', 1)]"
      ]
     },
     "execution_count": 6,
     "metadata": {},
     "output_type": "execute_result"
    }
   ],
   "source": [
    "# sorted()\n",
    "\n",
    "top_k = [('the', 4), ('ta', 4), ('is', 3), ('sunny', 2), ('day', 1)]\n",
    "sorted(top_k, key=lambda kv:(-kv[1],kv[0]))"
   ]
  },
  {
   "cell_type": "code",
   "execution_count": 10,
   "metadata": {},
   "outputs": [
    {
     "data": {
      "text/plain": [
       "[('day', 1), ('sunny', 2), ('is', 3), ('the', 4), ('ta', 4)]"
      ]
     },
     "execution_count": 10,
     "metadata": {},
     "output_type": "execute_result"
    }
   ],
   "source": [
    "# sort()\n",
    "\n",
    "top_k.sort(key=lambda x: x[1])\n",
    "top_k"
   ]
  },
  {
   "cell_type": "code",
   "execution_count": 7,
   "metadata": {},
   "outputs": [
    {
     "name": "stdout",
     "output_type": "stream",
     "text": [
      "i 2\n",
      "love 2\n",
      "coding 1\n",
      "leetcode 1\n"
     ]
    }
   ],
   "source": [
    "words = [\"i\", \"love\", \"leetcode\", \"i\", \"love\", \"coding\"]\n",
    "counter_obj = Counter(words)\n",
    "for k, v in sorted(counter_obj.items(), key=lambda x: (-x[1],x[0])):\n",
    "    print(k, v)"
   ]
  },
  {
   "cell_type": "code",
   "execution_count": 21,
   "metadata": {},
   "outputs": [
    {
     "name": "stdout",
     "output_type": "stream",
     "text": [
      "Counter({'a': 2, 'b': 2, 'd': 1})\n",
      "Counter({'a': 2, 'b': 2, 'd': 1})\n",
      "Counter()\n",
      "Counter({'b': 1})\n",
      "Counter({'b': 1})\n",
      "Counter({'c': 1})\n"
     ]
    }
   ],
   "source": [
    "from collections import Counter\n",
    "\n",
    "dict1 = Counter(list('abbad'))\n",
    "\n",
    "dict2 = Counter(list('abbad'))\n",
    "\n",
    "print(dict1)\n",
    "print(dict2)\n",
    "print(dict1-dict2)\n",
    "\n",
    "dict2['b'] = 1\n",
    "print(dict1-dict2)\n",
    "\n",
    "dict2['c'] = 1\n",
    "print(dict1-dict2)\n",
    "print(dict2-dict1)"
   ]
  },
  {
   "cell_type": "code",
   "execution_count": 22,
   "metadata": {},
   "outputs": [
    {
     "name": "stdout",
     "output_type": "stream",
     "text": [
      "Counter({'a': 2, 'b': 2, 'd': 1, 'j': -1})\n"
     ]
    }
   ],
   "source": [
    "dict1['j'] -= 1\n",
    "print(dict1)"
   ]
  },
  {
   "cell_type": "code",
   "execution_count": 23,
   "metadata": {},
   "outputs": [
    {
     "data": {
      "text/plain": [
       "Counter({'j': 2, 'i': 2})"
      ]
     },
     "execution_count": 23,
     "metadata": {},
     "output_type": "execute_result"
    }
   ],
   "source": [
    "dict3 = Counter('jiji')\n",
    "dict3"
   ]
  },
  {
   "cell_type": "markdown",
   "metadata": {},
   "source": [
    "## class collections.OrderedDict([items])\n",
    "\n",
    "```Python\n",
    "popitem(last=True)\n",
    "\n",
    "move_to_end(key, last=True)\n",
    "```"
   ]
  },
  {
   "cell_type": "code",
   "execution_count": 1,
   "metadata": {},
   "outputs": [
    {
     "name": "stdout",
     "output_type": "stream",
     "text": [
      "OrderedDict([('Afghanistan', 93), ('Albania', 355), ('Algeria', 213), ('Andorra', 376), ('Angola', 244)])\n"
     ]
    }
   ],
   "source": [
    "# Sort the dictionary during the creation and print the members of the dictionary in reverse order\n",
    "from collections import OrderedDict\n",
    "\n",
    "dict = {'Afghanistan': 93, 'Albania': 355, 'Algeria': 213, 'Andorra': 376, 'Angola': 244}\n",
    "order_dict = OrderedDict(dict)\n",
    "print(order_dict)"
   ]
  },
  {
   "cell_type": "code",
   "execution_count": 2,
   "metadata": {},
   "outputs": [
    {
     "name": "stdout",
     "output_type": "stream",
     "text": [
      "('Angola', 244)\n",
      "OrderedDict([('Afghanistan', 93), ('Albania', 355), ('Algeria', 213), ('Andorra', 376)])\n",
      "OrderedDict([('Afghanistan', 93), ('Albania', 355), ('Andorra', 376), ('Algeria', 213)])\n"
     ]
    }
   ],
   "source": [
    "kv = order_dict.popitem()\n",
    "print(kv)\n",
    "print(order_dict)\n",
    "order_dict.move_to_end('Algeria')\n",
    "print(order_dict)"
   ]
  },
  {
   "cell_type": "code",
   "execution_count": 4,
   "metadata": {},
   "outputs": [
    {
     "ename": "TypeError",
     "evalue": "'odict_iterator' object is not reversible",
     "output_type": "error",
     "traceback": [
      "\u001b[0;31m---------------------------------------------------------------------------\u001b[0m",
      "\u001b[0;31mTypeError\u001b[0m                                 Traceback (most recent call last)",
      "\u001b[0;32m<ipython-input-4-e93648c5300a>\u001b[0m in \u001b[0;36m<module>\u001b[0;34m\u001b[0m\n\u001b[0;32m----> 1\u001b[0;31m \u001b[0morder_dict\u001b[0m \u001b[0;34m=\u001b[0m \u001b[0mreversed\u001b[0m\u001b[0;34m(\u001b[0m\u001b[0morder_dict\u001b[0m\u001b[0;34m)\u001b[0m\u001b[0;34m\u001b[0m\u001b[0;34m\u001b[0m\u001b[0m\n\u001b[0m\u001b[1;32m      2\u001b[0m \u001b[0;32mfor\u001b[0m \u001b[0mkey\u001b[0m \u001b[0;32min\u001b[0m \u001b[0morder_dict\u001b[0m\u001b[0;34m:\u001b[0m\u001b[0;34m\u001b[0m\u001b[0;34m\u001b[0m\u001b[0m\n\u001b[1;32m      3\u001b[0m     \u001b[0mprint\u001b[0m\u001b[0;34m(\u001b[0m\u001b[0mkey\u001b[0m\u001b[0;34m)\u001b[0m\u001b[0;34m\u001b[0m\u001b[0;34m\u001b[0m\u001b[0m\n",
      "\u001b[0;31mTypeError\u001b[0m: 'odict_iterator' object is not reversible"
     ]
    }
   ],
   "source": [
    "order_dict = reversed(order_dict)\n",
    "for key in order_dict:\n",
    "    print(key)"
   ]
  },
  {
   "cell_type": "code",
   "execution_count": 6,
   "metadata": {},
   "outputs": [
    {
     "ename": "AttributeError",
     "evalue": "'odict_iterator' object has no attribute 'items'",
     "output_type": "error",
     "traceback": [
      "\u001b[0;31m---------------------------------------------------------------------------\u001b[0m",
      "\u001b[0;31mAttributeError\u001b[0m                            Traceback (most recent call last)",
      "\u001b[0;32m<ipython-input-6-b6fe988e870f>\u001b[0m in \u001b[0;36m<module>\u001b[0;34m\u001b[0m\n\u001b[1;32m      1\u001b[0m \u001b[0;31m# order_dict = reversed(order_dict.items())\u001b[0m\u001b[0;34m\u001b[0m\u001b[0;34m\u001b[0m\u001b[0;34m\u001b[0m\u001b[0m\n\u001b[0;32m----> 2\u001b[0;31m \u001b[0;32mfor\u001b[0m \u001b[0mkey\u001b[0m \u001b[0;32min\u001b[0m \u001b[0morder_dict\u001b[0m\u001b[0;34m.\u001b[0m\u001b[0mitems\u001b[0m\u001b[0;34m(\u001b[0m\u001b[0;34m)\u001b[0m\u001b[0;34m:\u001b[0m\u001b[0;34m\u001b[0m\u001b[0;34m\u001b[0m\u001b[0m\n\u001b[0m\u001b[1;32m      3\u001b[0m     \u001b[0mprint\u001b[0m\u001b[0;34m(\u001b[0m\u001b[0mkey\u001b[0m\u001b[0;34m)\u001b[0m\u001b[0;34m\u001b[0m\u001b[0;34m\u001b[0m\u001b[0m\n",
      "\u001b[0;31mAttributeError\u001b[0m: 'odict_iterator' object has no attribute 'items'"
     ]
    }
   ],
   "source": [
    "order_dict = reversed(order_dict.items()) # reversed() return None\n",
    "for key in order_dict:\n",
    "    print(key)"
   ]
  },
  {
   "cell_type": "code",
   "execution_count": 10,
   "metadata": {},
   "outputs": [
    {
     "name": "stdout",
     "output_type": "stream",
     "text": [
      "OrderedDict()\n",
      "OrderedDict([('kiwi', 4), ('apple', 5), ('cat', 3)])\n"
     ]
    }
   ],
   "source": [
    "# creating a simple dict\n",
    "my_dict = {'kiwi': 4, 'apple': 5, 'cat': 3}\n",
    "\n",
    "# creating empty ordered dict\n",
    "ordered_dict = OrderedDict()\n",
    "print(ordered_dict)\n",
    "\n",
    "# creating ordered dict from dict\n",
    "ordered_dict = OrderedDict(my_dict)\n",
    "print(ordered_dict)"
   ]
  },
  {
   "cell_type": "code",
   "execution_count": 9,
   "metadata": {},
   "outputs": [
    {
     "name": "stdout",
     "output_type": "stream",
     "text": [
      "('cat', 3)\n",
      "OrderedDict([('kiwi', 4), ('apple', 5)])\n"
     ]
    }
   ],
   "source": [
    "# pop last item\n",
    "item = ordered_dict.popitem(True)\n",
    "print(item)\n",
    "print(ordered_dict)"
   ]
  },
  {
   "cell_type": "code",
   "execution_count": 11,
   "metadata": {},
   "outputs": [
    {
     "name": "stdout",
     "output_type": "stream",
     "text": [
      "cat\n",
      "apple\n",
      "kiwi\n"
     ]
    }
   ],
   "source": [
    "# reversed iteration\n",
    "for item in reversed(ordered_dict):\n",
    "    print(item)"
   ]
  },
  {
   "cell_type": "markdown",
   "metadata": {},
   "source": [
    "### OrderedDict Equality Tests Example"
   ]
  },
  {
   "cell_type": "code",
   "execution_count": 12,
   "metadata": {},
   "outputs": [
    {
     "name": "stdout",
     "output_type": "stream",
     "text": [
      "True\n",
      "False\n",
      "True\n"
     ]
    }
   ],
   "source": [
    "# equality tests\n",
    "d1 = {'a': 'A', 'b': 'B'}\n",
    "d2 = {'b': 'B', 'a': 'A'}\n",
    "\n",
    "od1 = OrderedDict({'a': 'A', 'b': 'B'})\n",
    "od2 = OrderedDict({'b': 'B', 'a': 'A'})\n",
    "\n",
    "print(d1 == d2)\n",
    "print(od1 == od2)\n",
    "print(d1 == od1)"
   ]
  },
  {
   "cell_type": "code",
   "execution_count": null,
   "metadata": {},
   "outputs": [],
   "source": [
    "\n",
    "\n",
    "\n",
    "\n",
    "\n",
    "\n",
    "\n",
    "\n"
   ]
  },
  {
   "cell_type": "markdown",
   "metadata": {},
   "source": [
    "# Leetcode Code Challenges"
   ]
  },
  {
   "cell_type": "code",
   "execution_count": null,
   "metadata": {},
   "outputs": [],
   "source": [
    "# 1.Two Sum\n",
    "\n",
    "# my solution\n",
    "\n",
    "from collections import defaultdict\n",
    "\n",
    "class Solution:\n",
    "    def twoSum(self, nums: List[int], target: int) -> List[int]:\n",
    "        nums_dict = defaultdict(list)\n",
    "        \n",
    "        for i,num in enumerate(nums):\n",
    "            if not nums_dict[num]:\n",
    "                nums_dict[num] = [i]\n",
    "            else:\n",
    "                nums_dict[num].append(i)\n",
    "                \n",
    "        for i,num in enumerate(nums):\n",
    "            div = target - num\n",
    "            print(\"num:{} div:{} nums_dict[div]:{}\".format(num, div, nums_dict[div]))\n",
    "            if nums_dict[div]:\n",
    "                if div != num:\n",
    "                    return [i, nums_dict[div][0]]\n",
    "                if div == num and len(nums_dict[div]) > 1:\n",
    "                    return nums_dict[div][:2]\n",
    "        return []"
   ]
  },
  {
   "cell_type": "code",
   "execution_count": null,
   "metadata": {},
   "outputs": [],
   "source": [
    "# Good solution\n",
    "\"\"\"\n",
    "for num in nums:\n",
    "    Put target - num in dictionary\n",
    "    if num is what you put in dictionary before\n",
    "        return \n",
    "\"\"\"\n",
    "\n",
    "class Solution:\n",
    "    def twoSum(self, nums: List[int], target: int) -> List[int]:\n",
    "        memory = {}\n",
    "        for i, e in enumerate(nums):\n",
    "            if e in memory: return (memory[e], i)\n",
    "            memory[(target - e)] = i\n",
    "        return []"
   ]
  },
  {
   "cell_type": "code",
   "execution_count": null,
   "metadata": {},
   "outputs": [],
   "source": [
    "### template: Two Sum\n",
    "\n"
   ]
  },
  {
   "cell_type": "code",
   "execution_count": 12,
   "metadata": {},
   "outputs": [
    {
     "data": {
      "text/plain": [
       "[(0, 2), (1, 7), (2, 11), (3, 15)]"
      ]
     },
     "execution_count": 12,
     "metadata": {},
     "output_type": "execute_result"
    }
   ],
   "source": [
    "nums = [2, 7, 11, 15]\n",
    "nums = enumerate(nums)\n",
    "nums = sorted(nums, key=lambda x:x[1])\n",
    "nums"
   ]
  },
  {
   "cell_type": "code",
   "execution_count": null,
   "metadata": {},
   "outputs": [],
   "source": [
    "# two-pointer solution      \n",
    "\n",
    "def twoSum(self, nums, target):\n",
    "    nums = enumerate(nums)\n",
    "    nums = sorted(nums, key=lambda x:x[1])\n",
    "    l, r = 0, len(nums)-1\n",
    "    while l < r:\n",
    "        if nums[l][1]+nums[r][1] == target:\n",
    "            return sorted([nums[l][0]+1, nums[r][0]+1])\n",
    "        elif nums[l][1]+nums[r][1] < target:\n",
    "            l += 1\n",
    "        else:\n",
    "            r -= 1"
   ]
  },
  {
   "cell_type": "code",
   "execution_count": null,
   "metadata": {},
   "outputs": [],
   "source": [
    "# 136. Single Number\n",
    "\n",
    "class Solution:\n",
    "    def singleNumber(self, nums: List[int]) -> int:\n",
    "        return functools.reduce(lambda x, y: x ^ y, nums)"
   ]
  },
  {
   "cell_type": "code",
   "execution_count": 2,
   "metadata": {},
   "outputs": [
    {
     "data": {
      "text/plain": [
       "8"
      ]
     },
     "execution_count": 2,
     "metadata": {},
     "output_type": "execute_result"
    }
   ],
   "source": [
    "8 ^ 2 ^ 2"
   ]
  },
  {
   "cell_type": "code",
   "execution_count": null,
   "metadata": {},
   "outputs": [],
   "source": []
  }
 ],
 "metadata": {
  "kernelspec": {
   "display_name": "Python 3",
   "language": "python",
   "name": "python3"
  },
  "language_info": {
   "codemirror_mode": {
    "name": "ipython",
    "version": 3
   },
   "file_extension": ".py",
   "mimetype": "text/x-python",
   "name": "python",
   "nbconvert_exporter": "python",
   "pygments_lexer": "ipython3",
   "version": "3.8.6"
  }
 },
 "nbformat": 4,
 "nbformat_minor": 4
}
