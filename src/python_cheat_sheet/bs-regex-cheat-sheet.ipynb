{
 "cells": [
  {
   "cell_type": "markdown",
   "id": "capable-seminar",
   "metadata": {},
   "source": [
    "# BeautifulSoap Cheat Sheet"
   ]
  },
  {
   "cell_type": "markdown",
   "id": "legitimate-occupation",
   "metadata": {},
   "source": [
    "## Convert between html"
   ]
  },
  {
   "cell_type": "code",
   "execution_count": 18,
   "id": "renewable-analyst",
   "metadata": {},
   "outputs": [
    {
     "data": {
      "text/plain": [
       "<i></i>"
      ]
     },
     "execution_count": 18,
     "metadata": {},
     "output_type": "execute_result"
    }
   ],
   "source": [
    "from bs4 import BeautifulSoup\n",
    "\n",
    "markup = '<a href=\"http://example.com/\">I linked to <i>example.com</i></a>'\n",
    "soup = BeautifulSoup(markup, 'html.parser')\n",
    "a_tag = soup.a\n",
    "a_tag.i.unwrap()"
   ]
  },
  {
   "cell_type": "code",
   "execution_count": 19,
   "id": "seasonal-target",
   "metadata": {},
   "outputs": [
    {
     "data": {
      "text/plain": [
       "'<a href=\"http://example.com/\">I linked to example.com</a>'"
      ]
     },
     "execution_count": 19,
     "metadata": {},
     "output_type": "execute_result"
    }
   ],
   "source": [
    "soup.decode(formatter=None)"
   ]
  },
  {
   "cell_type": "markdown",
   "id": "three-clearance",
   "metadata": {},
   "source": [
    "## To delete html tags\n",
    "- clear()\n",
    "- extract()\n",
    "- unwrap()"
   ]
  },
  {
   "cell_type": "code",
   "execution_count": 18,
   "id": "animated-combination",
   "metadata": {},
   "outputs": [
    {
     "data": {
      "text/plain": [
       "<a href=\"http://example.com/\">I linked to <i>example.com</i></a>"
      ]
     },
     "execution_count": 18,
     "metadata": {},
     "output_type": "execute_result"
    }
   ],
   "source": [
    "from bs4 import BeautifulSoup\n",
    "\n",
    "markup = '<a href=\"http://example.com/\">I linked to <i>example.com</i></a>'\n",
    "soup = BeautifulSoup(markup, 'html.parser')\n",
    "a_tag = soup.a\n",
    "a_tag"
   ]
  },
  {
   "cell_type": "code",
   "execution_count": 4,
   "id": "hollywood-village",
   "metadata": {},
   "outputs": [
    {
     "data": {
      "text/plain": [
       "<i>example.com</i>"
      ]
     },
     "execution_count": 4,
     "metadata": {},
     "output_type": "execute_result"
    }
   ],
   "source": [
    "i_tag = soup.i\n",
    "i_tag"
   ]
  },
  {
   "cell_type": "code",
   "execution_count": 5,
   "id": "phantom-cookie",
   "metadata": {},
   "outputs": [
    {
     "data": {
      "text/plain": [
       "<i></i>"
      ]
     },
     "execution_count": 5,
     "metadata": {},
     "output_type": "execute_result"
    }
   ],
   "source": [
    "i_tag.clear()\n",
    "i_tag"
   ]
  },
  {
   "cell_type": "code",
   "execution_count": 6,
   "id": "perfect-money",
   "metadata": {},
   "outputs": [
    {
     "data": {
      "text/plain": [
       "<a href=\"http://example.com/\">I linked to <i></i></a>"
      ]
     },
     "execution_count": 6,
     "metadata": {},
     "output_type": "execute_result"
    }
   ],
   "source": [
    "a_tag"
   ]
  },
  {
   "cell_type": "code",
   "execution_count": 7,
   "id": "little-probability",
   "metadata": {},
   "outputs": [
    {
     "data": {
      "text/plain": [
       "<i></i>"
      ]
     },
     "execution_count": 7,
     "metadata": {},
     "output_type": "execute_result"
    }
   ],
   "source": [
    "i_tag.extract()\n",
    "i_tag"
   ]
  },
  {
   "cell_type": "code",
   "execution_count": 8,
   "id": "legal-outreach",
   "metadata": {},
   "outputs": [
    {
     "data": {
      "text/plain": [
       "<a href=\"http://example.com/\">I linked to </a>"
      ]
     },
     "execution_count": 8,
     "metadata": {},
     "output_type": "execute_result"
    }
   ],
   "source": [
    "a_tag"
   ]
  },
  {
   "cell_type": "code",
   "execution_count": 9,
   "id": "adjustable-riverside",
   "metadata": {},
   "outputs": [
    {
     "data": {
      "text/plain": [
       "<a href=\"http://example.com/\">I linked to <i>example.com</i></a>"
      ]
     },
     "execution_count": 9,
     "metadata": {},
     "output_type": "execute_result"
    }
   ],
   "source": [
    "markup = '<a href=\"http://example.com/\">I linked to <i>example.com</i></a>'\n",
    "soup = BeautifulSoup(markup, 'html.parser')\n",
    "a_tag = soup.a\n",
    "a_tag"
   ]
  },
  {
   "cell_type": "code",
   "execution_count": 10,
   "id": "systematic-complement",
   "metadata": {},
   "outputs": [
    {
     "data": {
      "text/plain": [
       "<i>example.com</i>"
      ]
     },
     "execution_count": 10,
     "metadata": {},
     "output_type": "execute_result"
    }
   ],
   "source": [
    "i_tag = soup.i\n",
    "i_tag"
   ]
  },
  {
   "cell_type": "code",
   "execution_count": 11,
   "id": "compound-devon",
   "metadata": {},
   "outputs": [
    {
     "data": {
      "text/plain": [
       "<i></i>"
      ]
     },
     "execution_count": 11,
     "metadata": {},
     "output_type": "execute_result"
    }
   ],
   "source": [
    "i_tag.unwrap()\n",
    "i_tag"
   ]
  },
  {
   "cell_type": "code",
   "execution_count": 12,
   "id": "friendly-rendering",
   "metadata": {},
   "outputs": [
    {
     "data": {
      "text/plain": [
       "<a href=\"http://example.com/\">I linked to example.com</a>"
      ]
     },
     "execution_count": 12,
     "metadata": {},
     "output_type": "execute_result"
    }
   ],
   "source": [
    "a_tag"
   ]
  },
  {
   "cell_type": "code",
   "execution_count": null,
   "id": "promotional-range",
   "metadata": {},
   "outputs": [],
   "source": []
  },
  {
   "cell_type": "markdown",
   "id": "modular-buffer",
   "metadata": {},
   "source": [
    "## Check html tags\n",
    "- get the name: Tag.name\n",
    "- get all content about the element: Tag.contents\n",
    "- check if the elements are html tag: isinstance(elem, Tag)"
   ]
  },
  {
   "cell_type": "code",
   "execution_count": 15,
   "id": "present-bronze",
   "metadata": {},
   "outputs": [
    {
     "name": "stdout",
     "output_type": "stream",
     "text": [
      "div\n"
     ]
    }
   ],
   "source": [
    "from bs4 import BeautifulSoup\n",
    "\n",
    "soup = BeautifulSoup('<div><span></span></div>')\n",
    "print(soup.find('div').name)"
   ]
  },
  {
   "cell_type": "code",
   "execution_count": 17,
   "id": "exceptional-reminder",
   "metadata": {},
   "outputs": [
    {
     "ename": "SyntaxError",
     "evalue": "invalid syntax (<ipython-input-17-1efd615b9b70>, line 3)",
     "output_type": "error",
     "traceback": [
      "\u001b[0;36m  File \u001b[0;32m\"<ipython-input-17-1efd615b9b70>\"\u001b[0;36m, line \u001b[0;32m3\u001b[0m\n\u001b[0;31m    if isinstance(elem, Tag) and elem.name == \"img\"\u001b[0m\n\u001b[0m                                                   ^\u001b[0m\n\u001b[0;31mSyntaxError\u001b[0m\u001b[0;31m:\u001b[0m invalid syntax\n"
     ]
    }
   ],
   "source": [
    "# sample code\n",
    "\n",
    "if isinstance(elem, Tag) and elem.name == \"img\":\n",
    "    pass"
   ]
  },
  {
   "cell_type": "code",
   "execution_count": null,
   "id": "black-seller",
   "metadata": {},
   "outputs": [],
   "source": [
    "p_tag = bs.find(\"p\")\n",
    "elem = p_tag.contents[0]"
   ]
  },
  {
   "cell_type": "markdown",
   "id": "solid-syntax",
   "metadata": {},
   "source": [
    "About bs.Tag, see [here](https://www.crummy.com/software/BeautifulSoup/bs4/doc/#name)\n",
    "```Python\n",
    "tag.name = \"blockquote\"\n",
    "tag\n",
    "# <blockquote class=\"boldest\">Extremely bold</blockquote>\n",
    "\n",
    "tag = BeautifulSoup('<b id=\"boldest\">bold</b>', 'html.parser').b\n",
    "tag['id']\n",
    "# 'boldest'\n",
    "```\n",
    "                         "
   ]
  },
  {
   "cell_type": "markdown",
   "id": "animal-powell",
   "metadata": {},
   "source": [
    "## Search on BS object\n",
    "- find specific tag\n",
    "- find all tag in same level (disable recursive)\n",
    "- find tag with attribute, or with specific value in targeted attr\n",
    "- fetch attr value"
   ]
  },
  {
   "cell_type": "code",
   "execution_count": null,
   "id": "fallen-devil",
   "metadata": {},
   "outputs": [],
   "source": [
    "# get one element and the first element\n",
    "# https://stackoverflow.com/questions/47818858/python-getting-the-first-child-of-the-parent-element-with-beautifulsoup4\n",
    "\n",
    ".find('img')"
   ]
  },
  {
   "cell_type": "code",
   "execution_count": null,
   "id": "likely-condition",
   "metadata": {},
   "outputs": [],
   "source": [
    "# How to check if tag <a> or/and <img> is the children of div on Beautiful Soup\n",
    "# https://stackoverflow.com/questions/48699335/how-to-check-if-tag-a-or-and-img-is-the-children-of-div-on-beautiful-soup\n",
    "\n",
    "tag.find_all(recursive=False)"
   ]
  },
  {
   "cell_type": "code",
   "execution_count": 22,
   "id": "sensitive-lodging",
   "metadata": {},
   "outputs": [
    {
     "data": {
      "text/plain": [
       "<p><img alt=\"Garifuna dish of hudutu\" src=\"https://www.seriouseats.com/2020/06/20200610-garifuna-cuisine-hudutu-dish-wes-milton-guity.jpg\"/></p>"
      ]
     },
     "execution_count": 22,
     "metadata": {},
     "output_type": "execute_result"
    }
   ],
   "source": [
    "\"\"\"\n",
    "Q: find tag with attr?\n",
    "\n",
    "A: Sure, you can\n",
    "https://stackoverflow.com/a/31417182/1911726\n",
    "\"\"\"\n",
    "\n",
    "html = '<p><img alt=\"Garifuna dish of hudutu\" src=\"https://www.seriouseats.com/2020/06/20200610-garifuna-cuisine-hudutu-dish-wes-milton-guity.jpg\"/></p><p><p class=\"caption\">Hudutu baruru with falmo, a coconut-based seafood stew. [Photograph: Wes Güity and Milton Güity]</p><p>Many dishes comprise the world of Garifuna cuisine.</p><p><img alt=\"\" src=\"https://www.seriouseats.com/2020/06/peeling-plantain-for-hudutu-edit.jpg\"/></p><p><p class=\"caption\">[Photograph: Wes Güity and Milton Güity]</p><p>The Garifuna origin story is a complex one that involves attempts to enslave.</p>'\n",
    "from bs4 import BeautifulSoup\n",
    "\n",
    "soup = BeautifulSoup(html, 'html.parser')\n",
    "p_tag = soup.find(\"p\")\n",
    "p_tag"
   ]
  },
  {
   "cell_type": "code",
   "execution_count": 23,
   "id": "placed-director",
   "metadata": {},
   "outputs": [
    {
     "data": {
      "text/plain": [
       "[<p class=\"caption\">Hudutu baruru with falmo, a coconut-based seafood stew. [Photograph: Wes Güity and Milton Güity]</p>,\n",
       " <p class=\"caption\">[Photograph: Wes Güity and Milton Güity]</p>]"
      ]
     },
     "execution_count": 23,
     "metadata": {},
     "output_type": "execute_result"
    }
   ],
   "source": [
    "p_tag = soup.find_all(\"p\", attrs={\"class\":\"caption\"})\n",
    "p_tag"
   ]
  },
  {
   "cell_type": "code",
   "execution_count": 25,
   "id": "arbitrary-pavilion",
   "metadata": {},
   "outputs": [
    {
     "data": {
      "text/plain": [
       "<p class=\"caption\">Hudutu baruru with falmo, a coconut-based seafood stew. [Photograph: Wes Güity and Milton Güity]</p>"
      ]
     },
     "execution_count": 25,
     "metadata": {},
     "output_type": "execute_result"
    }
   ],
   "source": [
    "p_tag = soup.find(\"p\", attrs={\"class\":\"caption\"})\n",
    "p_tag"
   ]
  },
  {
   "cell_type": "code",
   "execution_count": 26,
   "id": "criminal-calculation",
   "metadata": {},
   "outputs": [
    {
     "data": {
      "text/plain": [
       "True"
      ]
     },
     "execution_count": 26,
     "metadata": {},
     "output_type": "execute_result"
    }
   ],
   "source": [
    "p_tag.has_attr(\"class\")"
   ]
  },
  {
   "cell_type": "code",
   "execution_count": 29,
   "id": "herbal-gravity",
   "metadata": {},
   "outputs": [
    {
     "data": {
      "text/plain": [
       "['caption']"
      ]
     },
     "execution_count": 29,
     "metadata": {},
     "output_type": "execute_result"
    }
   ],
   "source": [
    "p_tag.get(\"class\")"
   ]
  },
  {
   "cell_type": "code",
   "execution_count": 30,
   "id": "subjective-brooks",
   "metadata": {},
   "outputs": [
    {
     "data": {
      "text/plain": [
       "<p><img alt=\"Garifuna dish of hudutu\" src=\"https://www.seriouseats.com/2020/06/20200610-garifuna-cuisine-hudutu-dish-wes-milton-guity.jpg\"/></p>"
      ]
     },
     "execution_count": 30,
     "metadata": {},
     "output_type": "execute_result"
    }
   ],
   "source": [
    "\"\"\"\n",
    "More complicated case\n",
    "\"\"\"\n",
    "\n",
    "html = '<p><img alt=\"Garifuna dish of hudutu\" src=\"https://www.seriouseats.com/2020/06/20200610-garifuna-cuisine-hudutu-dish-wes-milton-guity.jpg\"/></p><p><p class=\"caption\">Hudutu baruru with falmo, a coconut-based seafood stew. [Photograph: Wes Güity and Milton Güity]</p><p>Many dishes comprise the world of Garifuna cuisine.</p><p><img alt=\"\" src=\"https://www.seriouseats.com/2020/06/peeling-plantain-for-hudutu-edit.jpg\"/></p><p><p class=\"caption\">[Photograph: Wes Güity and Milton Güity]</p><p>The Garifuna origin story is a complex one that involves attempts to enslave.</p>'\n",
    "from bs4 import BeautifulSoup\n",
    "\n",
    "soup = BeautifulSoup(html, 'html.parser')\n",
    "p_tag = soup.find(\"p\")\n",
    "p_tag"
   ]
  },
  {
   "cell_type": "code",
   "execution_count": 31,
   "id": "consistent-slope",
   "metadata": {},
   "outputs": [
    {
     "data": {
      "text/plain": [
       "<p><p class=\"caption\">Hudutu baruru with falmo, a coconut-based seafood stew. [Photograph: Wes Güity and Milton Güity]</p><p>Many dishes comprise the world of Garifuna cuisine.</p><p><img alt=\"\" src=\"https://www.seriouseats.com/2020/06/peeling-plantain-for-hudutu-edit.jpg\"/></p><p><p class=\"caption\">[Photograph: Wes Güity and Milton Güity]</p><p>The Garifuna origin story is a complex one that involves attempts to enslave.</p></p></p>"
      ]
     },
     "execution_count": 31,
     "metadata": {},
     "output_type": "execute_result"
    }
   ],
   "source": [
    "p_next_sibling = p_tag.find_next_sibling(\"p\")\n",
    "p_next_sibling"
   ]
  },
  {
   "cell_type": "code",
   "execution_count": 34,
   "id": "civic-circus",
   "metadata": {},
   "outputs": [
    {
     "data": {
      "text/plain": [
       "<p class=\"caption\">Hudutu baruru with falmo, a coconut-based seafood stew. [Photograph: Wes Güity and Milton Güity]</p>"
      ]
     },
     "execution_count": 34,
     "metadata": {},
     "output_type": "execute_result"
    }
   ],
   "source": [
    "p_next_next = p_next_sibling.find(\"p\", attrs={\"class\":\"caption\"})\n",
    "p_next_next"
   ]
  },
  {
   "cell_type": "code",
   "execution_count": 35,
   "id": "detected-mountain",
   "metadata": {},
   "outputs": [],
   "source": [
    "p_next_next.find(\"p\", attrs={\"class\":\"caption\"})"
   ]
  },
  {
   "cell_type": "code",
   "execution_count": null,
   "id": "therapeutic-communication",
   "metadata": {},
   "outputs": [],
   "source": []
  },
  {
   "cell_type": "markdown",
   "id": "vocational-collection",
   "metadata": {},
   "source": [
    "## Fetch content of html tags"
   ]
  },
  {
   "cell_type": "code",
   "execution_count": null,
   "id": "organic-challenge",
   "metadata": {},
   "outputs": [],
   "source": [
    "# Another common task is extracting all the text from a page:\n",
    "html_doc = \"\"\"<html><head><title>The Dormouse's story</title></head>\n",
    "<body>\n",
    "<p class=\"title\"><b>The Dormouse's story</b></p>\n",
    "\n",
    "<p class=\"story\">Once upon a time there were three little sisters; and their names were\n",
    "<a href=\"http://example.com/elsie\" class=\"sister\" id=\"link1\">Elsie</a>,\n",
    "<a href=\"http://example.com/lacie\" class=\"sister\" id=\"link2\">Lacie</a> and\n",
    "<a href=\"http://example.com/tillie\" class=\"sister\" id=\"link3\">Tillie</a>;\n",
    "and they lived at the bottom of a well.</p>\n",
    "\n",
    "<p class=\"story\">...</p>\n",
    "\"\"\"\n",
    "\n",
    "\n",
    "print(soup.get_text())\n",
    "# The Dormouse's story\n",
    "#\n",
    "# The Dormouse's story\n",
    "#\n",
    "# Once upon a time there were three little sisters; and their names were\n",
    "# Elsie,\n",
    "# Lacie and\n",
    "# Tillie;\n",
    "# and they lived at the bottom of a well.\n",
    "#\n",
    "# ..."
   ]
  },
  {
   "cell_type": "code",
   "execution_count": null,
   "id": "complete-county",
   "metadata": {},
   "outputs": [],
   "source": []
  },
  {
   "cell_type": "markdown",
   "id": "disturbed-postcard",
   "metadata": {},
   "source": [
    "## Level-manipuation\n",
    "- sibling operation: find_next_sibling\n",
    "    - From official guide, .next_element and .previous_element; .next_elements and .previous_elements"
   ]
  },
  {
   "cell_type": "code",
   "execution_count": 16,
   "id": "broken-applicant",
   "metadata": {},
   "outputs": [
    {
     "data": {
      "text/plain": [
       "<p class=\"title\"><b>The Dormouse's story</b></p>"
      ]
     },
     "execution_count": 16,
     "metadata": {},
     "output_type": "execute_result"
    }
   ],
   "source": [
    "html_doc = \"\"\"<html><head><title>The Dormouse's story</title></head>\n",
    "<body>\n",
    "<p class=\"title\"><b>The Dormouse's story</b></p>\n",
    "\n",
    "<p class=\"story\">Once upon a time there were three little sisters; and their names were\n",
    "<a href=\"http://example.com/elsie\" class=\"sister\" id=\"link1\">Elsie</a>,\n",
    "<a href=\"http://example.com/lacie\" class=\"sister\" id=\"link2\">Lacie</a> and\n",
    "<a href=\"http://example.com/tillie\" class=\"sister\" id=\"link3\">Tillie</a>;\n",
    "and they lived at the bottom of a well.</p>\n",
    "\"\"\"\n",
    "\n",
    "from bs4 import BeautifulSoup\n",
    "\n",
    "soup = BeautifulSoup(html_doc, 'html.parser')\n",
    "p_first = soup.find(\"p\")\n",
    "p_first"
   ]
  },
  {
   "cell_type": "code",
   "execution_count": 17,
   "id": "stone-hunger",
   "metadata": {},
   "outputs": [
    {
     "data": {
      "text/plain": [
       "bs4.element.Tag"
      ]
     },
     "execution_count": 17,
     "metadata": {},
     "output_type": "execute_result"
    }
   ],
   "source": [
    "type(p_first)"
   ]
  },
  {
   "cell_type": "code",
   "execution_count": 3,
   "id": "legislative-acoustic",
   "metadata": {},
   "outputs": [
    {
     "data": {
      "text/plain": [
       "[<p class=\"story\">Once upon a time there were three little sisters; and their names were\n",
       " <a class=\"sister\" href=\"http://example.com/elsie\" id=\"link1\">Elsie</a>,\n",
       " <a class=\"sister\" href=\"http://example.com/lacie\" id=\"link2\">Lacie</a> and\n",
       " <a class=\"sister\" href=\"http://example.com/tillie\" id=\"link3\">Tillie</a>;\n",
       " and they lived at the bottom of a well.</p>]"
      ]
     },
     "execution_count": 3,
     "metadata": {},
     "output_type": "execute_result"
    }
   ],
   "source": [
    "p_next_siblings = p_first.find_next_siblings(\"p\")\n",
    "p_next_siblings"
   ]
  },
  {
   "cell_type": "code",
   "execution_count": 4,
   "id": "exotic-transcription",
   "metadata": {},
   "outputs": [
    {
     "data": {
      "text/plain": [
       "<p class=\"story\">Once upon a time there were three little sisters; and their names were\n",
       "<a class=\"sister\" href=\"http://example.com/elsie\" id=\"link1\">Elsie</a>,\n",
       "<a class=\"sister\" href=\"http://example.com/lacie\" id=\"link2\">Lacie</a> and\n",
       "<a class=\"sister\" href=\"http://example.com/tillie\" id=\"link3\">Tillie</a>;\n",
       "and they lived at the bottom of a well.</p>"
      ]
     },
     "execution_count": 4,
     "metadata": {},
     "output_type": "execute_result"
    }
   ],
   "source": [
    "p_next_sibling = p_first.find_next_sibling(\"p\")\n",
    "p_next_sibling"
   ]
  },
  {
   "cell_type": "code",
   "execution_count": 5,
   "id": "liberal-vietnam",
   "metadata": {},
   "outputs": [
    {
     "data": {
      "text/plain": [
       "'p'"
      ]
     },
     "execution_count": 5,
     "metadata": {},
     "output_type": "execute_result"
    }
   ],
   "source": [
    "p_next_sibling.name"
   ]
  },
  {
   "cell_type": "code",
   "execution_count": 6,
   "id": "designing-bread",
   "metadata": {},
   "outputs": [
    {
     "data": {
      "text/plain": [
       "'Once upon a time there were three little sisters; and their names were\\nElsie,\\nLacie and\\nTillie;\\nand they lived at the bottom of a well.'"
      ]
     },
     "execution_count": 6,
     "metadata": {},
     "output_type": "execute_result"
    }
   ],
   "source": [
    "p_next_sibling.text"
   ]
  },
  {
   "cell_type": "code",
   "execution_count": 9,
   "id": "adjacent-bahrain",
   "metadata": {},
   "outputs": [],
   "source": [
    "p_next_next_ = p_next_sibling.find_next_sibling(\"p\")\n",
    "# p_next_next"
   ]
  },
  {
   "cell_type": "code",
   "execution_count": 13,
   "id": "visible-citizen",
   "metadata": {},
   "outputs": [
    {
     "data": {
      "text/plain": [
       "True"
      ]
     },
     "execution_count": 13,
     "metadata": {},
     "output_type": "execute_result"
    }
   ],
   "source": [
    "p_next_sibling.find_next_sibling(\"p\") == None"
   ]
  },
  {
   "cell_type": "code",
   "execution_count": null,
   "id": "improved-dependence",
   "metadata": {},
   "outputs": [],
   "source": []
  },
  {
   "cell_type": "code",
   "execution_count": null,
   "id": "fluid-subject",
   "metadata": {},
   "outputs": [],
   "source": []
  },
  {
   "cell_type": "markdown",
   "id": "pointed-claim",
   "metadata": {},
   "source": [
    "# Regex"
   ]
  },
  {
   "cell_type": "markdown",
   "id": "incorporate-replication",
   "metadata": {},
   "source": [
    "## About major functions\n",
    "- re.match(pattern, string)\n",
    "Match 顾名思义, 查看string是否match, 所以是从string的beginning开始配对. Return a match object\n",
    "\n",
    "- re.search(pattern, string)\n",
    "This function is especially useful for determining if a pattern exists in a string. Also, it return a match object.\n",
    "\n",
    "- re.findall(pattern, string)\n",
    "Finds all occurrences of a pattern in a string. Doesn't return a match object.\n",
    "\n",
    "- re.finditer(pattern, string)\n",
    "Return an iterator yielding match objects."
   ]
  },
  {
   "cell_type": "markdown",
   "id": "prospective-pressure",
   "metadata": {},
   "source": [
    "re.search(pattern, string, flags=0)\n",
    "\n",
    "Ref: https://docs.python.org/3/library/re.html\n",
    "\n",
    "(Dot.) In the default mode, this matches any character except a newline. If the DOTALL flag has been specified, this matches any character including a newline."
   ]
  },
  {
   "cell_type": "markdown",
   "id": "artificial-reviewer",
   "metadata": {},
   "source": [
    "### flags"
   ]
  },
  {
   "cell_type": "code",
   "execution_count": 14,
   "id": "monthly-louis",
   "metadata": {},
   "outputs": [
    {
     "data": {
      "text/plain": [
       "[]"
      ]
     },
     "execution_count": 14,
     "metadata": {},
     "output_type": "execute_result"
    }
   ],
   "source": [
    "\"\"\"\n",
    "Example 1\n",
    "Consider a scenario where we want to find all the lines in the given text which start with the pattern Name:.\n",
    "\"\"\"\n",
    "txt = \"\"\"\n",
    "Name:\n",
    "Age: 0\n",
    "Roll No.: 15\n",
    "Grade: S\n",
    "\n",
    "Name: Ravi\n",
    "Age: -1\n",
    "Roll No.: 123 Name: ABC\n",
    "Grade: K\n",
    "\n",
    "Name: Ram\n",
    "Age: N/A\n",
    "Roll No.: 1\n",
    "Grade: G\n",
    "\"\"\"\n",
    "\n",
    "pattern = re.compile(\"^Name: \\w+\")\n",
    "pattern.findall(txt)\n",
    "\n"
   ]
  },
  {
   "cell_type": "code",
   "execution_count": 15,
   "id": "higher-junction",
   "metadata": {},
   "outputs": [
    {
     "data": {
      "text/plain": [
       "['Name: Ravi', 'Name: Ram']"
      ]
     },
     "execution_count": 15,
     "metadata": {},
     "output_type": "execute_result"
    }
   ],
   "source": [
    "pattern = re.compile(\"^Name: \\w+\", flags=re.M)\n",
    "pattern.findall(txt)"
   ]
  },
  {
   "cell_type": "markdown",
   "id": "flush-taxation",
   "metadata": {},
   "source": [
    "> re.M (short for re.MULTILINE) is a flag which is used to make begin/end (^, $) consider each line.\n",
    "\n"
   ]
  },
  {
   "cell_type": "markdown",
   "id": "rising-exploration",
   "metadata": {},
   "source": [
    "### Escape characters"
   ]
  },
  {
   "cell_type": "markdown",
   "id": "civilian-impact",
   "metadata": {},
   "source": [
    "\n",
    "|   |   |\n",
    "|---|---|\n",
    "| \"  | \\\"  |\n",
    "| '  | \\'  |\n",
    "| (  | \\(  |\n",
    "| [  | \\[  |"
   ]
  },
  {
   "cell_type": "markdown",
   "id": "industrial-steps",
   "metadata": {},
   "source": [
    "## Boundary Matchers"
   ]
  },
  {
   "cell_type": "code",
   "execution_count": 6,
   "id": "varying-shell",
   "metadata": {},
   "outputs": [
    {
     "data": {
      "text/plain": [
       "['or',\n",
       " 'the',\n",
       " 'and',\n",
       " 'or',\n",
       " 'the',\n",
       " 'and',\n",
       " 'the',\n",
       " 'and',\n",
       " 'the',\n",
       " 'the',\n",
       " 'the',\n",
       " 'or',\n",
       " 'and',\n",
       " 'or',\n",
       " 'or']"
      ]
     },
     "execution_count": 6,
     "metadata": {},
     "output_type": "execute_result"
    }
   ],
   "source": [
    "\n",
    "import re\n",
    "\n",
    "txt = \"\"\"\n",
    "Lorem Ipsum is simply dummy text of the printing and typesetting industry. \n",
    "Lorem Ipsum has been the industry's standard dummy text ever since the 1500s, \n",
    "when an unknown printer took a galley of type and scrambled it to make a type specimen book. \n",
    "It has survived not only five centuries, but also the leap into electronic typesetting, \n",
    "remaining essentially unchanged. \n",
    "It was popularised in the 1960s with the release of Letraset sheets containing Lorem Ipsum passages, \n",
    "and more recently with desktop publishing software like Aldus PageMaker including versions of Lorem Ipsum.\n",
    "\"\"\"\n",
    "\n",
    "pattern = re.compile(\"and|or|the\")\n",
    "pattern.findall(txt)\n",
    "\n"
   ]
  },
  {
   "cell_type": "code",
   "execution_count": 8,
   "id": "diagnostic-client",
   "metadata": {},
   "outputs": [
    {
     "data": {
      "text/plain": [
       "'\\nL<span class=\"query\">or</span>em Ipsum is simply dummy text of <span class=\"query\">the</span> printing <span class=\"query\">and</span> typesetting industry. \\nL<span class=\"query\">or</span>em Ipsum has been <span class=\"query\">the</span> industry\\'s st<span class=\"query\">and</span>ard dummy text ever since <span class=\"query\">the</span> 1500s, \\nwhen an unknown printer took a galley of type <span class=\"query\">and</span> scrambled it to make a type specimen book. \\nIt has survived not only five centuries, but also <span class=\"query\">the</span> leap into electronic typesetting, \\nremaining essentially unchanged. \\nIt was popularised in <span class=\"query\">the</span> 1960s with <span class=\"query\">the</span> release of Letraset sheets containing L<span class=\"query\">or</span>em Ipsum passages, \\n<span class=\"query\">and</span> m<span class=\"query\">or</span>e recently with desktop publishing software like Aldus PageMaker including versions of L<span class=\"query\">or</span>em Ipsum.\\n'"
      ]
     },
     "execution_count": 8,
     "metadata": {},
     "output_type": "execute_result"
    }
   ],
   "source": [
    "\"\"\"\n",
    "Above would match words like \"Lorem\", \"standard\", etc.\n",
    "So need a way to narrow down the search to word\n",
    "\"\"\""
   ]
  },
  {
   "cell_type": "markdown",
   "id": "linear-newark",
   "metadata": {},
   "source": [
    "`\\b(and|or|the)\\b`\n",
    "\n",
    "where `\\b` is a metacharacter that matches at a position that is called a **word boundary**.\n",
    "Such identifiers that correspond to a particular position inside of the input are called **Boundary Matchers**.\n",
    "\n",
    "Note: Since `\\b` is also an escape sequence for strings in Python, we need to escape it using `\\`, i.e. `\\\\b`, in order to treat it like a metacharacter for regex matching.\n",
    "\n"
   ]
  },
  {
   "cell_type": "code",
   "execution_count": 9,
   "id": "opposed-hebrew",
   "metadata": {},
   "outputs": [
    {
     "name": "stdout",
     "output_type": "stream",
     "text": [
      "\b(and|or|the\n"
     ]
    }
   ],
   "source": [
    "print(\"\\b(and|or|the)\\b\") # \\b needs to be escaped"
   ]
  },
  {
   "cell_type": "code",
   "execution_count": 10,
   "id": "contrary-quantity",
   "metadata": {},
   "outputs": [
    {
     "name": "stdout",
     "output_type": "stream",
     "text": [
      "\\b(and|or|the)\\b\n"
     ]
    }
   ],
   "source": [
    "print(\"\\\\b(and|or|the)\\\\b\")"
   ]
  },
  {
   "cell_type": "markdown",
   "id": "patent-bicycle",
   "metadata": {},
   "source": [
    "Matcher\tDescription\n",
    "^\tMatches at the beginning of a line\n",
    "$\tMatches at the end of a line\n",
    "\\b\tMatches a word boundary\n",
    "\\B\tMatches the opposite of \\b. Anything that is not a word boundary\n",
    "\\A\tMatches the beginning of the input\n",
    "\\Z\tMatches the end of the input"
   ]
  },
  {
   "cell_type": "markdown",
   "id": "miniature-drove",
   "metadata": {},
   "source": [
    "|  Matcher |  Description |\n",
    "|---|---|\n",
    "|  ^ | Matches at the beginning of a line  |\n",
    "| $  |  Matches at the end of a line |\n",
    "|  \\b |  Matches a word boundary |\n",
    "| \\B  | Matches the opposite of \\b. Anything that is not a word boundary  |\n",
    "| \\A  | Matches the beginning of the input  |\n",
    "| \\Z  | Matches the end of the input  |"
   ]
  },
  {
   "cell_type": "markdown",
   "id": "developing-occupation",
   "metadata": {},
   "source": [
    "## Character Class"
   ]
  },
  {
   "cell_type": "markdown",
   "id": "secure-detective",
   "metadata": {},
   "source": [
    "```Python\n",
    "import re\n",
    "\n",
    ">>> re.search(r\"[\\[]\", \"acd\")\n",
    ">>> re.search(r\"[\\[]\", \"[dafs]\")\n",
    "<_sre.SRE_Match object; span=(0, 1), match='['>\n",
    ">>> re.search(r\"[abc]\", \"[dafs]\")\n",
    "<_sre.SRE_Match object; span=(2, 3), match='a'>\n",
    ">>> re.search(r\"[abc]\", \"[xxxx]\")\n",
    ">>> re.search(r\"[abc]\", \"xxxx\")\n",
    ">>> \n",
    ">>> \n",
    ">>> re.search(r\"[abc]\", \"xxax\")\n",
    "<_sre.SRE_Match object; span=(2, 3), match='a'>\n",
    ">>> \n",
    ">>> re.search(r\"[\\a]\", \"xxax\")\n",
    ">>> \n",
    ">>> \n",
    ">>> re.search(r\"[^a]\", \"xxax\")\n",
    "<_sre.SRE_Match object; span=(0, 1), match='x'>\n",
    ">>> \n",
    ">>> \n",
    ">>> \n",
    ">>> re.search(r\"[^a]\", \"xxbx\")\n",
    "<_sre.SRE_Match object; span=(0, 1), match='x'>\n",
    ">>> re.search(r\"[^abx]\", \"xxbx\")\n",
    ">>> \n",
    ">>> \n",
    ">>> re.search(r\"[^adx]\", \"xxbx\")\n",
    "<_sre.SRE_Match object; span=(2, 3), match='b'>\n",
    ">>> \n",
    ">>> \n",
    ">>> re.search(r\"[^adx]\", \"xxbx\")\n",
    "\n",
    "\n",
    "About special characters\n",
    ">>> re.search(r\"[\\[]\", \"[\")\n",
    "<_sre.SRE_Match object; span=(0, 1), match='['>\n",
    "```"
   ]
  },
  {
   "cell_type": "markdown",
   "id": "adaptive-handbook",
   "metadata": {},
   "source": [
    "## Grouping and capturing\n",
    "- parenthesis create **grouping, not capturing**\n",
    "- Parentheses Create Numbered Capturing Groups\n",
    "\n",
    "Example:\n",
    "The regex `Set(Value)?` matches `Set` or `SetValue`. In the first case, the first (and only) capturing group remains empty. In the second case, the first capturing group matches Value."
   ]
  },
  {
   "cell_type": "markdown",
   "id": "premier-andorra",
   "metadata": {},
   "source": [
    "### Applications of grouping\n",
    "\n",
    "[Tutorial](https://www.regular-expressions.info/brackets.html)\n",
    "\n",
    "1. apply a **quantifier** to the entire group.\n",
    "2. restrict **alternation** to part of the regex.\n",
    "3. **capture** the text matched by group."
   ]
  },
  {
   "cell_type": "code",
   "execution_count": 20,
   "id": "recorded-chorus",
   "metadata": {},
   "outputs": [
    {
     "data": {
      "text/plain": [
       "<re.Match object; span=(0, 6), match='abbbbb'>"
      ]
     },
     "execution_count": 20,
     "metadata": {},
     "output_type": "execute_result"
    }
   ],
   "source": [
    "\"\"\"\n",
    "Demo for apply a quantifier to the entire group\n",
    "\"\"\"\n",
    "import re\n",
    "txt = \"abbbbbabbbb\"\n",
    "\n",
    "pattern1 = re.compile(\"ab+\")\n",
    "pattern2 = re.compile(\"(ab)+\")\n",
    "\n",
    "pattern1.match(txt)"
   ]
  },
  {
   "cell_type": "code",
   "execution_count": 21,
   "id": "global-treatment",
   "metadata": {},
   "outputs": [
    {
     "data": {
      "text/plain": [
       "<re.Match object; span=(0, 2), match='ab'>"
      ]
     },
     "execution_count": 21,
     "metadata": {},
     "output_type": "execute_result"
    }
   ],
   "source": [
    "pattern2.match(txt)"
   ]
  },
  {
   "cell_type": "code",
   "execution_count": 23,
   "id": "nutritional-contributor",
   "metadata": {},
   "outputs": [
    {
     "data": {
      "text/plain": [
       "['my name is ram', 'sam']"
      ]
     },
     "execution_count": 23,
     "metadata": {},
     "output_type": "execute_result"
    }
   ],
   "source": [
    "\"\"\"\n",
    "Demo for restrict alternation to part of the regex.\n",
    "\"\"\"\n",
    "txt = \"\"\"\n",
    "my name is ram\n",
    "my name is sam\n",
    "\"\"\"\n",
    "\n",
    "pattern1 = re.compile(\"my name is ram|sam\")\n",
    "pattern2 = re.compile(\"my name is (ram|sam)\")\n",
    "\n",
    "pattern1.findall(txt)"
   ]
  },
  {
   "cell_type": "code",
   "execution_count": 24,
   "id": "dynamic-preservation",
   "metadata": {},
   "outputs": [
    {
     "data": {
      "text/plain": [
       "['ram', 'sam']"
      ]
     },
     "execution_count": 24,
     "metadata": {},
     "output_type": "execute_result"
    }
   ],
   "source": [
    "pattern2.findall(txt)"
   ]
  },
  {
   "cell_type": "code",
   "execution_count": 25,
   "id": "suspected-killer",
   "metadata": {},
   "outputs": [
    {
     "data": {
      "text/plain": [
       "'12/02/2019'"
      ]
     },
     "execution_count": 25,
     "metadata": {},
     "output_type": "execute_result"
    }
   ],
   "source": [
    "\"\"\"\n",
    "Demo for capturing the text matched by group.\n",
    "\"\"\"\n",
    "\n",
    "txt = \"12/02/2019\"\n",
    "pattern = re.compile(\"(\\d{2})\\/(\\d{2})\\/(\\d{4})\")\n",
    "match = pattern.match(txt)\n",
    "# group 0: matches entire regex pattern\n",
    "match.group(0)"
   ]
  },
  {
   "cell_type": "code",
   "execution_count": 26,
   "id": "convenient-export",
   "metadata": {},
   "outputs": [
    {
     "data": {
      "text/plain": [
       "'12'"
      ]
     },
     "execution_count": 26,
     "metadata": {},
     "output_type": "execute_result"
    }
   ],
   "source": [
    "# group 1: match 1st group\n",
    "match.group(1)"
   ]
  },
  {
   "cell_type": "code",
   "execution_count": 27,
   "id": "sacred-puppy",
   "metadata": {},
   "outputs": [
    {
     "data": {
      "text/plain": [
       "'02'"
      ]
     },
     "execution_count": 27,
     "metadata": {},
     "output_type": "execute_result"
    }
   ],
   "source": [
    "match.group(2)"
   ]
  },
  {
   "cell_type": "code",
   "execution_count": 29,
   "id": "antique-choir",
   "metadata": {},
   "outputs": [
    {
     "data": {
      "text/plain": [
       "'2019'"
      ]
     },
     "execution_count": 29,
     "metadata": {},
     "output_type": "execute_result"
    }
   ],
   "source": [
    "match.group(3)"
   ]
  },
  {
   "cell_type": "code",
   "execution_count": 30,
   "id": "classified-logic",
   "metadata": {},
   "outputs": [
    {
     "data": {
      "text/plain": [
       "<re.Match object; span=(50, 76), match='[Photographs: Vicky Wasik]'>"
      ]
     },
     "execution_count": 30,
     "metadata": {},
     "output_type": "execute_result"
    }
   ],
   "source": [
    "\"\"\"\n",
    "More examples, from html parsing\n",
    "\"\"\"\n",
    "\n",
    "import re\n",
    "\n",
    "match_grp = re.search(r\"\\[(.*?)\\]\", \"The fastest, freshest ice cream you'll ever make. [Photographs: Vicky Wasik]\")\n",
    "match_grp"
   ]
  },
  {
   "cell_type": "code",
   "execution_count": 11,
   "id": "boring-bridal",
   "metadata": {},
   "outputs": [
    {
     "data": {
      "text/plain": [
       "'Photographs: Vicky Wasik'"
      ]
     },
     "execution_count": 11,
     "metadata": {},
     "output_type": "execute_result"
    }
   ],
   "source": [
    "match_grp.groups()[0]"
   ]
  },
  {
   "cell_type": "code",
   "execution_count": 11,
   "id": "atomic-wheat",
   "metadata": {},
   "outputs": [
    {
     "data": {
      "text/plain": [
       "[('nordic-ware-natural-aluminum-commercial-bakers-half-sheet',\n",
       "  'Rimmed baking sheet'),\n",
       " ('fine-mesh-strainers', 'fine-mesh strainer')]"
      ]
     },
     "execution_count": 11,
     "metadata": {},
     "output_type": "execute_result"
    }
   ],
   "source": [
    "\"\"\"\n",
    "Another example using re.findall or re.finditer, as well as match.groups()\n",
    "\n",
    "Particularly, the difference between match.group(), match.groups(), match.group(1), match.group(2)\n",
    "\"\"\"\n",
    "\n",
    "html = '<h2>Special equipment</h2><certain_tag id=\"nordic-ware-natural-aluminum-commercial-bakers-half-sheet\" class=\"text\">Rimmed baking sheet</dorado>, <certain_tag id=\"fine-mesh-strainers\" class=\"text\">fine-mesh strainer</dorado>'\n",
    "\n",
    "re.findall('<certain_tag +id=\"([^\"]+?)?\" class=\"text\">([^<]+?)<\\/dorado>', html)"
   ]
  },
  {
   "cell_type": "code",
   "execution_count": 15,
   "id": "competent-manitoba",
   "metadata": {},
   "outputs": [
    {
     "name": "stdout",
     "output_type": "stream",
     "text": [
      "match:  <re.Match object; span=(26, 143), match='<certain_tag id=\"nordic-ware-natural-aluminum-com>\n",
      "nordic-ware-natural-aluminum-commercial-bakers-half-sheet, Rimmed baking sheet\n",
      "match.group():  <certain_tag id=\"nordic-ware-natural-aluminum-commercial-bakers-half-sheet\" class=\"text\">Rimmed baking sheet</dorado>\n",
      "match text:  <h2>Special equipment</h2><certain_tag id=\"nordic-ware-natural-aluminum-commercial-bakers-half-sheet\" class=\"text\">Rimmed baking sheet</dorado>, <certain_tag id=\"fine-mesh-strainers\" class=\"text\">fine-mesh strainer</dorado>\n",
      "match.groups():  ('nordic-ware-natural-aluminum-commercial-bakers-half-sheet', 'Rimmed baking sheet')\n",
      "--------------\n",
      "match:  <re.Match object; span=(145, 223), match='<certain_tag id=\"fine-mesh-strainers\" class=\"text>\n",
      "fine-mesh-strainers, fine-mesh strainer\n",
      "match.group():  <certain_tag id=\"fine-mesh-strainers\" class=\"text\">fine-mesh strainer</dorado>\n",
      "match text:  <h2>Special equipment</h2><certain_tag id=\"nordic-ware-natural-aluminum-commercial-bakers-half-sheet\" class=\"text\">Rimmed baking sheet</dorado>, <certain_tag id=\"fine-mesh-strainers\" class=\"text\">fine-mesh strainer</dorado>\n",
      "match.groups():  ('fine-mesh-strainers', 'fine-mesh strainer')\n",
      "--------------\n"
     ]
    }
   ],
   "source": [
    "matches = re.finditer('<certain_tag +id=\"([^\"]+?)?\" class=\"text\">([^<]+?)<\\/dorado>', html)\n",
    "\n",
    "for match in matches:\n",
    "    id = match.group(1)\n",
    "    text = match.group(2)\n",
    "    \n",
    "    print(\"match: \", match)\n",
    "    print(\"{}, {}\".format(id, text))\n",
    "    print(\"match.group(): \", match.group())\n",
    "    print(\"match text: \", match.string)\n",
    "    print(\"match.groups(): \", match.groups())\n",
    "    print(\"--------------\")"
   ]
  },
  {
   "cell_type": "code",
   "execution_count": 17,
   "id": "flexible-swift",
   "metadata": {},
   "outputs": [
    {
     "data": {
      "text/plain": [
       "'Python\\nmatch.group(...) method of _sre.SRE_Match instance\\n    group([group1, ...]) -> str or tuple.\\n    Return subgroup(s) of the match by indices or names.\\n    For 0 returns the entire match.\\n    \\n'"
      ]
     },
     "execution_count": 17,
     "metadata": {},
     "output_type": "execute_result"
    }
   ],
   "source": [
    "\"\"\"Python\n",
    "match.group(...) method of _sre.SRE_Match instance\n",
    "    group([group1, ...]) -> str or tuple.\n",
    "    Return subgroup(s) of the match by indices or names.\n",
    "    For 0 returns the entire match.\n",
    "    \n",
    "\"\"\""
   ]
  },
  {
   "cell_type": "markdown",
   "id": "opponent-transcription",
   "metadata": {},
   "source": [
    "### Backreferencing\n",
    "主要的几个用途\n",
    "- 找到之前出现的string, 查重\n",
    "- 替换位置, `re.sub`\n",
    "\n",
    "remember:\n",
    "- \\0 means the whole original string\n",
    "- start from \\1, matched with the real groups"
   ]
  },
  {
   "cell_type": "code",
   "execution_count": 14,
   "id": "permanent-release",
   "metadata": {},
   "outputs": [
    {
     "name": "stdout",
     "output_type": "stream",
     "text": [
      "hello\n"
     ]
    }
   ],
   "source": [
    "m = re.search(r\"\\w+\", \"hello\")\n",
    "print(m.group(0))\n",
    "# print(m.group(1)) # would fail because no group(1)"
   ]
  },
  {
   "cell_type": "code",
   "execution_count": 10,
   "id": "joined-context",
   "metadata": {},
   "outputs": [
    {
     "data": {
      "text/plain": [
       "['hello', 'bye']"
      ]
     },
     "execution_count": 10,
     "metadata": {},
     "output_type": "execute_result"
    }
   ],
   "source": [
    "# example of find duplicated words\n",
    "\n",
    "txt = \"\"\"\n",
    "hello hello\n",
    "how are you\n",
    "bye bye\n",
    "\"\"\"\n",
    "\n",
    "pattern = re.compile(\"(\\w+) \\\\1\")\n",
    "pattern.findall(txt)"
   ]
  },
  {
   "cell_type": "code",
   "execution_count": 11,
   "id": "dress-juvenile",
   "metadata": {},
   "outputs": [
    {
     "data": {
      "text/plain": [
       "['hello', 'bye']"
      ]
     },
     "execution_count": 11,
     "metadata": {},
     "output_type": "execute_result"
    }
   ],
   "source": [
    "# use raw strings\n",
    "\n",
    "pattern = re.compile(r\"(\\w+) \\1\")\n",
    "pattern.findall(txt)"
   ]
  },
  {
   "cell_type": "code",
   "execution_count": 17,
   "id": "running-webster",
   "metadata": {},
   "outputs": [
    {
     "data": {
      "text/plain": [
       "[('23', '02', '2019'), ('22', '02', '2019'), ('24', '02', '2019')]"
      ]
     },
     "execution_count": 17,
     "metadata": {},
     "output_type": "execute_result"
    }
   ],
   "source": [
    "# example of using back referencing to shift positions\n",
    "\n",
    "txt = \"\"\"\n",
    "today is 23/02/2019.\n",
    "yesterday was 22/02/2019.\n",
    "tomorrow is 24/02/2019.\n",
    "\"\"\"\n",
    "pattern = re.compile(\"(\\d{2})\\/(\\d{2})\\/(\\d{4})\")\n",
    "pattern.findall(txt)"
   ]
  },
  {
   "cell_type": "code",
   "execution_count": 18,
   "id": "fuzzy-stable",
   "metadata": {},
   "outputs": [
    {
     "name": "stdout",
     "output_type": "stream",
     "text": [
      "\n",
      "today is 2019-02-23.\n",
      "yesterday was 2019-02-22.\n",
      "tomorrow is 2019-02-24.\n",
      "\n"
     ]
    }
   ],
   "source": [
    "newtxt = pattern.sub(r\"\\3-\\2-\\1\", txt)\n",
    "print(newtxt)"
   ]
  },
  {
   "cell_type": "markdown",
   "id": "naval-final",
   "metadata": {},
   "source": [
    "**>注意, 上面的例子用了多行multi-line的模式, 每一行都是一个新的regex match过程**"
   ]
  },
  {
   "cell_type": "code",
   "execution_count": 15,
   "id": "owned-analyst",
   "metadata": {},
   "outputs": [
    {
     "name": "stdout",
     "output_type": "stream",
     "text": [
      "<h2> Header text <strong></strong></h2><img src=\"example.com/img.jpg\">\n"
     ]
    }
   ],
   "source": [
    "# example of using backreferencing to replace position in html parsing\n",
    "\n",
    "html = '<h2> Header text <strong> <img src=\"example.com/img.jpg\"> </strong> </h2>'\n",
    "text = re.sub(\n",
    "            \"[^>]+\\s*(<img[^>]*?>)\\s*(</strong>)?\\s*</h2>\",\n",
    "            \"\\\\2</h2>\\\\1\",\n",
    "            html,\n",
    "            re.MULTILINE,\n",
    "        )\n",
    "print(text)"
   ]
  },
  {
   "cell_type": "markdown",
   "id": "collectible-franchise",
   "metadata": {},
   "source": [
    "### Non-Capturing Groups\n",
    "\n",
    "网上的一种理解, 对于non-capturing groups\n",
    ">A non-capturing group lets us use the grouping inside a regular expression without changing the numbers assigned to the back references (explained in the next section). This can be very useful in building large and complex regular expressions.\n",
    "\n"
   ]
  },
  {
   "cell_type": "code",
   "execution_count": 3,
   "id": "major-conflict",
   "metadata": {},
   "outputs": [
    {
     "data": {
      "text/plain": [
       "['cats', 'dogs']"
      ]
     },
     "execution_count": 3,
     "metadata": {},
     "output_type": "execute_result"
    }
   ],
   "source": [
    "## Classic tutorial for non-capturing groups\n",
    "\n",
    "import re\n",
    "\n",
    "txt = \"\"\"\n",
    "i love cats\n",
    "i love dogs\n",
    "\"\"\"\n",
    "\n",
    "pattern = re.compile(\"i love (cats|dogs)\")\n",
    "pattern.findall(txt)"
   ]
  },
  {
   "cell_type": "code",
   "execution_count": 4,
   "id": "strategic-chrome",
   "metadata": {},
   "outputs": [
    {
     "name": "stdout",
     "output_type": "stream",
     "text": [
      "Complete regex match (default): i love cats\n",
      "Match captured by 1st group: cats\n",
      "Complete regex match (default): i love dogs\n",
      "Match captured by 1st group: dogs\n"
     ]
    }
   ],
   "source": [
    "for match in pattern.finditer(txt):\n",
    "    print(\"Complete regex match (default):\", match.group(0))\n",
    "    print(\"Match captured by 1st group:\", match.group(1))\n",
    "    # cats, dogs其实不是我关心的, 我需要得到的是i love cats, i love dogs\n",
    "    # 这里的 group不是我所想要的"
   ]
  },
  {
   "cell_type": "code",
   "execution_count": 5,
   "id": "straight-bennett",
   "metadata": {},
   "outputs": [
    {
     "data": {
      "text/plain": [
       "['i love cats', 'i love dogs']"
      ]
     },
     "execution_count": 5,
     "metadata": {},
     "output_type": "execute_result"
    }
   ],
   "source": [
    "# 使用non-capturing\n",
    "\n",
    "pattern = re.compile(\"i love (?:cats|dogs)\")\n",
    "pattern.findall(txt)"
   ]
  },
  {
   "cell_type": "code",
   "execution_count": 6,
   "id": "international-trinity",
   "metadata": {},
   "outputs": [
    {
     "name": "stdout",
     "output_type": "stream",
     "text": [
      "Matched group: <re.Match object; span=(1, 12), match='i love cats'>\n",
      "Matched group: <re.Match object; span=(13, 24), match='i love dogs'>\n"
     ]
    }
   ],
   "source": [
    "for m in pattern.finditer(txt):\n",
    "    print(\"Matched group:\", m)"
   ]
  },
  {
   "cell_type": "markdown",
   "id": "formed-worship",
   "metadata": {},
   "source": [
    "## Non-greedy search, or find the first matched one\n",
    "- adding ? after (+,*)"
   ]
  },
  {
   "cell_type": "code",
   "execution_count": 1,
   "id": "approved-merchandise",
   "metadata": {},
   "outputs": [
    {
     "ename": "TypeError",
     "evalue": "search() missing 1 required positional argument: 'string'",
     "output_type": "error",
     "traceback": [
      "\u001b[0;31m---------------------------------------------------------------------------\u001b[0m",
      "\u001b[0;31mTypeError\u001b[0m                                 Traceback (most recent call last)",
      "\u001b[0;32m<ipython-input-1-1cf272b0f03e>\u001b[0m in \u001b[0;36m<module>\u001b[0;34m\u001b[0m\n\u001b[1;32m      1\u001b[0m \u001b[0;32mimport\u001b[0m \u001b[0mre\u001b[0m\u001b[0;34m\u001b[0m\u001b[0;34m\u001b[0m\u001b[0m\n\u001b[1;32m      2\u001b[0m \u001b[0;34m\u001b[0m\u001b[0m\n\u001b[0;32m----> 3\u001b[0;31m \u001b[0mre\u001b[0m\u001b[0;34m.\u001b[0m\u001b[0msearch\u001b[0m\u001b[0;34m(\u001b[0m\u001b[0;34m'<p><img.*?/></p>'\u001b[0m\u001b[0;34m)\u001b[0m\u001b[0;34m\u001b[0m\u001b[0;34m\u001b[0m\u001b[0m\n\u001b[0m",
      "\u001b[0;31mTypeError\u001b[0m: search() missing 1 required positional argument: 'string'"
     ]
    }
   ],
   "source": [
    "import re\n",
    "\n",
    "re.search('<p><img.*?/></p>')"
   ]
  },
  {
   "cell_type": "code",
   "execution_count": null,
   "id": "smaller-terror",
   "metadata": {},
   "outputs": [],
   "source": []
  },
  {
   "cell_type": "markdown",
   "id": "raised-trading",
   "metadata": {},
   "source": [
    "## escape character cases"
   ]
  },
  {
   "cell_type": "code",
   "execution_count": null,
   "id": "palestinian-adrian",
   "metadata": {},
   "outputs": [],
   "source": []
  },
  {
   "cell_type": "markdown",
   "id": "blind-clark",
   "metadata": {},
   "source": [
    "### Impressive regular expression\n",
    "\n",
    "#### Matched img url\n",
    "`pattern = '^https?:\\\\/\\\\/(www\\\\.)?%s(.+(jpeg|jpg|png))$'`, match `https://xxxx.jpg`\n"
   ]
  },
  {
   "cell_type": "markdown",
   "id": "beautiful-option",
   "metadata": {},
   "source": [
    "## Comparison between functions\n",
    "- match()\n",
    "- group()\n",
    "- search()\n",
    "- finditer"
   ]
  },
  {
   "cell_type": "markdown",
   "id": "loving-customs",
   "metadata": {},
   "source": [
    "## Look around\n",
    "\n",
    "<img src='look-round-intro.png' width=\"600\" height=\"600\">\n",
    "<img src='look-around.png' width=\"600\" height=\"600\">"
   ]
  },
  {
   "cell_type": "markdown",
   "id": "voluntary-piece",
   "metadata": {},
   "source": [
    "### Look ahead\n",
    "\n",
    "<img src='look-ahead-intro.png' width=\"600\" height=\"600\">\n"
   ]
  },
  {
   "cell_type": "code",
   "execution_count": null,
   "id": "wooden-immigration",
   "metadata": {},
   "outputs": [],
   "source": []
  }
 ],
 "metadata": {
  "kernelspec": {
   "display_name": "Python 3",
   "language": "python",
   "name": "python3"
  },
  "language_info": {
   "codemirror_mode": {
    "name": "ipython",
    "version": 3
   },
   "file_extension": ".py",
   "mimetype": "text/x-python",
   "name": "python",
   "nbconvert_exporter": "python",
   "pygments_lexer": "ipython3",
   "version": "3.8.6"
  }
 },
 "nbformat": 4,
 "nbformat_minor": 5
}
