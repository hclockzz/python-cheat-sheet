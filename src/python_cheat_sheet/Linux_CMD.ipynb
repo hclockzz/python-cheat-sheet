{
 "cells": [
  {
   "cell_type": "markdown",
   "id": "continental-latex",
   "metadata": {},
   "source": [
    "# Useful commands when using Linux"
   ]
  },
  {
   "cell_type": "markdown",
   "id": "turned-month",
   "metadata": {},
   "source": [
    "## &&"
   ]
  },
  {
   "cell_type": "markdown",
   "id": "about-mixer",
   "metadata": {},
   "source": [
    "[create a directory and then go into the new folder, use one-line command](https://unix.stackexchange.com/questions/9123/is-there-a-one-liner-that-allows-me-to-create-a-directory-and-move-into-it-at-th)\n",
    "\n",
    "```Bash\n",
    "mkdir longtitleproject && cd $_\n",
    "```\n",
    "The $_ variable, in bash, is the last argument given to the previous command. In this case, the name of the directory you just created"
   ]
  },
  {
   "cell_type": "code",
   "execution_count": null,
   "id": "improved-peter",
   "metadata": {},
   "outputs": [],
   "source": []
  },
  {
   "cell_type": "markdown",
   "id": "vital-adoption",
   "metadata": {},
   "source": [
    "# Find commands\n",
    "[link](https://www.plesk.com/blog/various/find-files-in-linux-via-command-line)"
   ]
  },
  {
   "cell_type": "markdown",
   "id": "proved-cambodia",
   "metadata": {},
   "source": [
    "command expression\n",
    "`find command options starting/path expression`\n",
    "\n",
    "Usage:\n",
    "- `find /home -name *.jpg`\n",
    "Look for all .jpg files in the /home and directories below it.\n",
    "\n",
    "- `find . -type f -empty`\n",
    "Look for an empty file inside the current directory.\n",
    "\n",
    "options that available (not complete list)\n",
    "- -O1 – (Default) filter based on file name first\n",
    "- -O2 – File name first, then file-type\n",
    "- -O3 – Allow find to automatically re-order the search based on efficient use of resources and likelihood of success\n",
    "- -maxdepth X – Search this directory along with all sub-directories to a level of X\n",
    "- -iname – Search while ignoring text case.\n",
    "- -not – Only produce results that don’t match the test case\n",
    "- -type f – Look for files\n",
    "- -type d – Look for directories\n",
    "\n",
    "\n"
   ]
  },
  {
   "cell_type": "markdown",
   "id": "completed-pearl",
   "metadata": {},
   "source": [
    "Find Files by When They Were Modified\n",
    "\n",
    "`find / -name \"*jpg\" -mtime 5`\n",
    "The initial Linux find command pulls up a list of files in the whole system that end with the characters jpg and have been modified in the preceding 5 days.\n",
    "\n",
    "Use Grep to Find Files Based on Content\n",
    "\n",
    "```Bash\n",
    "find . -type f -exec grep \"forinstance\" '{}' \\; -print\n",
    "Or\n",
    "find . -type f -print | xargs grep \"forinstance\"\n",
    "```\n",
    "\n",
    "Find file, then process files\n",
    "```Bash\n",
    "find . -name \"rc.conf\" -exec chmod o+r '{}' \\;\n",
    "\n",
    "Delete files\n",
    "find . -name \"*.bak\" -delete\n",
    "```"
   ]
  },
  {
   "cell_type": "markdown",
   "id": "bibliographic-video",
   "metadata": {},
   "source": [
    "## Get the size of files/directories"
   ]
  },
  {
   "cell_type": "markdown",
   "id": "satisfactory-grass",
   "metadata": {},
   "source": [
    "```Bash\n",
    "du -sh /var\n",
    "\n",
    "85G /var\n",
    "```\n",
    "\n",
    "Another way to get a report about the disk usage of the first-level subdirectories is to use the --max-depth option:\n",
    "\n",
    "```Bash\n",
    "sudo du -h --max-depth=1 /var\n",
    "\n",
    "77G\t  /var/lib\n",
    "24K\t  /var/db\n",
    "4.0K\t/var/empty\n",
    "4.0K\t/var/local\n",
    "4.0K\t/var/opt\n",
    "196K\t/var/spool\n",
    "4.0K\t/var/games\n",
    "3.3G\t/var/log\n",
    "5.0G\t/var/cache\n",
    "28K\t/var/tmp\n",
    "85G\t/var\n",
    "85G\ttotal\n",
    "```"
   ]
  },
  {
   "cell_type": "code",
   "execution_count": null,
   "id": "premier-import",
   "metadata": {},
   "outputs": [],
   "source": []
  }
 ],
 "metadata": {
  "kernelspec": {
   "display_name": "Python 3",
   "language": "python",
   "name": "python3"
  },
  "language_info": {
   "codemirror_mode": {
    "name": "ipython",
    "version": 3
   },
   "file_extension": ".py",
   "mimetype": "text/x-python",
   "name": "python",
   "nbconvert_exporter": "python",
   "pygments_lexer": "ipython3",
   "version": "3.8.6"
  }
 },
 "nbformat": 4,
 "nbformat_minor": 5
}
