{
 "cells": [
  {
   "cell_type": "markdown",
   "metadata": {},
   "source": [
    "> I won't add an index of heading at the top any longer.\n",
    "\n",
    "> Recommend to check out the markdown version, which in GitHub can be viewed with a table of content."
   ]
  },
  {
   "cell_type": "markdown",
   "metadata": {},
   "source": [
    "# learning resources\n",
    "\n",
    "## Python Offical \"HowTo\" Series\n",
    "\n",
    "A few examples:\n",
    "- [Logging HOWTO](https://docs.python.org/3.9/howto/logging.html)\n",
    "- [Regular Expression HOWTO](https://docs.python.org/3.9/howto/regex.html#regular-expression-howto)\n",
    "- [Sorting How to](https://docs.python.org/3.9/howto/sorting.html)                           "
   ]
  },
  {
   "cell_type": "markdown",
   "metadata": {},
   "source": [
    "# Fundamentals\n",
    "## [Null in Python: None](https://realpython.com/null-in-python/)"
   ]
  },
  {
   "cell_type": "markdown",
   "metadata": {},
   "source": [
    "Python uses the keyword **None** to define *null* objects and variables.\n",
    "As the *null* in Python, **None** is not defined to be 0 or any other value. \n",
    "In Python, **None** is an *object* and a first-class citizen\n",
    "\n",
    "None is the value a function returns when there is no return statement in the function:\n",
    "\n",
    "```Python\n",
    ">>> def has_no_return():\n",
    "...     pass\n",
    ">>> has_no_return()\n",
    ">>> print(has_no_return())\n",
    "None\n",
    "```\n",
    "\n",
    "An important rule to keep in mind when you’re checking for None:\n",
    "\n",
    "- Do use the identity operators is and is not.\n",
    "- Do not use the equality operators == and !=.\n",
    "\n",
    "The following objects are all falsy as well:\n",
    "\n",
    "- None\n",
    "- Empty lists\n",
    "- Empty dictionaries\n",
    "- Empty sets\n",
    "- Empty strings\n",
    "- 0\n",
    "- False"
   ]
  },
  {
   "cell_type": "markdown",
   "metadata": {},
   "source": [
    "Q: Does 'None' bind to a specific memory location? \n",
    "\n",
    "Q: `m=None` `n=None`, does `m=n`?\n",
    "\n",
    "Q: \n",
    "```python\n",
    "dummy.next = m = None\n",
    "...\n",
    "m = ListNode(4)\n",
    "```\n",
    "So does `dummy.next = ListNode(4)`?"
   ]
  },
  {
   "cell_type": "code",
   "execution_count": 15,
   "metadata": {},
   "outputs": [
    {
     "name": "stdout",
     "output_type": "stream",
     "text": [
      "4390759864\n",
      "4390759864\n"
     ]
    },
    {
     "data": {
      "text/plain": [
       "'\\nNone is a singleton. That is, the NoneType class only ever gives you the same single instance of None. \\nThere’s only one None in your Python program\\n'"
      ]
     },
     "execution_count": 15,
     "metadata": {},
     "output_type": "execute_result"
    }
   ],
   "source": [
    "m = None\n",
    "print(id(m))\n",
    "n = None\n",
    "print(id(n))\n",
    "\n",
    "\"\"\"\n",
    "None is a singleton. That is, the NoneType class only ever gives you the same single instance of None. \n",
    "There’s only one None in your Python program\n",
    "\"\"\""
   ]
  },
  {
   "cell_type": "markdown",
   "metadata": {},
   "source": [
    "In many other languages, null is just a synonym for 0, but null in Python is a full-blown object:\n",
    "```Python\n",
    ">>> type(None)\n",
    "<class 'NoneType'>\n",
    "```"
   ]
  },
  {
   "cell_type": "markdown",
   "metadata": {},
   "source": [
    "In some languages, variables come to life from a **declaration**. They don’t have to have an initial value assigned to them. In those languages, the initial default value for some types of variables might be null. In Python, however, variables come to life from **assignment statements**.\n",
    "\n",
    "```Python\n",
    ">>> print(bar)\n",
    "Traceback (most recent call last):\n",
    "  File \"<stdin>\", line 1, in <module>\n",
    "NameError: name 'bar' is not defined\n",
    ">>> bar = None\n",
    ">>> print(bar)\n",
    "None\n",
    "```"
   ]
  },
  {
   "cell_type": "markdown",
   "metadata": {},
   "source": [
    "## [Assignment, Object and References in Python](https://realpython.com/python-variables/)"
   ]
  },
  {
   "cell_type": "code",
   "execution_count": 13,
   "metadata": {},
   "outputs": [
    {
     "name": "stdout",
     "output_type": "stream",
     "text": [
      "4430456048\n",
      "4430455984\n"
     ]
    }
   ],
   "source": [
    "\"\"\"\n",
    "The built-in Python function id() returns an object’s integer identifier. \n",
    "Using the id() function, you can verify that two variables indeed point to the same object\n",
    "\"\"\"\n",
    "\n",
    "m = 300\n",
    "n = 300\n",
    "print(id(m))\n",
    "print(id(n))"
   ]
  },
  {
   "cell_type": "code",
   "execution_count": 9,
   "metadata": {},
   "outputs": [
    {
     "data": {
      "text/plain": [
       "60062896"
      ]
     },
     "execution_count": 9,
     "metadata": {},
     "output_type": "execute_result"
    }
   ],
   "source": [
    "\"\"\"\n",
    "With the statement m = 300, Python creates an integer object with the value 300 and sets m as a reference to it. \n",
    "n is then similarly assigned to an integer object with value 300—but not the same object. \n",
    "\"\"\"\n",
    "\n",
    ">>> m = 300\n",
    ">>> n = 300\n",
    ">>> id(m)\n",
    "60062304\n",
    ">>> id(n)\n",
    "60062896"
   ]
  },
  {
   "cell_type": "code",
   "execution_count": null,
   "metadata": {},
   "outputs": [],
   "source": [
    "# But\n",
    "\n",
    ">>> m = 30\n",
    ">>> n = 30\n",
    ">>> id(m)\n",
    "1405569120\n",
    ">>> id(n)\n",
    "1405569120\n",
    "\n",
    "\"\"\"\n",
    "For purposes of optimization, the interpreter creates objects for the integers in the range [-5, 256] \n",
    "at startup, and then reuses them during program execution. Thus, when you assign separate variables to an \n",
    "integer value in this range, they will actually reference the same object.\n",
    "\"\"\""
   ]
  },
  {
   "cell_type": "markdown",
   "metadata": {},
   "source": [
    "### id() return the \"identity\" of an object"
   ]
  },
  {
   "cell_type": "markdown",
   "metadata": {},
   "source": [
    "Return the “identity” of an object. This is an integer which is **guaranteed to be unique** and constant for this object during its lifetime. Two objects with non-overlapping lifetimes may have the same id() value.\n",
    "\n",
    "*CPython implementation detail*: **This is the address of the object in memory**."
   ]
  },
  {
   "cell_type": "markdown",
   "metadata": {},
   "source": [
    "### Underscore _ in Python\n",
    "https://hackernoon.com/understanding-the-underscore-of-python-309d1a029edc\n",
    "\n",
    "There are 5 cases for using the underscore in Python.\n",
    "- For storing the value of last expression in interpreter.\n",
    "- For ignoring the specific values. (so-called “I don’t care”)\n",
    "- To give special meanings and functions to name of vartiables or functions.\n",
    "- To use as ‘Internationalization(i18n)’ or ‘Localization(l10n)’ functions.\n",
    "- To separate the digits of number literal value."
   ]
  },
  {
   "cell_type": "code",
   "execution_count": 14,
   "metadata": {},
   "outputs": [
    {
     "data": {
      "text/plain": [
       "600"
      ]
     },
     "execution_count": 14,
     "metadata": {},
     "output_type": "execute_result"
    }
   ],
   "source": [
    "# 1. When used in interpreter\n",
    ">>> 10 \n",
    "10 \n",
    ">>> _ \n",
    "10 \n",
    ">>> _ * 3 \n",
    "30 \n",
    ">>> _ * 20 \n",
    "600"
   ]
  },
  {
   "cell_type": "code",
   "execution_count": 15,
   "metadata": {},
   "outputs": [
    {
     "data": {
      "text/plain": [
       "(1, 3)"
      ]
     },
     "execution_count": 15,
     "metadata": {},
     "output_type": "execute_result"
    }
   ],
   "source": [
    "# 2. For Ignoring the values\n",
    "\n",
    "# Ignore a value when unpacking\n",
    "x, _, y = (1, 2, 3) # x = 1, y = 3 \n",
    "x,y"
   ]
  },
  {
   "cell_type": "code",
   "execution_count": 16,
   "metadata": {},
   "outputs": [
    {
     "name": "stdout",
     "output_type": "stream",
     "text": [
      "Hi\n",
      "Hi\n",
      "Hi\n",
      "Hi\n",
      "Hi\n"
     ]
    }
   ],
   "source": [
    "# Ignore the index\n",
    "for _ in range(5):     \n",
    "    print(\"Hi\")"
   ]
  },
  {
   "cell_type": "code",
   "execution_count": null,
   "metadata": {},
   "outputs": [],
   "source": [
    "# 3. Give special meanings to name of variables and functions\n",
    "\n",
    "# _single_leading_underscore\n",
    "\n",
    "# This convention is used for declaring private variables, functions, methods and classes in a module. \n",
    "# Anything with this convention are ignored in from module import *. \n",
    "\n",
    "# However, of course, Python does not supports truly private, so we can not force somethings private ones \n",
    "# and also can call it directly from other modules. \n",
    "\n",
    "class _Base: # private class\n",
    "    _hidden_factor = 2 # private variable"
   ]
  },
  {
   "cell_type": "code",
   "execution_count": null,
   "metadata": {},
   "outputs": [],
   "source": [
    "# single_trailing_underscore_\n",
    "\n",
    "# This convention could be used for avoiding conflict with Python keywords or built-ins. \n",
    "# You might not use it often.\n",
    "\n",
    "list_ = List.objects.get(1) # Avoid conflict with 'list' built-in type\n"
   ]
  },
  {
   "cell_type": "code",
   "execution_count": null,
   "metadata": {},
   "outputs": [],
   "source": [
    "# __double_leading_and_trailing_underscore__\n",
    "\n",
    "# This convention is used for special variables or methods (so-called “magic method”) such as__init__, __len__. \n",
    "# These methods provides special syntactic features or does special things. \n",
    "# For example, __file__ indicates the location of Python file, __eq__ is executed when a == b expression is excuted. \n",
    "\n",
    "class A:\n",
    "    def __init__(self, a): # use special method '__init__' for initializing\n",
    "        self.a = a"
   ]
  },
  {
   "cell_type": "code",
   "execution_count": 17,
   "metadata": {},
   "outputs": [
    {
     "name": "stdout",
     "output_type": "stream",
     "text": [
      "1000000\n",
      "240\n",
      "305441741\n"
     ]
    }
   ],
   "source": [
    "# 4. To separate the digits of number literal value\n",
    "\n",
    "# This feature was added in Python 3.6. \n",
    "# It is used for separating digits of numbers using underscore for readability.\n",
    "\n",
    "dec_base = 1_000_000\n",
    "bin_base = 0b_1111_0000\n",
    "hex_base = 0x_1234_abcd\n",
    "\n",
    "print(dec_base) # 1000000\n",
    "print(bin_base) # 240\n",
    "print(hex_base) # 305441741"
   ]
  },
  {
   "cell_type": "markdown",
   "metadata": {},
   "source": [
    "# Number Basics"
   ]
  },
  {
   "cell_type": "markdown",
   "metadata": {},
   "source": [
    "## What is the maximum possible value of an integer in Python ?\n",
    "\n",
    "In Python, value of an integer is not restricted by the number of bits and can expand to the limit of the available memory (Sources : this and this). Thus we never need any special arrangement for storing large numbers (Imagine doing above arithmetic in C/C++).\n",
    "\n",
    "As a side note, in Python 3, there is only one type “int” for all type of integers. In Python 2.7. there are two separate types “int” (which is 32 bit) and “long int” that is same as “int” of Python 3.x, i.e., can store arbitrarily large numbers.\n",
    "\n",
    "```Python\n",
    "# A Python program to show that there are two types in \n",
    "# Python 2.7 : int and long int \n",
    "# And in Python 3 there is only one type : int \n",
    "  \n",
    "x = 10\n",
    "print(type(x)) \n",
    "  \n",
    "x = 10000000000000000000000000000000000000000000\n",
    "print(type(x)) \n",
    "\n",
    "# Python 2\n",
    "<type 'int'>\n",
    "<type 'long'>\n",
    "\n",
    "# Python 3\n",
    "<type 'int'>\n",
    "<type 'int'>\n",
    "```"
   ]
  },
  {
   "cell_type": "code",
   "execution_count": 1,
   "metadata": {},
   "outputs": [
    {
     "name": "stdout",
     "output_type": "stream",
     "text": [
      "<class 'int'>\n",
      "<class 'int'>\n"
     ]
    }
   ],
   "source": [
    "x = 10\n",
    "print(type(x)) \n",
    "  \n",
    "x = 10000000000000000000000000000000000000000000\n",
    "print(type(x)) "
   ]
  },
  {
   "cell_type": "code",
   "execution_count": 3,
   "metadata": {},
   "outputs": [
    {
     "name": "stdout",
     "output_type": "stream",
     "text": [
      "9223372036854775807\n"
     ]
    }
   ],
   "source": [
    "import sys\n",
    "print(sys.maxsize)"
   ]
  },
  {
   "cell_type": "code",
   "execution_count": 16,
   "metadata": {},
   "outputs": [
    {
     "name": "stdout",
     "output_type": "stream",
     "text": [
      "Help on built-in function divmod in module builtins:\n",
      "\n",
      "divmod(x, y, /)\n",
      "    Return the tuple (x//y, x%y).  Invariant: div*y + mod == x.\n",
      "\n"
     ]
    }
   ],
   "source": [
    "help(divmod)"
   ]
  },
  {
   "cell_type": "markdown",
   "metadata": {},
   "source": [
    "## [Round int](https://stackoverflow.com/a/19501343/1911726)\n",
    "\n",
    "- general round()\n",
    "- always round down\n",
    "- round up"
   ]
  },
  {
   "cell_type": "markdown",
   "metadata": {},
   "source": [
    "```Python\n",
    ">>> import math\n",
    ">>> math.floor(12.6)  # returns 12.0 in Python 2\n",
    "12   \n",
    ">>> int(12.6)\n",
    "12\n",
    ">>> math.trunc(12.6)\n",
    "12\n",
    "```\n",
    "\n",
    "However, note that they behave differently with negative numbers: int and math.trunc will go to 0, whereas math.floor always floors downwards\n",
    "\n",
    "```Python\n",
    ">>> import math\n",
    ">>> math.floor(-12.6)  # returns -13.0 in Python 2\n",
    "-13\n",
    ">>> int(-12.6)\n",
    "-12\n",
    ">>> math.trunc(-12.6)\n",
    "-12\n",
    "```"
   ]
  },
  {
   "cell_type": "markdown",
   "metadata": {},
   "source": [
    "### [Tricky points about round()](https://realpython.com/python-rounding/)\n",
    "\n",
    "```Python\n",
    ">>> round(2.5)\n",
    "2\n",
    "\n",
    ">>> round(1.5)\n",
    "2\n",
    "```\n",
    "\n",
    "[Another example](https://www.programiz.com/python-programming/methods/built-in/round)\n",
    "```Python\n",
    "print(round(2.665, 2))\n",
    "print(round(2.675, 2))\n",
    ">>>2.67\n",
    ">>>2.67\n",
    "```\n"
   ]
  },
  {
   "cell_type": "markdown",
   "metadata": {},
   "source": [
    "## Check if a number is integer or decimal in Python\n",
    "\n",
    "```Python\n",
    "print(isinstance(i, int))\n",
    "# True\n",
    "\n",
    "print(isinstance(i, float))\n",
    "# False\n",
    "\n",
    "print(isinstance(f, int))\n",
    "# False\n",
    "\n",
    "print(isinstance(f, float))\n",
    "# True\n",
    "```\n",
    "\n",
    "Check if *float* is integer\n",
    "\n",
    "```Python\n",
    "f = 1.23\n",
    "\n",
    "print(f.is_integer())\n",
    "# False\n",
    "\n",
    "f_i = 100.0\n",
    "\n",
    "print(f_i.is_integer())\n",
    "# True\n",
    "```\n",
    "\n",
    "Check if string is integer\n",
    "\n",
    "```Python\n",
    "def is_integer(n):\n",
    "    try:\n",
    "        float(n)\n",
    "    except ValueError:\n",
    "        return False\n",
    "    else:\n",
    "        return float(n).is_integer()\n",
    "\n",
    "print(is_integer(100))\n",
    "# True\n",
    "\n",
    "print(is_integer(100.0))\n",
    "# True\n",
    "\n",
    "print(is_integer(1.23))\n",
    "# False\n",
    "\n",
    "print(is_integer('100'))\n",
    "# True\n",
    "\n",
    "print(is_integer('100.0'))\n",
    "# True\n",
    "\n",
    "print(is_integer('1.23'))\n",
    "# False\n",
    "\n",
    "print(is_integer('string'))\n",
    "# False\n",
    "```"
   ]
  },
  {
   "cell_type": "markdown",
   "metadata": {},
   "source": [
    "## Float and scientic notation\n"
   ]
  },
  {
   "cell_type": "code",
   "execution_count": 8,
   "metadata": {},
   "outputs": [
    {
     "name": "stdout",
     "output_type": "stream",
     "text": [
      "137825.81479394066\n",
      "1.357e-05\n",
      "using format str g:0.000014\n"
     ]
    }
   ],
   "source": [
    "ff = float(0.0519**-4)\n",
    "print(ff)\n",
    "g = 0.00001357\n",
    "print(g)\n",
    "print('using format str g:{:f}'.format(g))"
   ]
  },
  {
   "cell_type": "markdown",
   "metadata": {},
   "source": [
    "## Ascii in Python\n",
    "\n",
    "Unicode is a superset of ASCII, and the numbers 0–128 have the same meaning in ASCII as they have in Unicode."
   ]
  },
  {
   "cell_type": "markdown",
   "metadata": {},
   "source": [
    "### ord(c)\n",
    "\n",
    "Given a string representing one Unicode character, return an integer representing the Unicode code point of that character. For example, ord(‘a’) returns the integer 97 and ord(‘€’) (Euro sign) returns 8364. This is the inverse of chr().\n",
    "\n",
    "```Python\n",
    "ord('A')  #--> 65\n",
    "ord('B')  #--> 66\n",
    "ord('C')  #--> 67\n",
    "ord('a')  #--> 97\n",
    "```\n",
    "\n",
    "Reverse of ord() is chr()\n",
    "```Python\n",
    "chr(65)  #--> 'A'\n",
    "chr(127) #--> '\\x7f' memory address of [DEL] in hex\n",
    "```"
   ]
  },
  {
   "cell_type": "markdown",
   "metadata": {},
   "source": [
    "# Control Flow and Operator"
   ]
  },
  {
   "cell_type": "markdown",
   "metadata": {},
   "source": [
    "### If...Else...\n",
    "\n",
    "Simplier way to write:\n",
    "```Python\n",
    "if flag > 0:\n",
    "    num = ...\n",
    "else:\n",
    "    num = ...\n",
    "\n",
    "    \n",
    "num = ... if flag>0 else ...\n",
    "```"
   ]
  },
  {
   "cell_type": "markdown",
   "metadata": {},
   "source": [
    "## For loop and break"
   ]
  },
  {
   "cell_type": "code",
   "execution_count": 2,
   "metadata": {},
   "outputs": [
    {
     "name": "stdout",
     "output_type": "stream",
     "text": [
      "no fond\n"
     ]
    }
   ],
   "source": [
    "input = [1,2,3,4,7,6]\n",
    "\n",
    "res = ''\n",
    "\n",
    "for num in input:\n",
    "    if num == 5:\n",
    "        res = 'found'\n",
    "        break\n",
    "else:\n",
    "    res = 'no found'\n",
    "    \n",
    "print(res)"
   ]
  },
  {
   "cell_type": "code",
   "execution_count": 3,
   "metadata": {},
   "outputs": [
    {
     "name": "stdout",
     "output_type": "stream",
     "text": [
      "['no found', 'no found', 'found']\n"
     ]
    }
   ],
   "source": [
    "input = [[1,2,3,4,7,6],[4,7],[5,8]]\n",
    "\n",
    "res = []\n",
    "\n",
    "for group in input:\n",
    "    for num in group:\n",
    "        if num == 5:\n",
    "            res.append('found')\n",
    "            break\n",
    "    else:\n",
    "        res.append('no found')\n",
    "    \n",
    "print(res)"
   ]
  },
  {
   "cell_type": "markdown",
   "metadata": {},
   "source": [
    "### := walrus operator (since 3.8)"
   ]
  },
  {
   "cell_type": "code",
   "execution_count": 6,
   "metadata": {},
   "outputs": [
    {
     "name": "stdout",
     "output_type": "stream",
     "text": [
      "List is too long (12 elements, expected <= 10)\n"
     ]
    }
   ],
   "source": [
    "a = list(range(12))\n",
    "if (n := len(a)) > 10:\n",
    "    print(f\"List is too long ({n} elements, expected <= 10)\")"
   ]
  },
  {
   "cell_type": "markdown",
   "metadata": {},
   "source": [
    "Some motivating use cases:\n",
    "\n",
    "```Python\n",
    "discount = 0.0\n",
    "if (mo := re.search(r'(\\d+)% discount', advertisement)):\n",
    "    discount = float(mo.group(1)) / 100.0\n",
    "\n",
    "# tmp variable for loop\n",
    "while (block := f.read(256)) != '':\n",
    "    process(block)\n",
    "\n",
    "# in list comprehension\n",
    "[clean_name.title() for name in names\n",
    " if (clean_name := normalize('NFC', name)) in allowed_names]\n",
    "```"
   ]
  },
  {
   "cell_type": "markdown",
   "metadata": {},
   "source": [
    "# Function Basics"
   ]
  },
  {
   "cell_type": "markdown",
   "metadata": {},
   "source": [
    "### use `?` to get pydoc for a method"
   ]
  },
  {
   "cell_type": "code",
   "execution_count": 10,
   "metadata": {},
   "outputs": [
    {
     "data": {
      "text/plain": [
       "\u001b[0;31mSignature:\u001b[0m \u001b[0mchr\u001b[0m\u001b[0;34m(\u001b[0m\u001b[0mi\u001b[0m\u001b[0;34m,\u001b[0m \u001b[0;34m/\u001b[0m\u001b[0;34m)\u001b[0m\u001b[0;34m\u001b[0m\u001b[0;34m\u001b[0m\u001b[0m\n",
       "\u001b[0;31mDocstring:\u001b[0m Return a Unicode string of one character with ordinal i; 0 <= i <= 0x10ffff.\n",
       "\u001b[0;31mType:\u001b[0m      builtin_function_or_method"
      ]
     },
     "metadata": {},
     "output_type": "display_data"
    }
   ],
   "source": [
    "chr?"
   ]
  },
  {
   "cell_type": "code",
   "execution_count": 12,
   "metadata": {},
   "outputs": [
    {
     "data": {
      "text/plain": [
       "\u001b[0;31mSignature:\u001b[0m \u001b[0minput\u001b[0m\u001b[0;34m(\u001b[0m\u001b[0mprompt\u001b[0m\u001b[0;34m=\u001b[0m\u001b[0;34m''\u001b[0m\u001b[0;34m)\u001b[0m\u001b[0;34m\u001b[0m\u001b[0;34m\u001b[0m\u001b[0m\n",
       "\u001b[0;31mDocstring:\u001b[0m\n",
       "Forward raw_input to frontends\n",
       "\n",
       "Raises\n",
       "------\n",
       "StdinNotImplementedError if active frontend doesn't support stdin.\n",
       "\u001b[0;31mFile:\u001b[0m      ~/.pyenv/versions/3.10.13/lib/python3.10/site-packages/ipykernel/kernelbase.py\n",
       "\u001b[0;31mType:\u001b[0m      method"
      ]
     },
     "metadata": {},
     "output_type": "display_data"
    }
   ],
   "source": [
    "input?"
   ]
  },
  {
   "cell_type": "markdown",
   "metadata": {},
   "source": [
    "## Positional-only parameters (since 3.8)"
   ]
  },
  {
   "cell_type": "markdown",
   "metadata": {},
   "source": [
    "There is a new function parameter syntax / to indicate that some function parameters must be specified positionally and cannot be used as keyword arguments. This is the same notation shown by help() for C functions annotated with Larry Hastings’ Argument Clinic tool.\n",
    "\n",
    "In the following example, parameters a and b are positional-only, while c or d can be positional or keyword, and e or f are required to be keywords:\n",
    "\n",
    "```Python\n",
    "def f(a, b, /, c, d, *, e, f):\n",
    "    print(a, b, c, d, e, f)\n",
    "```\n",
    "The following is a valid call:\n",
    "\n",
    "```Python\n",
    "f(10, 20, 30, d=40, e=50, f=60)\n",
    "\n",
    "# However, these are invalid calls:\n",
    "\n",
    "f(10, b=20, c=30, d=40, e=50, f=60)   # b cannot be a keyword argument\n",
    "f(10, 20, 30, 40, 50, f=60)           # e must be a keyword argument\n",
    "```"
   ]
  },
  {
   "cell_type": "code",
   "execution_count": 13,
   "metadata": {},
   "outputs": [
    {
     "name": "stdout",
     "output_type": "stream",
     "text": [
      "0\n",
      "1\n",
      "2\n",
      "3\n",
      "4\n",
      "5\n",
      "6\n",
      "7\n",
      "8\n",
      "9\n",
      "10\n",
      "11\n"
     ]
    }
   ],
   "source": [
    "def outter():\n",
    "    a = 12\n",
    "    # count() # used after define count()\n",
    "    def count():\n",
    "        for i in range(a):\n",
    "            print(i)\n",
    "    count()\n",
    "outter()"
   ]
  },
  {
   "cell_type": "code",
   "execution_count": 19,
   "metadata": {},
   "outputs": [
    {
     "ename": "NameError",
     "evalue": "name 'b' is not defined",
     "output_type": "error",
     "traceback": [
      "\u001b[0;31m---------------------------------------------------------------------------\u001b[0m",
      "\u001b[0;31mNameError\u001b[0m                                 Traceback (most recent call last)",
      "\u001b[0;32m<ipython-input-19-c7140fc7a9e5>\u001b[0m in \u001b[0;36m<module>\u001b[0;34m\u001b[0m\n\u001b[1;32m      9\u001b[0m             \u001b[0mprint\u001b[0m\u001b[0;34m(\u001b[0m\u001b[0mi\u001b[0m\u001b[0;34m)\u001b[0m\u001b[0;34m\u001b[0m\u001b[0;34m\u001b[0m\u001b[0m\n\u001b[1;32m     10\u001b[0m     \u001b[0mcount\u001b[0m\u001b[0;34m(\u001b[0m\u001b[0;34m)\u001b[0m\u001b[0;34m\u001b[0m\u001b[0;34m\u001b[0m\u001b[0m\n\u001b[0;32m---> 11\u001b[0;31m \u001b[0moutter\u001b[0m\u001b[0;34m(\u001b[0m\u001b[0;34m)\u001b[0m\u001b[0;34m\u001b[0m\u001b[0;34m\u001b[0m\u001b[0m\n\u001b[0m",
      "\u001b[0;32m<ipython-input-19-c7140fc7a9e5>\u001b[0m in \u001b[0;36moutter\u001b[0;34m()\u001b[0m\n\u001b[1;32m      8\u001b[0m         \u001b[0;32mfor\u001b[0m \u001b[0mi\u001b[0m \u001b[0;32min\u001b[0m \u001b[0mrange\u001b[0m\u001b[0;34m(\u001b[0m\u001b[0mb\u001b[0m\u001b[0;34m)\u001b[0m\u001b[0;34m:\u001b[0m\u001b[0;34m\u001b[0m\u001b[0;34m\u001b[0m\u001b[0m\n\u001b[1;32m      9\u001b[0m             \u001b[0mprint\u001b[0m\u001b[0;34m(\u001b[0m\u001b[0mi\u001b[0m\u001b[0;34m)\u001b[0m\u001b[0;34m\u001b[0m\u001b[0;34m\u001b[0m\u001b[0m\n\u001b[0;32m---> 10\u001b[0;31m     \u001b[0mcount\u001b[0m\u001b[0;34m(\u001b[0m\u001b[0;34m)\u001b[0m\u001b[0;34m\u001b[0m\u001b[0;34m\u001b[0m\u001b[0m\n\u001b[0m\u001b[1;32m     11\u001b[0m \u001b[0moutter\u001b[0m\u001b[0;34m(\u001b[0m\u001b[0;34m)\u001b[0m\u001b[0;34m\u001b[0m\u001b[0;34m\u001b[0m\u001b[0m\n",
      "\u001b[0;32m<ipython-input-19-c7140fc7a9e5>\u001b[0m in \u001b[0;36mcount\u001b[0;34m()\u001b[0m\n\u001b[1;32m      6\u001b[0m     \u001b[0;32mdef\u001b[0m \u001b[0mcount\u001b[0m\u001b[0;34m(\u001b[0m\u001b[0;34m)\u001b[0m\u001b[0;34m:\u001b[0m\u001b[0;34m\u001b[0m\u001b[0;34m\u001b[0m\u001b[0m\n\u001b[1;32m      7\u001b[0m         \u001b[0;32mglobal\u001b[0m \u001b[0mb\u001b[0m\u001b[0;34m\u001b[0m\u001b[0;34m\u001b[0m\u001b[0m\n\u001b[0;32m----> 8\u001b[0;31m         \u001b[0;32mfor\u001b[0m \u001b[0mi\u001b[0m \u001b[0;32min\u001b[0m \u001b[0mrange\u001b[0m\u001b[0;34m(\u001b[0m\u001b[0mb\u001b[0m\u001b[0;34m)\u001b[0m\u001b[0;34m:\u001b[0m\u001b[0;34m\u001b[0m\u001b[0;34m\u001b[0m\u001b[0m\n\u001b[0m\u001b[1;32m      9\u001b[0m             \u001b[0mprint\u001b[0m\u001b[0;34m(\u001b[0m\u001b[0mi\u001b[0m\u001b[0;34m)\u001b[0m\u001b[0;34m\u001b[0m\u001b[0;34m\u001b[0m\u001b[0m\n\u001b[1;32m     10\u001b[0m     \u001b[0mcount\u001b[0m\u001b[0;34m(\u001b[0m\u001b[0;34m)\u001b[0m\u001b[0;34m\u001b[0m\u001b[0;34m\u001b[0m\u001b[0m\n",
      "\u001b[0;31mNameError\u001b[0m: name 'b' is not defined"
     ]
    }
   ],
   "source": [
    "\n",
    "def outter():\n",
    "    b = 12\n",
    "\n",
    "    def count():\n",
    "        global b  # b should be declared outside of outter()\n",
    "        for i in range(b):\n",
    "            print(i)\n",
    "    count()\n",
    "outter()"
   ]
  },
  {
   "cell_type": "code",
   "execution_count": 20,
   "metadata": {},
   "outputs": [
    {
     "name": "stdout",
     "output_type": "stream",
     "text": [
      "0\n",
      "1\n",
      "2\n",
      "3\n",
      "4\n",
      "5\n",
      "6\n",
      "7\n",
      "8\n",
      "9\n",
      "10\n",
      "11\n"
     ]
    }
   ],
   "source": [
    "b=12\n",
    "def outter():\n",
    "#     b = 12\n",
    "\n",
    "    def count():\n",
    "        global b  # b should be declared outside of outter()\n",
    "        for i in range(b):\n",
    "            print(i)\n",
    "    count()\n",
    "outter()"
   ]
  },
  {
   "cell_type": "code",
   "execution_count": 21,
   "metadata": {},
   "outputs": [
    {
     "name": "stdout",
     "output_type": "stream",
     "text": [
      "0\n",
      "1\n",
      "2\n",
      "3\n",
      "4\n",
      "5\n",
      "6\n",
      "7\n",
      "8\n",
      "9\n",
      "10\n",
      "11\n"
     ]
    }
   ],
   "source": [
    "def outter():\n",
    "    c=12\n",
    "\n",
    "    def count():\n",
    "        # global c  \n",
    "        \n",
    "        for i in range(c):  # actually you don't need to declare global c\n",
    "            print(i)\n",
    "    count()\n",
    "outter()"
   ]
  },
  {
   "cell_type": "code",
   "execution_count": 32,
   "metadata": {},
   "outputs": [
    {
     "name": "stdout",
     "output_type": "stream",
     "text": [
      "0\n",
      "1\n",
      "2\n",
      "3\n",
      "4\n",
      "5\n",
      "6\n",
      "7\n",
      "d: 8\n"
     ]
    }
   ],
   "source": [
    "def outter():\n",
    "    d=5\n",
    "\n",
    "    def count():\n",
    "        nonlocal d  \n",
    "        d=8\n",
    "        for i in range(d):  # actually you don't need to declare global c\n",
    "            print(i)\n",
    "    count()\n",
    "    print(\"d:\", d) # nonlocal makes d come up from inner scope, covering d=5\n",
    "outter()"
   ]
  },
  {
   "cell_type": "markdown",
   "metadata": {
    "jupyter": {
     "source_hidden": true
    }
   },
   "source": [
    "## Lambda"
   ]
  },
  {
   "cell_type": "markdown",
   "metadata": {},
   "source": [
    "## Map, Filter and Reduce\n",
    "\n",
    "### partial func\n",
    "\n",
    "```Python\n",
    "def rep(x, n):\n",
    "    return [x for i in range(n)]\n",
    "def repit(xs):\n",
    "    rep3 = lambda x: rep(x, 3)\n",
    "    return map(rep3, xs)\n",
    "\n",
    "list(repit(['a',4,'J']))\n",
    ">>> [['a', 'a', 'a'], [4, 4, 4], ['J', 'J', 'J']]\n",
    "```\n",
    "\n",
    "### map\n",
    "Map applies a function to all the items in an input_list. Here is the blueprint:\n",
    "`map(function_to_apply, list_of_inputs)`\n",
    "\n",
    "```Python\n",
    "items = [1, 2, 3, 4, 5]\n",
    "squared = []\n",
    "for i in items:\n",
    "    squared.append(i**2)\n",
    "\n",
    "# use map\n",
    "squared = map(lambda x: x*2, items)\n",
    ">>> squared\n",
    "<map object at 0x102e54100>\n",
    ">>> list(squared)\n",
    "[2, 4, 6, 8, 10]\n",
    "```\n",
    "\n",
    "### filter\n",
    "filter creates a list of elements for which a function returns true.\n",
    "\n",
    "```Python\n",
    "number_list = range(-5, 5)\n",
    "less_than_zero = list(filter(lambda x: x < 0, number_list))\n",
    "print(less_than_zero)\n",
    "\n",
    "# Output: [-5, -4, -3, -2, -1]\n",
    "```\n",
    "\n",
    "### reduce\n",
    "Reduce is a really useful function for performing some computation on a list and returning the result. It applies a rolling computation to sequential pairs of values in a list. For example, if you wanted to compute the product of a list of integers.\n",
    "    \n",
    "```Python\n",
    "product = 1\n",
    "list = [1, 2, 3, 4]\n",
    "for num in list:\n",
    "    product = product * num\n",
    "\n",
    "# product = 24\n",
    "\n",
    "# if use reduce\n",
    "from functools import reduce\n",
    "product = reduce(lambda a,b: a*b, list)\n",
    ">>> product"
   ]
  },
  {
   "cell_type": "markdown",
   "metadata": {},
   "source": [
    "[ref](https://realpython.com/python-testing/)\n",
    "Definition\n",
    "\n",
    "```Python\n",
    ">>> lambda x: x\n",
    "```\n",
    "\n",
    "- The keyword: lambda\n",
    "- A bound variable: x\n",
    "- A body: x\n",
    "    \n",
    "Use `lambda` like an expression\n",
    "```Python\n",
    ">>> (lambda x: x + 1)(2)\n",
    "3\n",
    "\n",
    ">>> (lambda x, y: x + y)(2, 3)\n",
    "5\n",
    "\n",
    ">>> add_one = lambda x: x + 1\n",
    ">>> add_one(2)\n",
    "3\n",
    "```\n",
    "\n",
    "Check the inside of `lambda` and regular function\n",
    "```Python\n",
    ">>> import dis\n",
    ">>> add = lambda x, y: x + y\n",
    ">>> type(add)\n",
    "<class 'function'>\n",
    ">>> dis.dis(add)\n",
    "  1           0 LOAD_FAST                0 (x)\n",
    "              2 LOAD_FAST                1 (y)\n",
    "              4 BINARY_ADD\n",
    "              6 RETURN_VALUE\n",
    ">>> add\n",
    "<function <lambda> at 0x7f30c6ce9ea0>\n",
    "```\n",
    "\n",
    "Traceback\n",
    "\n",
    "Arguments\n",
    "\n",
    "```Python\n",
    ">>> (lambda x, y, z: x + y + z)(1, 2, 3)\n",
    "6\n",
    ">>> (lambda x, y, z=3: x + y + z)(1, 2)\n",
    "6\n",
    ">>> (lambda x, y, z=3: x + y + z)(1, y=2)\n",
    "6\n",
    ">>> (lambda *args: sum(args))(1,2,3)\n",
    "6\n",
    ">>> (lambda **kwargs: sum(kwargs.values()))(one=1, two=2, three=3)\n",
    "6\n",
    ">>> (lambda x, *, y=0, z=0: x + y + z)(1, y=2, z=3)\n",
    "6\n",
    "```\n",
    "\n",
    "\n",
    "Closure\n",
    "```Python\n",
    "def outer_func(x):\n",
    "    y = 4\n",
    "    return lambda z: x + y + z\n",
    "\n",
    "for i in range(3):\n",
    "    closure = outer_func(i)\n",
    "    print(f\"closure({i+5}) = {closure(i+5)}\")\n",
    "```\n"
   ]
  },
  {
   "cell_type": "markdown",
   "metadata": {},
   "source": [
    "### Appropriate Uses of Lambda Expressions\n",
    "- combined with `map()`, `filter()`, `reduce`\n",
    "```Python\n",
    ">>> list(map(lambda x: x.upper(), ['cat', 'dog', 'cow']))\n",
    "['CAT', 'DOG', 'COW']\n",
    ">>> list(filter(lambda x: 'o' in x, ['cat', 'dog', 'cow']))\n",
    "['dog', 'cow']\n",
    ">>> from functools import reduce\n",
    ">>> reduce(lambda acc, x: f'{acc} | {x}', ['cat', 'dog', 'cow'])\n",
    "'cat | dog | cow'\n",
    "```\n",
    "- key function in `.sort()` and `sorted()`\n",
    "```Python\n",
    ">>> ids = ['id1', 'id2', 'id30', 'id3', 'id22', 'id100']\n",
    ">>> print(sorted(ids)) # Lexicographic sort\n",
    "['id1', 'id100', 'id2', 'id22', 'id3', 'id30']\n",
    ">>> sorted_ids = sorted(ids, key=lambda x: int(x[2:])) # Integer sort\n",
    ">>> print(sorted_ids)\n",
    "['id1', 'id2', 'id3', 'id22', 'id30', 'id100']\n",
    "```\n",
    "- UI framework\n",
    "- Strongly suggest not to write lambda function with > 1 line\n",
    "https://stackoverflow.com/questions/1233448/no-multiline-lambda-in-python-why-not"
   ]
  },
  {
   "cell_type": "markdown",
   "metadata": {},
   "source": [
    "# Exception Handling\n",
    "\n",
    "[Tutorial 1](https://www.programiz.com/python-programming/exception-handling)"
   ]
  },
  {
   "cell_type": "code",
   "execution_count": 1,
   "metadata": {},
   "outputs": [
    {
     "name": "stdout",
     "output_type": "stream",
     "text": [
      "The entry is a\n",
      "Oops! <class 'ValueError'> occured.\n",
      "Next entry.\n",
      "\n",
      "The entry is 0\n",
      "Oops! <class 'ZeroDivisionError'> occured.\n",
      "Next entry.\n",
      "\n",
      "The entry is 2\n",
      "The reciprocal of 2 is 0.5\n"
     ]
    }
   ],
   "source": [
    "# import module sys to get the type of exception\n",
    "import sys\n",
    "\n",
    "randomList = ['a', 0, 2]\n",
    "\n",
    "for entry in randomList:\n",
    "    try:\n",
    "        print(\"The entry is\", entry)\n",
    "        r = 1/int(entry)\n",
    "        break\n",
    "    except:\n",
    "        print(\"Oops!\", sys.exc_info()[0], \"occured.\")\n",
    "        print(\"Next entry.\")\n",
    "        print()\n",
    "print(\"The reciprocal of\", entry, \"is\", r)"
   ]
  },
  {
   "cell_type": "code",
   "execution_count": null,
   "metadata": {},
   "outputs": [],
   "source": [
    "# Using raise\n",
    "\n",
    "class Solution:\n",
    "    def isCousins(self, root: TreeNode, x: int, y: int) -> bool:\n",
    "        xh = yh = -10\n",
    "\n",
    "        def getHeight(node):\n",
    "            nonlocal xh, yh\n",
    "            if not node:\n",
    "                return 0\n",
    "\n",
    "            lh = getHeight(node.left)\n",
    "            rh = getHeight(node.right)\n",
    "            height = 0\n",
    "\n",
    "            if lh > rh:\n",
    "                height = lh+1\n",
    "            else:\n",
    "                height = rh+1\n",
    "\n",
    "            if xh > 0 and yh > 0:\n",
    "                if node.left and node.right and \\\n",
    "                    ((node.left.val == x and node.right.val == y) or \\\n",
    "                    (node.right.val == y and node.right.val == x)):\n",
    "                    # not cousin\n",
    "                    raise Exception(\"No\")\n",
    "                if xh == yh:\n",
    "                    # is cousin\n",
    "                    raise Exception(\"Yes\")\n",
    "                else:\n",
    "                    # not counsin\n",
    "                    raise Exception(\"No\")\n",
    "            \n",
    "            if node.val == x:\n",
    "                xh = height\n",
    "            if node.val == y:\n",
    "                yh = height\n",
    "            \n",
    "            return height\n",
    "        \n",
    "        try:\n",
    "            ret = getHeight(root)\n",
    "        except Exception as exc:\n",
    "            if str(exc) == 'Yes':\n",
    "                return True\n",
    "            else:\n",
    "                return False\n",
    "\n",
    "        return False\n",
    "        "
   ]
  },
  {
   "cell_type": "markdown",
   "metadata": {},
   "source": [
    "# Object Oriented Design (OOD)"
   ]
  },
  {
   "cell_type": "markdown",
   "metadata": {},
   "source": [
    "## built-in methods for OO"
   ]
  },
  {
   "cell_type": "markdown",
   "metadata": {},
   "source": [
    "### isinstance(object, classinfo)\n",
    "Return True if the object argument is an instance of the classinfo argument, or of a (direct, indirect, or virtual) subclass thereof.\n",
    "\n",
    "If classinfo is a tuple of type objects (or recursively, other such tuples) or a Union Type of multiple types, return True if object is an instance of any of the types."
   ]
  },
  {
   "cell_type": "markdown",
   "metadata": {},
   "source": [
    "### issubclass(class, classinfo)\n",
    "Return True if class is a subclass (direct, indirect, or virtual) of classinfo. A class is considered a subclass of itself. "
   ]
  },
  {
   "cell_type": "markdown",
   "metadata": {},
   "source": [
    "### vars(object)\n",
    "Return the __dict__ attribute for a module, class, instance, or any other object with a **__dict__** attribute.\n",
    "\n",
    "Without an argument, vars() acts like locals().\n",
    "\n",
    "A TypeError exception is raised if an object is specified but it doesn’t have a __dict__ attribute (for example, if its class defines the __slots__ attribute)."
   ]
  },
  {
   "cell_type": "markdown",
   "metadata": {},
   "source": [
    "## Generators"
   ]
  },
  {
   "cell_type": "markdown",
   "metadata": {},
   "source": [
    "### iterable, iterator, iteration\n",
    "\n",
    "**iterable**\n",
    "An iterable is any object in Python which has an __iter__ or a __getitem__ method defined which returns an iterator or can take indexes (You can read more about them here). In short an iterable is any object which can provide us with an iterator. \n",
    "\n",
    "**iterator**\n",
    "An iterator is any object in Python which has a next (Python2) or __next__ method defined. That’s it. \n",
    "\n",
    "\n",
    "**iteration**\n",
    "In simple words it is the process of taking an item from something e.g a list. When we use a loop to loop over something it is called iteration. It is the name given to the process itself. \n",
    "\n"
   ]
  },
  {
   "cell_type": "markdown",
   "metadata": {},
   "source": [
    "### generators\n",
    "\n",
    "Generators are iterators, but you can only iterate over them once. It’s because they do not store all the values in memory, they generate the values on the fly. \n",
    "\n",
    "Why use generators:\n",
    "- Generators are best for calculating large sets of results (particularly calculations involving loops themselves) where you don’t want to allocate the memory for all results at the same time.\n",
    "\n",
    "\n",
    "```Python\n",
    "def generator_function():\n",
    "    for i in range(10):\n",
    "        yield i\n",
    "\n",
    "for item in generator_function():\n",
    "    print(item)\n",
    "\n",
    "# Output: 0\n",
    "# 1\n",
    "# 2\n",
    "# 3\n",
    "# 4\n",
    "# 5\n",
    "# 6\n",
    "# 7\n",
    "# 8\n",
    "# 9\n",
    "```"
   ]
  },
  {
   "cell_type": "code",
   "execution_count": null,
   "metadata": {},
   "outputs": [],
   "source": []
  },
  {
   "cell_type": "markdown",
   "metadata": {},
   "source": [
    "# I/O related"
   ]
  },
  {
   "cell_type": "markdown",
   "metadata": {},
   "source": [
    "## read from stdin\n",
    "\n",
    "### input()\n",
    "If the prompt argument is present, it is written to standard output without a trailing newline. The function then reads a line from input, converts it to a string (stripping a trailing newline), and returns that. When EOF is read, EOFError is raised.\n",
    "```Python\n",
    ">>> s = input(\"$$ \")\n",
    "$$ What are you doing\n",
    ">>> s\n",
    "'What are you doing'\n",
    "```"
   ]
  },
  {
   "cell_type": "markdown",
   "metadata": {},
   "source": [
    "### `sys.stdin` \n",
    "\n",
    "Python sys module stdin is used by the interpreter for standard input. Internally, it calls the input() function. The input string is appended with a newline character (\\n) in the end. So, you can use the rstrip() function to remove it.\n",
    "\n",
    "```Python\n",
    "import sys\n",
    "\n",
    "for line in sys.stdin:\n",
    "    if 'Exit' == line.rstrip():\n",
    "        break\n",
    "    print(f'Processing Message from sys.stdin *****{line}*****')\n",
    "print(\"Done\")\n",
    "```"
   ]
  },
  {
   "cell_type": "code",
   "execution_count": null,
   "metadata": {},
   "outputs": [],
   "source": []
  }
 ],
 "metadata": {
  "kernelspec": {
   "display_name": "Python 3 (ipykernel)",
   "language": "python",
   "name": "python3"
  },
  "language_info": {
   "codemirror_mode": {
    "name": "ipython",
    "version": 3
   },
   "file_extension": ".py",
   "mimetype": "text/x-python",
   "name": "python",
   "nbconvert_exporter": "python",
   "pygments_lexer": "ipython3",
   "version": "3.10.13"
  }
 },
 "nbformat": 4,
 "nbformat_minor": 4
}
